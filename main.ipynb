{
 "cells": [
  {
   "cell_type": "markdown",
   "metadata": {},
   "source": [
    "# WRUV Broadcasting Dataset Project\n",
    "Authors: Sydney White and Zachary Hayes"
   ]
  },
  {
   "cell_type": "code",
   "execution_count": 1,
   "metadata": {
    "ExecuteTime": {
     "end_time": "2024-04-19T18:17:08.450922100Z",
     "start_time": "2024-04-19T18:17:07.539812900Z"
    }
   },
   "outputs": [],
   "source": [
    "import os\n",
    "import pandas as pd\n",
    "import numpy as np\n",
    "from datetime import datetime\n",
    "import matplotlib.pyplot as plt\n",
    "import seaborn as sns\n",
    "\n",
    "from bs4 import BeautifulSoup\n",
    "import requests\n",
    "\n",
    "import spotipy\n",
    "from spotipy.oauth2 import SpotifyClientCredentials\n",
    "\n",
    "import time\n",
    "from sklearn.model_selection import train_test_split"
   ]
  },
  {
   "cell_type": "markdown",
   "metadata": {},
   "source": [
    "## Data Collection, Cleaning, and Feature Engineering\n",
    "#### Initial Collection and Cleaning\n"
   ]
  },
  {
   "cell_type": "code",
   "execution_count": 2,
   "metadata": {
    "ExecuteTime": {
     "end_time": "2024-04-19T18:17:11.644085700Z",
     "start_time": "2024-04-19T18:17:08.430981500Z"
    }
   },
   "outputs": [
    {
     "ename": "PermissionError",
     "evalue": "[Errno 13] Permission denied: 'dataset/.ipynb_checkpoints'",
     "output_type": "error",
     "traceback": [
      "\u001b[1;31m---------------------------------------------------------------------------\u001b[0m",
      "\u001b[1;31mPermissionError\u001b[0m                           Traceback (most recent call last)",
      "Cell \u001b[1;32mIn[2], line 5\u001b[0m\n\u001b[0;32m      3\u001b[0m directory \u001b[38;5;241m=\u001b[39m \u001b[38;5;124m\"\u001b[39m\u001b[38;5;124mdataset\u001b[39m\u001b[38;5;124m\"\u001b[39m \n\u001b[0;32m      4\u001b[0m \u001b[38;5;28;01mfor\u001b[39;00m file \u001b[38;5;129;01min\u001b[39;00m os\u001b[38;5;241m.\u001b[39mlistdir(directory):\n\u001b[1;32m----> 5\u001b[0m     df \u001b[38;5;241m=\u001b[39m \u001b[43mpd\u001b[49m\u001b[38;5;241;43m.\u001b[39;49m\u001b[43mread_csv\u001b[49m\u001b[43m(\u001b[49m\u001b[38;5;124;43mf\u001b[39;49m\u001b[38;5;124;43m'\u001b[39;49m\u001b[38;5;132;43;01m{\u001b[39;49;00m\u001b[43mdirectory\u001b[49m\u001b[38;5;132;43;01m}\u001b[39;49;00m\u001b[38;5;124;43m/\u001b[39;49m\u001b[38;5;132;43;01m{\u001b[39;49;00m\u001b[43mfile\u001b[49m\u001b[38;5;132;43;01m}\u001b[39;49;00m\u001b[38;5;124;43m'\u001b[39;49m\u001b[43m)\u001b[49m\n\u001b[0;32m      6\u001b[0m     dfs\u001b[38;5;241m.\u001b[39mappend(pd\u001b[38;5;241m.\u001b[39mread_csv(\u001b[38;5;124mf\u001b[39m\u001b[38;5;124m'\u001b[39m\u001b[38;5;132;01m{\u001b[39;00mdirectory\u001b[38;5;132;01m}\u001b[39;00m\u001b[38;5;124m/\u001b[39m\u001b[38;5;132;01m{\u001b[39;00mfile\u001b[38;5;132;01m}\u001b[39;00m\u001b[38;5;124m'\u001b[39m))\n\u001b[0;32m      7\u001b[0m df \u001b[38;5;241m=\u001b[39m pd\u001b[38;5;241m.\u001b[39mconcat(dfs, axis\u001b[38;5;241m=\u001b[39m\u001b[38;5;241m0\u001b[39m)\n",
      "File \u001b[1;32m~\\AppData\\Local\\Packages\\PythonSoftwareFoundation.Python.3.10_qbz5n2kfra8p0\\LocalCache\\local-packages\\Python310\\site-packages\\pandas\\io\\parsers\\readers.py:948\u001b[0m, in \u001b[0;36mread_csv\u001b[1;34m(filepath_or_buffer, sep, delimiter, header, names, index_col, usecols, dtype, engine, converters, true_values, false_values, skipinitialspace, skiprows, skipfooter, nrows, na_values, keep_default_na, na_filter, verbose, skip_blank_lines, parse_dates, infer_datetime_format, keep_date_col, date_parser, date_format, dayfirst, cache_dates, iterator, chunksize, compression, thousands, decimal, lineterminator, quotechar, quoting, doublequote, escapechar, comment, encoding, encoding_errors, dialect, on_bad_lines, delim_whitespace, low_memory, memory_map, float_precision, storage_options, dtype_backend)\u001b[0m\n\u001b[0;32m    935\u001b[0m kwds_defaults \u001b[38;5;241m=\u001b[39m _refine_defaults_read(\n\u001b[0;32m    936\u001b[0m     dialect,\n\u001b[0;32m    937\u001b[0m     delimiter,\n\u001b[1;32m   (...)\u001b[0m\n\u001b[0;32m    944\u001b[0m     dtype_backend\u001b[38;5;241m=\u001b[39mdtype_backend,\n\u001b[0;32m    945\u001b[0m )\n\u001b[0;32m    946\u001b[0m kwds\u001b[38;5;241m.\u001b[39mupdate(kwds_defaults)\n\u001b[1;32m--> 948\u001b[0m \u001b[38;5;28;01mreturn\u001b[39;00m \u001b[43m_read\u001b[49m\u001b[43m(\u001b[49m\u001b[43mfilepath_or_buffer\u001b[49m\u001b[43m,\u001b[49m\u001b[43m \u001b[49m\u001b[43mkwds\u001b[49m\u001b[43m)\u001b[49m\n",
      "File \u001b[1;32m~\\AppData\\Local\\Packages\\PythonSoftwareFoundation.Python.3.10_qbz5n2kfra8p0\\LocalCache\\local-packages\\Python310\\site-packages\\pandas\\io\\parsers\\readers.py:611\u001b[0m, in \u001b[0;36m_read\u001b[1;34m(filepath_or_buffer, kwds)\u001b[0m\n\u001b[0;32m    608\u001b[0m _validate_names(kwds\u001b[38;5;241m.\u001b[39mget(\u001b[38;5;124m\"\u001b[39m\u001b[38;5;124mnames\u001b[39m\u001b[38;5;124m\"\u001b[39m, \u001b[38;5;28;01mNone\u001b[39;00m))\n\u001b[0;32m    610\u001b[0m \u001b[38;5;66;03m# Create the parser.\u001b[39;00m\n\u001b[1;32m--> 611\u001b[0m parser \u001b[38;5;241m=\u001b[39m TextFileReader(filepath_or_buffer, \u001b[38;5;241m*\u001b[39m\u001b[38;5;241m*\u001b[39mkwds)\n\u001b[0;32m    613\u001b[0m \u001b[38;5;28;01mif\u001b[39;00m chunksize \u001b[38;5;129;01mor\u001b[39;00m iterator:\n\u001b[0;32m    614\u001b[0m     \u001b[38;5;28;01mreturn\u001b[39;00m parser\n",
      "File \u001b[1;32m~\\AppData\\Local\\Packages\\PythonSoftwareFoundation.Python.3.10_qbz5n2kfra8p0\\LocalCache\\local-packages\\Python310\\site-packages\\pandas\\io\\parsers\\readers.py:1448\u001b[0m, in \u001b[0;36mTextFileReader.__init__\u001b[1;34m(self, f, engine, **kwds)\u001b[0m\n\u001b[0;32m   1445\u001b[0m     \u001b[38;5;28mself\u001b[39m\u001b[38;5;241m.\u001b[39moptions[\u001b[38;5;124m\"\u001b[39m\u001b[38;5;124mhas_index_names\u001b[39m\u001b[38;5;124m\"\u001b[39m] \u001b[38;5;241m=\u001b[39m kwds[\u001b[38;5;124m\"\u001b[39m\u001b[38;5;124mhas_index_names\u001b[39m\u001b[38;5;124m\"\u001b[39m]\n\u001b[0;32m   1447\u001b[0m \u001b[38;5;28mself\u001b[39m\u001b[38;5;241m.\u001b[39mhandles: IOHandles \u001b[38;5;241m|\u001b[39m \u001b[38;5;28;01mNone\u001b[39;00m \u001b[38;5;241m=\u001b[39m \u001b[38;5;28;01mNone\u001b[39;00m\n\u001b[1;32m-> 1448\u001b[0m \u001b[38;5;28mself\u001b[39m\u001b[38;5;241m.\u001b[39m_engine \u001b[38;5;241m=\u001b[39m \u001b[38;5;28;43mself\u001b[39;49m\u001b[38;5;241;43m.\u001b[39;49m\u001b[43m_make_engine\u001b[49m\u001b[43m(\u001b[49m\u001b[43mf\u001b[49m\u001b[43m,\u001b[49m\u001b[43m \u001b[49m\u001b[38;5;28;43mself\u001b[39;49m\u001b[38;5;241;43m.\u001b[39;49m\u001b[43mengine\u001b[49m\u001b[43m)\u001b[49m\n",
      "File \u001b[1;32m~\\AppData\\Local\\Packages\\PythonSoftwareFoundation.Python.3.10_qbz5n2kfra8p0\\LocalCache\\local-packages\\Python310\\site-packages\\pandas\\io\\parsers\\readers.py:1705\u001b[0m, in \u001b[0;36mTextFileReader._make_engine\u001b[1;34m(self, f, engine)\u001b[0m\n\u001b[0;32m   1703\u001b[0m     \u001b[38;5;28;01mif\u001b[39;00m \u001b[38;5;124m\"\u001b[39m\u001b[38;5;124mb\u001b[39m\u001b[38;5;124m\"\u001b[39m \u001b[38;5;129;01mnot\u001b[39;00m \u001b[38;5;129;01min\u001b[39;00m mode:\n\u001b[0;32m   1704\u001b[0m         mode \u001b[38;5;241m+\u001b[39m\u001b[38;5;241m=\u001b[39m \u001b[38;5;124m\"\u001b[39m\u001b[38;5;124mb\u001b[39m\u001b[38;5;124m\"\u001b[39m\n\u001b[1;32m-> 1705\u001b[0m \u001b[38;5;28mself\u001b[39m\u001b[38;5;241m.\u001b[39mhandles \u001b[38;5;241m=\u001b[39m \u001b[43mget_handle\u001b[49m\u001b[43m(\u001b[49m\n\u001b[0;32m   1706\u001b[0m \u001b[43m    \u001b[49m\u001b[43mf\u001b[49m\u001b[43m,\u001b[49m\n\u001b[0;32m   1707\u001b[0m \u001b[43m    \u001b[49m\u001b[43mmode\u001b[49m\u001b[43m,\u001b[49m\n\u001b[0;32m   1708\u001b[0m \u001b[43m    \u001b[49m\u001b[43mencoding\u001b[49m\u001b[38;5;241;43m=\u001b[39;49m\u001b[38;5;28;43mself\u001b[39;49m\u001b[38;5;241;43m.\u001b[39;49m\u001b[43moptions\u001b[49m\u001b[38;5;241;43m.\u001b[39;49m\u001b[43mget\u001b[49m\u001b[43m(\u001b[49m\u001b[38;5;124;43m\"\u001b[39;49m\u001b[38;5;124;43mencoding\u001b[39;49m\u001b[38;5;124;43m\"\u001b[39;49m\u001b[43m,\u001b[49m\u001b[43m \u001b[49m\u001b[38;5;28;43;01mNone\u001b[39;49;00m\u001b[43m)\u001b[49m\u001b[43m,\u001b[49m\n\u001b[0;32m   1709\u001b[0m \u001b[43m    \u001b[49m\u001b[43mcompression\u001b[49m\u001b[38;5;241;43m=\u001b[39;49m\u001b[38;5;28;43mself\u001b[39;49m\u001b[38;5;241;43m.\u001b[39;49m\u001b[43moptions\u001b[49m\u001b[38;5;241;43m.\u001b[39;49m\u001b[43mget\u001b[49m\u001b[43m(\u001b[49m\u001b[38;5;124;43m\"\u001b[39;49m\u001b[38;5;124;43mcompression\u001b[39;49m\u001b[38;5;124;43m\"\u001b[39;49m\u001b[43m,\u001b[49m\u001b[43m \u001b[49m\u001b[38;5;28;43;01mNone\u001b[39;49;00m\u001b[43m)\u001b[49m\u001b[43m,\u001b[49m\n\u001b[0;32m   1710\u001b[0m \u001b[43m    \u001b[49m\u001b[43mmemory_map\u001b[49m\u001b[38;5;241;43m=\u001b[39;49m\u001b[38;5;28;43mself\u001b[39;49m\u001b[38;5;241;43m.\u001b[39;49m\u001b[43moptions\u001b[49m\u001b[38;5;241;43m.\u001b[39;49m\u001b[43mget\u001b[49m\u001b[43m(\u001b[49m\u001b[38;5;124;43m\"\u001b[39;49m\u001b[38;5;124;43mmemory_map\u001b[39;49m\u001b[38;5;124;43m\"\u001b[39;49m\u001b[43m,\u001b[49m\u001b[43m \u001b[49m\u001b[38;5;28;43;01mFalse\u001b[39;49;00m\u001b[43m)\u001b[49m\u001b[43m,\u001b[49m\n\u001b[0;32m   1711\u001b[0m \u001b[43m    \u001b[49m\u001b[43mis_text\u001b[49m\u001b[38;5;241;43m=\u001b[39;49m\u001b[43mis_text\u001b[49m\u001b[43m,\u001b[49m\n\u001b[0;32m   1712\u001b[0m \u001b[43m    \u001b[49m\u001b[43merrors\u001b[49m\u001b[38;5;241;43m=\u001b[39;49m\u001b[38;5;28;43mself\u001b[39;49m\u001b[38;5;241;43m.\u001b[39;49m\u001b[43moptions\u001b[49m\u001b[38;5;241;43m.\u001b[39;49m\u001b[43mget\u001b[49m\u001b[43m(\u001b[49m\u001b[38;5;124;43m\"\u001b[39;49m\u001b[38;5;124;43mencoding_errors\u001b[39;49m\u001b[38;5;124;43m\"\u001b[39;49m\u001b[43m,\u001b[49m\u001b[43m \u001b[49m\u001b[38;5;124;43m\"\u001b[39;49m\u001b[38;5;124;43mstrict\u001b[39;49m\u001b[38;5;124;43m\"\u001b[39;49m\u001b[43m)\u001b[49m\u001b[43m,\u001b[49m\n\u001b[0;32m   1713\u001b[0m \u001b[43m    \u001b[49m\u001b[43mstorage_options\u001b[49m\u001b[38;5;241;43m=\u001b[39;49m\u001b[38;5;28;43mself\u001b[39;49m\u001b[38;5;241;43m.\u001b[39;49m\u001b[43moptions\u001b[49m\u001b[38;5;241;43m.\u001b[39;49m\u001b[43mget\u001b[49m\u001b[43m(\u001b[49m\u001b[38;5;124;43m\"\u001b[39;49m\u001b[38;5;124;43mstorage_options\u001b[39;49m\u001b[38;5;124;43m\"\u001b[39;49m\u001b[43m,\u001b[49m\u001b[43m \u001b[49m\u001b[38;5;28;43;01mNone\u001b[39;49;00m\u001b[43m)\u001b[49m\u001b[43m,\u001b[49m\n\u001b[0;32m   1714\u001b[0m \u001b[43m\u001b[49m\u001b[43m)\u001b[49m\n\u001b[0;32m   1715\u001b[0m \u001b[38;5;28;01massert\u001b[39;00m \u001b[38;5;28mself\u001b[39m\u001b[38;5;241m.\u001b[39mhandles \u001b[38;5;129;01mis\u001b[39;00m \u001b[38;5;129;01mnot\u001b[39;00m \u001b[38;5;28;01mNone\u001b[39;00m\n\u001b[0;32m   1716\u001b[0m f \u001b[38;5;241m=\u001b[39m \u001b[38;5;28mself\u001b[39m\u001b[38;5;241m.\u001b[39mhandles\u001b[38;5;241m.\u001b[39mhandle\n",
      "File \u001b[1;32m~\\AppData\\Local\\Packages\\PythonSoftwareFoundation.Python.3.10_qbz5n2kfra8p0\\LocalCache\\local-packages\\Python310\\site-packages\\pandas\\io\\common.py:863\u001b[0m, in \u001b[0;36mget_handle\u001b[1;34m(path_or_buf, mode, encoding, compression, memory_map, is_text, errors, storage_options)\u001b[0m\n\u001b[0;32m    858\u001b[0m \u001b[38;5;28;01melif\u001b[39;00m \u001b[38;5;28misinstance\u001b[39m(handle, \u001b[38;5;28mstr\u001b[39m):\n\u001b[0;32m    859\u001b[0m     \u001b[38;5;66;03m# Check whether the filename is to be opened in binary mode.\u001b[39;00m\n\u001b[0;32m    860\u001b[0m     \u001b[38;5;66;03m# Binary mode does not support 'encoding' and 'newline'.\u001b[39;00m\n\u001b[0;32m    861\u001b[0m     \u001b[38;5;28;01mif\u001b[39;00m ioargs\u001b[38;5;241m.\u001b[39mencoding \u001b[38;5;129;01mand\u001b[39;00m \u001b[38;5;124m\"\u001b[39m\u001b[38;5;124mb\u001b[39m\u001b[38;5;124m\"\u001b[39m \u001b[38;5;129;01mnot\u001b[39;00m \u001b[38;5;129;01min\u001b[39;00m ioargs\u001b[38;5;241m.\u001b[39mmode:\n\u001b[0;32m    862\u001b[0m         \u001b[38;5;66;03m# Encoding\u001b[39;00m\n\u001b[1;32m--> 863\u001b[0m         handle \u001b[38;5;241m=\u001b[39m \u001b[38;5;28;43mopen\u001b[39;49m\u001b[43m(\u001b[49m\n\u001b[0;32m    864\u001b[0m \u001b[43m            \u001b[49m\u001b[43mhandle\u001b[49m\u001b[43m,\u001b[49m\n\u001b[0;32m    865\u001b[0m \u001b[43m            \u001b[49m\u001b[43mioargs\u001b[49m\u001b[38;5;241;43m.\u001b[39;49m\u001b[43mmode\u001b[49m\u001b[43m,\u001b[49m\n\u001b[0;32m    866\u001b[0m \u001b[43m            \u001b[49m\u001b[43mencoding\u001b[49m\u001b[38;5;241;43m=\u001b[39;49m\u001b[43mioargs\u001b[49m\u001b[38;5;241;43m.\u001b[39;49m\u001b[43mencoding\u001b[49m\u001b[43m,\u001b[49m\n\u001b[0;32m    867\u001b[0m \u001b[43m            \u001b[49m\u001b[43merrors\u001b[49m\u001b[38;5;241;43m=\u001b[39;49m\u001b[43merrors\u001b[49m\u001b[43m,\u001b[49m\n\u001b[0;32m    868\u001b[0m \u001b[43m            \u001b[49m\u001b[43mnewline\u001b[49m\u001b[38;5;241;43m=\u001b[39;49m\u001b[38;5;124;43m\"\u001b[39;49m\u001b[38;5;124;43m\"\u001b[39;49m\u001b[43m,\u001b[49m\n\u001b[0;32m    869\u001b[0m \u001b[43m        \u001b[49m\u001b[43m)\u001b[49m\n\u001b[0;32m    870\u001b[0m     \u001b[38;5;28;01melse\u001b[39;00m:\n\u001b[0;32m    871\u001b[0m         \u001b[38;5;66;03m# Binary mode\u001b[39;00m\n\u001b[0;32m    872\u001b[0m         handle \u001b[38;5;241m=\u001b[39m \u001b[38;5;28mopen\u001b[39m(handle, ioargs\u001b[38;5;241m.\u001b[39mmode)\n",
      "\u001b[1;31mPermissionError\u001b[0m: [Errno 13] Permission denied: 'dataset/.ipynb_checkpoints'"
     ]
    }
   ],
   "source": [
    "# Collect data CSVs into a single dataframe\n",
    "dfs = []\n",
    "directory = \"dataset\" \n",
    "for file in os.listdir(directory):\n",
    "    df = pd.read_csv(f'{directory}/{file}')\n",
    "    dfs.append(pd.read_csv(f'{directory}/{file}'))\n",
    "df = pd.concat(dfs, axis=0)\n",
    "df.sort_values(\"Date-time\", inplace=True, ignore_index=True)\n",
    "# Drop columns that we already know we don't need\n",
    "df.drop([\"Playlist Category\", \"DJ Email\", \"Date-time\", \"Composer\"], axis=1, inplace=True)\n",
    "df[\"Date\"] = pd.to_datetime(df[\"Date\"])\n",
    "df"
   ]
  },
  {
   "cell_type": "code",
   "execution_count": 3,
   "metadata": {
    "ExecuteTime": {
     "end_time": "2024-04-09T14:26:18.187690500Z",
     "start_time": "2024-04-09T14:26:18.166059300Z"
    }
   },
   "outputs": [
    {
     "ename": "NameError",
     "evalue": "name 'df' is not defined",
     "output_type": "error",
     "traceback": [
      "\u001b[1;31m---------------------------------------------------------------------------\u001b[0m",
      "\u001b[1;31mNameError\u001b[0m                                 Traceback (most recent call last)",
      "Cell \u001b[1;32mIn[3], line 2\u001b[0m\n\u001b[0;32m      1\u001b[0m \u001b[38;5;66;03m# Count null values\u001b[39;00m\n\u001b[1;32m----> 2\u001b[0m \u001b[43mdf\u001b[49m\u001b[38;5;241m.\u001b[39misna()\u001b[38;5;241m.\u001b[39msum()\n",
      "\u001b[1;31mNameError\u001b[0m: name 'df' is not defined"
     ]
    }
   ],
   "source": [
    "# Count null values\n",
    "df.isna().sum()"
   ]
  },
  {
   "cell_type": "code",
   "execution_count": 4,
   "metadata": {
    "ExecuteTime": {
     "end_time": "2024-04-19T18:17:13.663054200Z",
     "start_time": "2024-04-19T18:17:13.441056Z"
    }
   },
   "outputs": [
    {
     "ename": "NameError",
     "evalue": "name 'df' is not defined",
     "output_type": "error",
     "traceback": [
      "\u001b[1;31m---------------------------------------------------------------------------\u001b[0m",
      "\u001b[1;31mNameError\u001b[0m                                 Traceback (most recent call last)",
      "Cell \u001b[1;32mIn[4], line 2\u001b[0m\n\u001b[0;32m      1\u001b[0m \u001b[38;5;66;03m# Clean the null values from the boolean columns New and Local\u001b[39;00m\n\u001b[1;32m----> 2\u001b[0m df[\u001b[38;5;124m\"\u001b[39m\u001b[38;5;124mNew\u001b[39m\u001b[38;5;124m\"\u001b[39m] \u001b[38;5;241m=\u001b[39m \u001b[43mdf\u001b[49m[\u001b[38;5;124m\"\u001b[39m\u001b[38;5;124mNew\u001b[39m\u001b[38;5;124m\"\u001b[39m]\u001b[38;5;241m.\u001b[39mmap({\u001b[38;5;124m\"\u001b[39m\u001b[38;5;124mN\u001b[39m\u001b[38;5;124m\"\u001b[39m: \u001b[38;5;241m1\u001b[39m, np\u001b[38;5;241m.\u001b[39mnan: \u001b[38;5;241m0\u001b[39m})\n\u001b[0;32m      3\u001b[0m df[\u001b[38;5;124m\"\u001b[39m\u001b[38;5;124mLocal\u001b[39m\u001b[38;5;124m\"\u001b[39m] \u001b[38;5;241m=\u001b[39m df[\u001b[38;5;124m\"\u001b[39m\u001b[38;5;124mLocal\u001b[39m\u001b[38;5;124m\"\u001b[39m]\u001b[38;5;241m.\u001b[39mmap({\u001b[38;5;124m\"\u001b[39m\u001b[38;5;124mL\u001b[39m\u001b[38;5;124m\"\u001b[39m: \u001b[38;5;241m1\u001b[39m, np\u001b[38;5;241m.\u001b[39mnan: \u001b[38;5;241m0\u001b[39m})\n\u001b[0;32m      5\u001b[0m \u001b[38;5;66;03m# Since there are only 56 instances where artist, song, or release are null,\u001b[39;00m\n\u001b[0;32m      6\u001b[0m \u001b[38;5;66;03m# we feel comfortable dropping those instances\u001b[39;00m\n",
      "\u001b[1;31mNameError\u001b[0m: name 'df' is not defined"
     ]
    }
   ],
   "source": [
    "# Clean the null values from the boolean columns New and Local\n",
    "df[\"New\"] = df[\"New\"].map({\"N\": 1, np.nan: 0})\n",
    "df[\"Local\"] = df[\"Local\"].map({\"L\": 1, np.nan: 0})\n",
    "\n",
    "# Since there are only 56 instances where artist, song, or release are null,\n",
    "# we feel comfortable dropping those instances\n",
    "df = df.dropna(subset=[\"Artist\", \"Song\", \"Release\"])\n",
    "\n",
    "# Count null values again\n",
    "df.isna().sum()\n"
   ]
  },
  {
   "cell_type": "code",
   "execution_count": 5,
   "metadata": {},
   "outputs": [],
   "source": [
    "# A simplfied billboard scraping function\n",
    "def artist_billboard(artist_name):\n",
    "    # convert artist name to - if spaces\n",
    "    artist_name = artist_name.lower()\n",
    "    artist_name = artist_name.replace(' ', '-')\n",
    "    # if the name is in the saved dictionary (also saves time) \n",
    "    if artist_name in ARTIST_BB.keys():\n",
    "        return ARTIST_BB[artist_name]\n",
    "    else:\n",
    "        base = 'https://www.billboard.com/artist/'\n",
    "        url = base + artist_name\n",
    "        page = requests.get(url)\n",
    "        # if the page is not found, they are not a billboard artist \n",
    "        if page.reason == \"Not Found\":\n",
    "            ARTIST_BB[artist_name] = 0\n",
    "            return 0\n",
    "        else:\n",
    "            return 1 \n",
    "\n",
    "# to apply: df['artistBB'] = df['Artist'].apply(artist_billboard)"
   ]
  },
  {
   "cell_type": "markdown",
   "metadata": {},
   "source": [
    "#### Smaller Dataset for Policy Violation Regression "
   ]
  },
  {
   "cell_type": "code",
   "execution_count": 2,
   "metadata": {
    "ExecuteTime": {
     "end_time": "2024-04-14T03:28:01.893491200Z",
     "start_time": "2024-04-14T03:28:01.802584800Z"
    }
   },
   "outputs": [
    {
     "data": {
      "text/html": [
       "<div>\n",
       "<style scoped>\n",
       "    .dataframe tbody tr th:only-of-type {\n",
       "        vertical-align: middle;\n",
       "    }\n",
       "\n",
       "    .dataframe tbody tr th {\n",
       "        vertical-align: top;\n",
       "    }\n",
       "\n",
       "    .dataframe thead th {\n",
       "        text-align: right;\n",
       "    }\n",
       "</style>\n",
       "<table border=\"1\" class=\"dataframe\">\n",
       "  <thead>\n",
       "    <tr style=\"text-align: right;\">\n",
       "      <th></th>\n",
       "      <th>Unnamed: 0.1</th>\n",
       "      <th>Unnamed: 0</th>\n",
       "      <th>Playlist Title</th>\n",
       "      <th>DJ ID</th>\n",
       "      <th>DJ Name</th>\n",
       "      <th>Date</th>\n",
       "      <th>Time</th>\n",
       "      <th>Artist</th>\n",
       "      <th>Song</th>\n",
       "      <th>Release</th>\n",
       "      <th>...</th>\n",
       "      <th>loudness</th>\n",
       "      <th>mode</th>\n",
       "      <th>speechiness</th>\n",
       "      <th>acousticness</th>\n",
       "      <th>instruemtnalness</th>\n",
       "      <th>liveness</th>\n",
       "      <th>valence</th>\n",
       "      <th>tempo</th>\n",
       "      <th>duration_ms</th>\n",
       "      <th>Day</th>\n",
       "    </tr>\n",
       "  </thead>\n",
       "  <tbody>\n",
       "    <tr>\n",
       "      <th>0</th>\n",
       "      <td>0</td>\n",
       "      <td>32428</td>\n",
       "      <td>WRUV 1/1/24, 12:00 AM</td>\n",
       "      <td>64581</td>\n",
       "      <td>Program Director</td>\n",
       "      <td>2024-01-01</td>\n",
       "      <td>12:00:43 AM</td>\n",
       "      <td>Darian Stavans</td>\n",
       "      <td>Ballad</td>\n",
       "      <td>Jazzy´Blue</td>\n",
       "      <td>...</td>\n",
       "      <td>0.000</td>\n",
       "      <td>0.0</td>\n",
       "      <td>0.0000</td>\n",
       "      <td>0.0000</td>\n",
       "      <td>0.000000</td>\n",
       "      <td>0.0000</td>\n",
       "      <td>0.000</td>\n",
       "      <td>0.000</td>\n",
       "      <td>0.0</td>\n",
       "      <td>Monday</td>\n",
       "    </tr>\n",
       "    <tr>\n",
       "      <th>1</th>\n",
       "      <td>1</td>\n",
       "      <td>32429</td>\n",
       "      <td>WRUV 1/1/24, 12:00 AM</td>\n",
       "      <td>64581</td>\n",
       "      <td>Program Director</td>\n",
       "      <td>2024-01-01</td>\n",
       "      <td>12:03:25 AM</td>\n",
       "      <td>Mack Fields</td>\n",
       "      <td>I Like to Yodel</td>\n",
       "      <td>Cults Hits Novelty Classics, Vol. 1</td>\n",
       "      <td>...</td>\n",
       "      <td>0.000</td>\n",
       "      <td>0.0</td>\n",
       "      <td>0.0000</td>\n",
       "      <td>0.0000</td>\n",
       "      <td>0.000000</td>\n",
       "      <td>0.0000</td>\n",
       "      <td>0.000</td>\n",
       "      <td>0.000</td>\n",
       "      <td>0.0</td>\n",
       "      <td>Monday</td>\n",
       "    </tr>\n",
       "    <tr>\n",
       "      <th>2</th>\n",
       "      <td>2</td>\n",
       "      <td>32430</td>\n",
       "      <td>WRUV 1/1/24, 12:00 AM</td>\n",
       "      <td>64581</td>\n",
       "      <td>Program Director</td>\n",
       "      <td>2024-01-01</td>\n",
       "      <td>12:05:48 AM</td>\n",
       "      <td>Real Estate</td>\n",
       "      <td>Water Underground</td>\n",
       "      <td>Water Underground</td>\n",
       "      <td>...</td>\n",
       "      <td>-7.245</td>\n",
       "      <td>1.0</td>\n",
       "      <td>0.0314</td>\n",
       "      <td>0.0232</td>\n",
       "      <td>0.054200</td>\n",
       "      <td>0.1330</td>\n",
       "      <td>0.919</td>\n",
       "      <td>111.907</td>\n",
       "      <td>206547.0</td>\n",
       "      <td>Monday</td>\n",
       "    </tr>\n",
       "    <tr>\n",
       "      <th>3</th>\n",
       "      <td>3</td>\n",
       "      <td>32431</td>\n",
       "      <td>WRUV 1/1/24, 12:00 AM</td>\n",
       "      <td>64581</td>\n",
       "      <td>Program Director</td>\n",
       "      <td>2024-01-01</td>\n",
       "      <td>12:09:14 AM</td>\n",
       "      <td>My Morning Jacket</td>\n",
       "      <td>Feelin Sorry</td>\n",
       "      <td>Feelin Sorry</td>\n",
       "      <td>...</td>\n",
       "      <td>0.000</td>\n",
       "      <td>0.0</td>\n",
       "      <td>0.0000</td>\n",
       "      <td>0.0000</td>\n",
       "      <td>0.000000</td>\n",
       "      <td>0.0000</td>\n",
       "      <td>0.000</td>\n",
       "      <td>0.000</td>\n",
       "      <td>0.0</td>\n",
       "      <td>Monday</td>\n",
       "    </tr>\n",
       "    <tr>\n",
       "      <th>4</th>\n",
       "      <td>4</td>\n",
       "      <td>32432</td>\n",
       "      <td>WRUV 1/1/24, 12:00 AM</td>\n",
       "      <td>64581</td>\n",
       "      <td>Program Director</td>\n",
       "      <td>2024-01-01</td>\n",
       "      <td>12:12:02 AM</td>\n",
       "      <td>Joni Mitchell</td>\n",
       "      <td>A Case of You (feat. Marcus Mumford)</td>\n",
       "      <td>A Case of You (feat. Marcus Mumford) (Live at ...</td>\n",
       "      <td>...</td>\n",
       "      <td>0.000</td>\n",
       "      <td>0.0</td>\n",
       "      <td>0.0000</td>\n",
       "      <td>0.0000</td>\n",
       "      <td>0.000000</td>\n",
       "      <td>0.0000</td>\n",
       "      <td>0.000</td>\n",
       "      <td>0.000</td>\n",
       "      <td>0.0</td>\n",
       "      <td>Monday</td>\n",
       "    </tr>\n",
       "    <tr>\n",
       "      <th>...</th>\n",
       "      <td>...</td>\n",
       "      <td>...</td>\n",
       "      <td>...</td>\n",
       "      <td>...</td>\n",
       "      <td>...</td>\n",
       "      <td>...</td>\n",
       "      <td>...</td>\n",
       "      <td>...</td>\n",
       "      <td>...</td>\n",
       "      <td>...</td>\n",
       "      <td>...</td>\n",
       "      <td>...</td>\n",
       "      <td>...</td>\n",
       "      <td>...</td>\n",
       "      <td>...</td>\n",
       "      <td>...</td>\n",
       "      <td>...</td>\n",
       "      <td>...</td>\n",
       "      <td>...</td>\n",
       "      <td>...</td>\n",
       "      <td>...</td>\n",
       "    </tr>\n",
       "    <tr>\n",
       "      <th>95</th>\n",
       "      <td>20895</td>\n",
       "      <td>53325</td>\n",
       "      <td>AM in the PM</td>\n",
       "      <td>169277</td>\n",
       "      <td>Ava P</td>\n",
       "      <td>2024-03-05</td>\n",
       "      <td>6:14:09 PM</td>\n",
       "      <td>Sidney Gish</td>\n",
       "      <td>I'm Filled With Steak, and Cannot Dance</td>\n",
       "      <td>No Dogs Allowed</td>\n",
       "      <td>...</td>\n",
       "      <td>0.000</td>\n",
       "      <td>0.0</td>\n",
       "      <td>0.0000</td>\n",
       "      <td>0.0000</td>\n",
       "      <td>0.000000</td>\n",
       "      <td>0.0000</td>\n",
       "      <td>0.000</td>\n",
       "      <td>0.000</td>\n",
       "      <td>0.0</td>\n",
       "      <td>Tuesday</td>\n",
       "    </tr>\n",
       "    <tr>\n",
       "      <th>96</th>\n",
       "      <td>20896</td>\n",
       "      <td>53326</td>\n",
       "      <td>AM in the PM</td>\n",
       "      <td>169277</td>\n",
       "      <td>Ava P</td>\n",
       "      <td>2024-03-05</td>\n",
       "      <td>6:17:29 PM</td>\n",
       "      <td>Lunar Vacation</td>\n",
       "      <td>Blue Honey</td>\n",
       "      <td>Swell</td>\n",
       "      <td>...</td>\n",
       "      <td>-13.841</td>\n",
       "      <td>0.0</td>\n",
       "      <td>0.0555</td>\n",
       "      <td>0.0263</td>\n",
       "      <td>0.015700</td>\n",
       "      <td>0.3450</td>\n",
       "      <td>0.503</td>\n",
       "      <td>159.921</td>\n",
       "      <td>154960.0</td>\n",
       "      <td>Tuesday</td>\n",
       "    </tr>\n",
       "    <tr>\n",
       "      <th>97</th>\n",
       "      <td>20897</td>\n",
       "      <td>53327</td>\n",
       "      <td>AM in the PM</td>\n",
       "      <td>169277</td>\n",
       "      <td>Ava P</td>\n",
       "      <td>2024-03-05</td>\n",
       "      <td>6:19:57 PM</td>\n",
       "      <td>Buffalo Tom</td>\n",
       "      <td>Mineral</td>\n",
       "      <td>Let Me Come Over</td>\n",
       "      <td>...</td>\n",
       "      <td>0.000</td>\n",
       "      <td>0.0</td>\n",
       "      <td>0.0000</td>\n",
       "      <td>0.0000</td>\n",
       "      <td>0.000000</td>\n",
       "      <td>0.0000</td>\n",
       "      <td>0.000</td>\n",
       "      <td>0.000</td>\n",
       "      <td>0.0</td>\n",
       "      <td>Tuesday</td>\n",
       "    </tr>\n",
       "    <tr>\n",
       "      <th>98</th>\n",
       "      <td>20898</td>\n",
       "      <td>53328</td>\n",
       "      <td>AM in the PM</td>\n",
       "      <td>169277</td>\n",
       "      <td>Ava P</td>\n",
       "      <td>2024-03-05</td>\n",
       "      <td>6:25:00 PM</td>\n",
       "      <td>R.E.M.</td>\n",
       "      <td>Try Not To Breathe</td>\n",
       "      <td>Automatic For The People</td>\n",
       "      <td>...</td>\n",
       "      <td>-9.517</td>\n",
       "      <td>1.0</td>\n",
       "      <td>0.0374</td>\n",
       "      <td>0.0886</td>\n",
       "      <td>0.000943</td>\n",
       "      <td>0.0901</td>\n",
       "      <td>0.602</td>\n",
       "      <td>178.630</td>\n",
       "      <td>230573.0</td>\n",
       "      <td>Tuesday</td>\n",
       "    </tr>\n",
       "    <tr>\n",
       "      <th>99</th>\n",
       "      <td>20899</td>\n",
       "      <td>53329</td>\n",
       "      <td>AM in the PM</td>\n",
       "      <td>169277</td>\n",
       "      <td>Ava P</td>\n",
       "      <td>2024-03-05</td>\n",
       "      <td>6:28:44 PM</td>\n",
       "      <td>New Order</td>\n",
       "      <td>Bizarre Love Triangle</td>\n",
       "      <td>Brotherhood [Collector's Edition]</td>\n",
       "      <td>...</td>\n",
       "      <td>-7.463</td>\n",
       "      <td>1.0</td>\n",
       "      <td>0.0520</td>\n",
       "      <td>0.0804</td>\n",
       "      <td>0.746000</td>\n",
       "      <td>0.0997</td>\n",
       "      <td>0.919</td>\n",
       "      <td>118.506</td>\n",
       "      <td>263213.0</td>\n",
       "      <td>Tuesday</td>\n",
       "    </tr>\n",
       "  </tbody>\n",
       "</table>\n",
       "<p>20900 rows × 30 columns</p>\n",
       "</div>"
      ],
      "text/plain": [
       "    Unnamed: 0.1  Unnamed: 0         Playlist Title   DJ ID           DJ Name  \\\n",
       "0              0       32428  WRUV 1/1/24, 12:00 AM   64581  Program Director   \n",
       "1              1       32429  WRUV 1/1/24, 12:00 AM   64581  Program Director   \n",
       "2              2       32430  WRUV 1/1/24, 12:00 AM   64581  Program Director   \n",
       "3              3       32431  WRUV 1/1/24, 12:00 AM   64581  Program Director   \n",
       "4              4       32432  WRUV 1/1/24, 12:00 AM   64581  Program Director   \n",
       "..           ...         ...                    ...     ...               ...   \n",
       "95         20895       53325           AM in the PM  169277             Ava P   \n",
       "96         20896       53326           AM in the PM  169277             Ava P   \n",
       "97         20897       53327           AM in the PM  169277             Ava P   \n",
       "98         20898       53328           AM in the PM  169277             Ava P   \n",
       "99         20899       53329           AM in the PM  169277             Ava P   \n",
       "\n",
       "         Date         Time             Artist  \\\n",
       "0  2024-01-01  12:00:43 AM     Darian Stavans   \n",
       "1  2024-01-01  12:03:25 AM        Mack Fields   \n",
       "2  2024-01-01  12:05:48 AM        Real Estate   \n",
       "3  2024-01-01  12:09:14 AM  My Morning Jacket   \n",
       "4  2024-01-01  12:12:02 AM      Joni Mitchell   \n",
       "..        ...          ...                ...   \n",
       "95 2024-03-05   6:14:09 PM        Sidney Gish   \n",
       "96 2024-03-05   6:17:29 PM     Lunar Vacation   \n",
       "97 2024-03-05   6:19:57 PM        Buffalo Tom   \n",
       "98 2024-03-05   6:25:00 PM             R.E.M.   \n",
       "99 2024-03-05   6:28:44 PM          New Order   \n",
       "\n",
       "                                       Song  \\\n",
       "0                                    Ballad   \n",
       "1                           I Like to Yodel   \n",
       "2                         Water Underground   \n",
       "3                              Feelin Sorry   \n",
       "4      A Case of You (feat. Marcus Mumford)   \n",
       "..                                      ...   \n",
       "95  I'm Filled With Steak, and Cannot Dance   \n",
       "96                               Blue Honey   \n",
       "97                                  Mineral   \n",
       "98                       Try Not To Breathe   \n",
       "99                    Bizarre Love Triangle   \n",
       "\n",
       "                                              Release  ...  loudness  mode  \\\n",
       "0                                          Jazzy´Blue  ...     0.000   0.0   \n",
       "1                 Cults Hits Novelty Classics, Vol. 1  ...     0.000   0.0   \n",
       "2                                   Water Underground  ...    -7.245   1.0   \n",
       "3                                        Feelin Sorry  ...     0.000   0.0   \n",
       "4   A Case of You (feat. Marcus Mumford) (Live at ...  ...     0.000   0.0   \n",
       "..                                                ...  ...       ...   ...   \n",
       "95                                    No Dogs Allowed  ...     0.000   0.0   \n",
       "96                                              Swell  ...   -13.841   0.0   \n",
       "97                                   Let Me Come Over  ...     0.000   0.0   \n",
       "98                           Automatic For The People  ...    -9.517   1.0   \n",
       "99                  Brotherhood [Collector's Edition]  ...    -7.463   1.0   \n",
       "\n",
       "   speechiness acousticness instruemtnalness  liveness  valence    tempo  \\\n",
       "0       0.0000       0.0000         0.000000    0.0000    0.000    0.000   \n",
       "1       0.0000       0.0000         0.000000    0.0000    0.000    0.000   \n",
       "2       0.0314       0.0232         0.054200    0.1330    0.919  111.907   \n",
       "3       0.0000       0.0000         0.000000    0.0000    0.000    0.000   \n",
       "4       0.0000       0.0000         0.000000    0.0000    0.000    0.000   \n",
       "..         ...          ...              ...       ...      ...      ...   \n",
       "95      0.0000       0.0000         0.000000    0.0000    0.000    0.000   \n",
       "96      0.0555       0.0263         0.015700    0.3450    0.503  159.921   \n",
       "97      0.0000       0.0000         0.000000    0.0000    0.000    0.000   \n",
       "98      0.0374       0.0886         0.000943    0.0901    0.602  178.630   \n",
       "99      0.0520       0.0804         0.746000    0.0997    0.919  118.506   \n",
       "\n",
       "    duration_ms      Day  \n",
       "0           0.0   Monday  \n",
       "1           0.0   Monday  \n",
       "2      206547.0   Monday  \n",
       "3           0.0   Monday  \n",
       "4           0.0   Monday  \n",
       "..          ...      ...  \n",
       "95          0.0  Tuesday  \n",
       "96     154960.0  Tuesday  \n",
       "97          0.0  Tuesday  \n",
       "98     230573.0  Tuesday  \n",
       "99     263213.0  Tuesday  \n",
       "\n",
       "[20900 rows x 30 columns]"
      ]
     },
     "execution_count": 2,
     "metadata": {},
     "output_type": "execute_result"
    }
   ],
   "source": [
    "# Define smaller data set for linear regression (for now)\n",
    "slices = []\n",
    "# slices are of size 100 due to Spotify constraints, currently 0 - 110 (ever growing) \n",
    "for i in range(209):\n",
    "    slices.append(pd.read_csv(f'slices/slice{i}.csv'))\n",
    "small = pd.concat(slices, axis=0)\n",
    "small[\"Date\"] = pd.to_datetime(small[\"Date\"])\n",
    "small[\"Day\"] = pd.to_datetime(small[\"Date\"]).dt.day_name()\n",
    "small.fillna(0, inplace = True)\n",
    "small"
   ]
  },
  {
   "cell_type": "markdown",
   "metadata": {},
   "source": [
    "#### Additional Collection: Filling Missing Genres and Spotify Audio Features"
   ]
  },
  {
   "cell_type": "code",
   "execution_count": 3,
   "metadata": {
    "ExecuteTime": {
     "end_time": "2024-04-07T22:20:28.441960Z",
     "start_time": "2024-04-07T22:20:24.217565Z"
    }
   },
   "outputs": [],
   "source": [
    "# global variable for valid genres in spinitron \n",
    "GENRES = small['Genre'].unique().tolist()\n",
    "for g in range(len(GENRES)):\n",
    "    GENRES[g] = (str(GENRES[g])).lower()\n",
    "    \n",
    "# function to interface with Spotify Web API app (created with id and secret below) STILL WIP!\n",
    "def spotify_connect():\n",
    "    # technically insecure to have client secret displayed like this (environment variable)\n",
    "    CLIENT_ID = '344d3b062e344710a5bdb8427358a31d'\n",
    "    CLIENT_SECRET = '9f886dde51184f989b1aff4f5ffb21f8'\n",
    "    AUTH_URL = 'https://accounts.spotify.com/api/token'\n",
    "\n",
    "    auth_manager = SpotifyClientCredentials(\n",
    "        client_id=CLIENT_ID,\n",
    "        client_secret=CLIENT_SECRET,\n",
    "        requests_session=True)\n",
    "\n",
    "    sp = spotipy.Spotify(auth_manager=auth_manager)\n",
    "    # this is our connection which we will need for any future query \n",
    "    return sp\n",
    "    \n",
    "# just making this global for effeciency (no need to reaccess every time) \n",
    "sp = spotify_connect()\n",
    "\n",
    "def get_genre_by_artist(artist_name):\n",
    "    # spotify queries are all based on Spotify URI IDs and usually return in JSON\n",
    "    try:\n",
    "        results = sp.search(q='artist:' + artist_name, type='artist', limit=10)\n",
    "    except TypeError:\n",
    "        print(artist_name + \"unable to search\")\n",
    "        return 'NA'\n",
    "    # make sure that the result is for the artist we want\n",
    "    try: \n",
    "        result_name = results['artists']['items'][0]['name']\n",
    "    except IndexError:\n",
    "        result_name = ''\n",
    "        return 'NA'\n",
    "    i = 0\n",
    "    while (result_name != artist_name) & (i < 10) & (i < len(results)):\n",
    "        result_name = results['artists']['items'][i]['name']\n",
    "        i += 1\n",
    "    if (result_name == artist_name):\n",
    "        genres = results['artists']['items'][i]['genres'] # for top result (in this case accurate, but probably not always)\n",
    "        id = results['artists']['items'][i]['id']\n",
    "        for genre in genres:\n",
    "            if genre in GENRES:\n",
    "                return genre \n",
    "    return 'NA'\n",
    "\n",
    "# to use: apply in sections of 100 from the original dataframe with \n",
    "small.loc[small[\"Genre\"] == 0, \"Genre\"] = small.loc[small[\"Genre\"].isna()].apply(get_genre_by_artist)"
   ]
  },
  {
   "cell_type": "code",
   "execution_count": 8,
   "metadata": {},
   "outputs": [
    {
     "ename": "NameError",
     "evalue": "name 'df' is not defined",
     "output_type": "error",
     "traceback": [
      "\u001b[1;31m---------------------------------------------------------------------------\u001b[0m",
      "\u001b[1;31mNameError\u001b[0m                                 Traceback (most recent call last)",
      "Cell \u001b[1;32mIn[8], line 1\u001b[0m\n\u001b[1;32m----> 1\u001b[0m \u001b[38;5;28mprint\u001b[39m(\u001b[43mdf\u001b[49m[\u001b[38;5;124m\"\u001b[39m\u001b[38;5;124mGenre\u001b[39m\u001b[38;5;124m\"\u001b[39m]\u001b[38;5;241m.\u001b[39misna()\u001b[38;5;241m.\u001b[39msum())\n\u001b[0;32m      2\u001b[0m \u001b[38;5;28mprint\u001b[39m(df[\u001b[38;5;124m\"\u001b[39m\u001b[38;5;124mGenre\u001b[39m\u001b[38;5;124m\"\u001b[39m]\u001b[38;5;241m.\u001b[39mdescribe())\n",
      "\u001b[1;31mNameError\u001b[0m: name 'df' is not defined"
     ]
    }
   ],
   "source": [
    "print(df[\"Genre\"].isna().sum())\n",
    "print(df[\"Genre\"].describe())"
   ]
  },
  {
   "cell_type": "markdown",
   "metadata": {},
   "source": [
    "#### Data Wrangling and Visualization"
   ]
  },
  {
   "cell_type": "code",
   "execution_count": 9,
   "metadata": {
    "ExecuteTime": {
     "end_time": "2024-04-09T14:26:43.444541700Z",
     "start_time": "2024-04-09T14:26:43.029179900Z"
    }
   },
   "outputs": [
    {
     "ename": "NameError",
     "evalue": "name 'df' is not defined",
     "output_type": "error",
     "traceback": [
      "\u001b[1;31m---------------------------------------------------------------------------\u001b[0m",
      "\u001b[1;31mNameError\u001b[0m                                 Traceback (most recent call last)",
      "Cell \u001b[1;32mIn[9], line 2\u001b[0m\n\u001b[0;32m      1\u001b[0m \u001b[38;5;66;03m# Visualize genre distribution\u001b[39;00m\n\u001b[1;32m----> 2\u001b[0m genre_counts \u001b[38;5;241m=\u001b[39m \u001b[43mdf\u001b[49m[\u001b[38;5;124m\"\u001b[39m\u001b[38;5;124mGenre\u001b[39m\u001b[38;5;124m\"\u001b[39m]\u001b[38;5;241m.\u001b[39mvalue_counts()\n\u001b[0;32m      3\u001b[0m plt\u001b[38;5;241m.\u001b[39mtitle(\u001b[38;5;124m\"\u001b[39m\u001b[38;5;124mGenre Distribution\u001b[39m\u001b[38;5;124m\"\u001b[39m)\n\u001b[0;32m      4\u001b[0m plt\u001b[38;5;241m.\u001b[39mxlabel(\u001b[38;5;124m\"\u001b[39m\u001b[38;5;124mGenre\u001b[39m\u001b[38;5;124m\"\u001b[39m)\n",
      "\u001b[1;31mNameError\u001b[0m: name 'df' is not defined"
     ]
    }
   ],
   "source": [
    "# Visualize genre distribution\n",
    "genre_counts = df[\"Genre\"].value_counts()\n",
    "plt.title(\"Genre Distribution\")\n",
    "plt.xlabel(\"Genre\")\n",
    "plt.ylabel(\"Count\")\n",
    "plt.xticks(rotation=90)\n",
    "plt.bar(genre_counts.index, genre_counts, color=plt.cm.Paired(np.arange(len(genre_counts))))\n"
   ]
  },
  {
   "cell_type": "code",
   "execution_count": 4,
   "metadata": {
    "ExecuteTime": {
     "end_time": "2024-04-20T00:09:14.873890100Z",
     "start_time": "2024-04-20T00:09:13.781784700Z"
    },
    "collapsed": false,
    "jupyter": {
     "outputs_hidden": false
    }
   },
   "outputs": [
    {
     "ename": "NameError",
     "evalue": "name 'df' is not defined",
     "output_type": "error",
     "traceback": [
      "\u001b[1;31m---------------------------------------------------------------------------\u001b[0m",
      "\u001b[1;31mNameError\u001b[0m                                 Traceback (most recent call last)",
      "Cell \u001b[1;32mIn[4], line 3\u001b[0m\n\u001b[0;32m      1\u001b[0m \u001b[38;5;66;03m# Combine genres in the dataframe\u001b[39;00m\n\u001b[0;32m      2\u001b[0m \u001b[38;5;66;03m# (Replace with higher count genre)\u001b[39;00m\n\u001b[1;32m----> 3\u001b[0m df \u001b[38;5;241m=\u001b[39m \u001b[43mdf\u001b[49m\u001b[38;5;241m.\u001b[39mreplace(\n\u001b[0;32m      4\u001b[0m     {\n\u001b[0;32m      5\u001b[0m         \u001b[38;5;124m\"\u001b[39m\u001b[38;5;124mR&B\u001b[39m\u001b[38;5;124m\"\u001b[39m: \u001b[38;5;124m\"\u001b[39m\u001b[38;5;124mR&B/Soul\u001b[39m\u001b[38;5;124m\"\u001b[39m,\n\u001b[0;32m      6\u001b[0m         \u001b[38;5;124m\"\u001b[39m\u001b[38;5;124mElectro\u001b[39m\u001b[38;5;124m\"\u001b[39m: \u001b[38;5;124m\"\u001b[39m\u001b[38;5;124mElectronic\u001b[39m\u001b[38;5;124m\"\u001b[39m,\n\u001b[0;32m      7\u001b[0m         \u001b[38;5;124m\"\u001b[39m\u001b[38;5;124mMetal\u001b[39m\u001b[38;5;124m\"\u001b[39m: \u001b[38;5;124m\"\u001b[39m\u001b[38;5;124mHeavy Metal\u001b[39m\u001b[38;5;124m\"\u001b[39m,\n\u001b[0;32m      8\u001b[0m         \u001b[38;5;124m\"\u001b[39m\u001b[38;5;124mR&B/Soul/Funk\u001b[39m\u001b[38;5;124m\"\u001b[39m: \u001b[38;5;124m\"\u001b[39m\u001b[38;5;124mR&B/Soul\u001b[39m\u001b[38;5;124m\"\u001b[39m,\n\u001b[0;32m      9\u001b[0m         \u001b[38;5;124m\"\u001b[39m\u001b[38;5;124mReggaeton\u001b[39m\u001b[38;5;124m\"\u001b[39m: \u001b[38;5;124m\"\u001b[39m\u001b[38;5;124mReggae\u001b[39m\u001b[38;5;124m\"\u001b[39m,\n\u001b[0;32m     10\u001b[0m         \u001b[38;5;124m\"\u001b[39m\u001b[38;5;124mRap/Hip Hop\u001b[39m\u001b[38;5;124m\"\u001b[39m: \u001b[38;5;124m\"\u001b[39m\u001b[38;5;124mHip Hop/Rap\u001b[39m\u001b[38;5;124m\"\u001b[39m,\n\u001b[0;32m     11\u001b[0m         \u001b[38;5;124m\"\u001b[39m\u001b[38;5;124mR & B\u001b[39m\u001b[38;5;124m\"\u001b[39m: \u001b[38;5;124m\"\u001b[39m\u001b[38;5;124mR&B/Soul\u001b[39m\u001b[38;5;124m\"\u001b[39m\n\u001b[0;32m     12\u001b[0m     }\n\u001b[0;32m     13\u001b[0m )\n\u001b[0;32m     15\u001b[0m small \u001b[38;5;241m=\u001b[39m small\u001b[38;5;241m.\u001b[39mreplace(\n\u001b[0;32m     16\u001b[0m     {\n\u001b[0;32m     17\u001b[0m         \u001b[38;5;124m\"\u001b[39m\u001b[38;5;124mR&B\u001b[39m\u001b[38;5;124m\"\u001b[39m: \u001b[38;5;124m\"\u001b[39m\u001b[38;5;124mR&B/Soul\u001b[39m\u001b[38;5;124m\"\u001b[39m,\n\u001b[1;32m   (...)\u001b[0m\n\u001b[0;32m     24\u001b[0m     }\n\u001b[0;32m     25\u001b[0m )\n\u001b[0;32m     27\u001b[0m \u001b[38;5;66;03m# Visualize genre distribution, again\u001b[39;00m\n",
      "\u001b[1;31mNameError\u001b[0m: name 'df' is not defined"
     ]
    }
   ],
   "source": [
    "# Combine genres in the dataframe\n",
    "# (Replace with higher count genre)\n",
    "df = df.replace(\n",
    "    {\n",
    "        \"R&B\": \"R&B/Soul\",\n",
    "        \"Electro\": \"Electronic\",\n",
    "        \"Metal\": \"Heavy Metal\",\n",
    "        \"R&B/Soul/Funk\": \"R&B/Soul\",\n",
    "        \"Reggaeton\": \"Reggae\",\n",
    "        \"Rap/Hip Hop\": \"Hip Hop/Rap\",\n",
    "        \"R & B\": \"R&B/Soul\"\n",
    "    }\n",
    ")\n",
    "\n",
    "# Visualize genre distribution, again\n",
    "genre_counts = df[\"Genre\"].value_counts()\n",
    "plt.title(\"Genre Distribution\")\n",
    "plt.xlabel(\"Genre\")\n",
    "plt.ylabel(\"Count\")\n",
    "plt.xticks(rotation=90)\n",
    "plt.bar(genre_counts.index, genre_counts, color=plt.cm.Paired(np.arange(len(genre_counts))))"
   ]
  },
  {
   "cell_type": "code",
   "execution_count": 3,
   "metadata": {},
   "outputs": [],
   "source": [
    "small = small.replace(\n",
    "    {\n",
    "        \"R&B\": \"R&B/Soul\",\n",
    "        \"Electro\": \"Electronic\",\n",
    "        \"Metal\": \"Heavy Metal\",\n",
    "        \"R&B/Soul/Funk\": \"R&B/Soul\",\n",
    "        \"Reggaeton\": \"Reggae\",\n",
    "        \"Rap/Hip Hop\": \"Hip Hop/Rap\",\n",
    "        \"R & B\": \"R&B/Soul\"\n",
    "    }\n",
    ")"
   ]
  },
  {
   "cell_type": "code",
   "execution_count": null,
   "metadata": {
    "ExecuteTime": {
     "end_time": "2024-04-09T14:26:47.229586Z",
     "start_time": "2024-04-09T14:26:47.019139400Z"
    }
   },
   "outputs": [],
   "source": [
    "# Visualize local and new distributions\n",
    "total_spins = df.shape[0]\n",
    "num_new = df[\"New\"].sum()\n",
    "num_local = df[\"Local\"].sum()\n",
    "new_and_local = pd.DataFrame({\"New\": [total_spins - num_new, num_new],\n",
    "                              \"Local\": [total_spins - num_local, num_local],\n",
    "                              \"Value\": [\"No\", \"Yes\"]}).set_index(\"Value\")\n",
    "new_and_local.T.plot.bar(stacked=True, rot=0)\n",
    "    "
   ]
  },
  {
   "cell_type": "code",
   "execution_count": null,
   "metadata": {
    "ExecuteTime": {
     "end_time": "2024-04-19T18:17:51.570602700Z",
     "start_time": "2024-04-19T18:17:51.530117300Z"
    }
   },
   "outputs": [],
   "source": [
    "# Temporary add (for work below), until the feature is properly created via scraping\n",
    "df[\"Top100\"] = np.random.randint(0, 1, df.shape[0])\n",
    "\n",
    "# see artist_billboard function above! "
   ]
  },
  {
   "cell_type": "code",
   "execution_count": null,
   "metadata": {
    "ExecuteTime": {
     "end_time": "2024-04-20T00:09:45.115838100Z",
     "start_time": "2024-04-20T00:09:42.315326300Z"
    }
   },
   "outputs": [],
   "source": [
    "def spins_to_dj(spin_df: pd.DataFrame):\n",
    "    \"\"\"\n",
    "    df - a pandas DataFrame of Spinitron spin records\n",
    "    Returns: a dataframe in dj format\n",
    "    \"\"\"\n",
    "    # Begin a dataframe, where each row is indentified by dj name\n",
    "    dj_df = spin_df.groupby([\"DJ Name\"]).count().reset_index()\n",
    "    dj_df = dj_df[[\"DJ Name\", \"Playlist Title\"]].rename(columns={\"Playlist Title\": \"Total_Spins\"})\n",
    "\n",
    "    # Engineered Features: avg time of day (start time), avg duration, average # spins\n",
    "    eng_df = spin_df[[\"DJ Name\", \"Playlist Title\", \"Playlist Duration\", \"Date\", \"Time\"]]\n",
    "\n",
    "    pattern = \"%I:%M:%S %p\"\n",
    "    def to_min(x):\n",
    "        time_extracted = datetime.strptime(x, pattern)\n",
    "        return time_extracted.hour*60 + time_extracted.minute\n",
    "    eng_df[\"Time\"] = eng_df[\"Time\"].apply(lambda x: to_min(x))\n",
    "    start_times_df = eng_df.groupby([\"DJ Name\", \"Date\"]).min().reset_index()\n",
    "    dj_df[\"Avg_Start\"] = start_times_df[[\"DJ Name\", \"Time\"]].groupby(\"DJ Name\").mean().reset_index()[\"Time\"]\n",
    "\n",
    "    duration_df = eng_df[[\"DJ Name\", \"Playlist Duration\"]]\n",
    "    dj_df[\"Avg_Duration\"] = duration_df.groupby(\"DJ Name\").mean().reset_index()[\"Playlist Duration\"]\n",
    "\n",
    "    one_day_spin_count_df = spin_df.groupby([\"DJ Name\", \"Date\"]).count().reset_index()\n",
    "    avg_spin_df = one_day_spin_count_df[[\"DJ Name\", \"Playlist Title\"]].groupby(\"DJ Name\").mean().reset_index()\n",
    "    dj_df[\"Avg_Spins\"] = avg_spin_df[\"Playlist Title\"]\n",
    "\n",
    "    # Populate genre count features\n",
    "    genre_df = spin_df.dropna(subset=[\"Genre\"]) # Temporary, until genre is filled completely\n",
    "    genre_df = genre_df.groupby([\"DJ Name\", \"Genre\"]).count().reset_index()\n",
    "    genre_df = genre_df[[\"DJ Name\", \"Genre\", \"Playlist Title\"]].rename(columns={\"Playlist Title\": \"genre_count\"})\n",
    "    genre_df = genre_df.pivot(index=\"DJ Name\", columns=\"Genre\", values=\"genre_count\").fillna(0).reset_index()\n",
    "    genre_df = genre_df.rename_axis(None, axis=1)\n",
    "    dj_df = pd.merge(dj_df, genre_df, on=\"DJ Name\", how='inner')\n",
    "\n",
    "    # Count new music policy violations\n",
    "    one_day_new_df = spin_df[[\"DJ Name\", \"Date\", \"New\"]].groupby([\"DJ Name\", \"Date\"]).sum().reset_index()\n",
    "    one_day_spin_count_df = one_day_spin_count_df[[\"DJ Name\", \"Date\", \"Playlist Title\"]]\n",
    "    one_day_spin_count_df = one_day_spin_count_df.rename(columns={\"Playlist Title\": \"show_spins\"})\n",
    "    joined_new_df = pd.merge(one_day_new_df, one_day_spin_count_df, on=[\"DJ Name\", \"Date\"], how='inner')\n",
    "    joined_new_df[\"new_percent\"] = joined_new_df[\"New\"] / joined_new_df[\"show_spins\"]\n",
    "    joined_new_df[\"new_violations\"] = (joined_new_df[\"new_percent\"] < 0.25).astype(int)\n",
    "    grouped_new_df = joined_new_df[[\"DJ Name\", \"new_violations\"]].groupby(\"DJ Name\").sum().reset_index()\n",
    "    dj_df = pd.merge(dj_df, grouped_new_df, on=\"DJ Name\", how='inner')\n",
    "\n",
    "    # Count popular artist policy violations\n",
    "    dj_df[\"top_violations\"] = spin_df[[\"DJ Name\", \"Top100\"]].groupby([\"DJ Name\"]).sum().reset_index()[\"Top100\"]\n",
    "\n",
    "    # Calculate policy violation feature\n",
    "    dj_df[\"Violations\"] = dj_df[\"new_violations\"] + dj_df[\"top_violations\"]\n",
    "    dj_df = dj_df.drop(columns=[\"new_violations\", \"top_violations\"])\n",
    "\n",
    "    return dj_df\n",
    "\n",
    "djs_df = spins_to_dj(spin_df=df)\n",
    "djs_df"
   ]
  },
  {
   "cell_type": "code",
   "execution_count": 4,
   "metadata": {},
   "outputs": [
    {
     "name": "stderr",
     "output_type": "stream",
     "text": [
      "C:\\Users\\16107\\AppData\\Local\\Temp\\ipykernel_39992\\1598231001.py:17: SettingWithCopyWarning: \n",
      "A value is trying to be set on a copy of a slice from a DataFrame.\n",
      "Try using .loc[row_indexer,col_indexer] = value instead\n",
      "\n",
      "See the caveats in the documentation: https://pandas.pydata.org/pandas-docs/stable/user_guide/indexing.html#returning-a-view-versus-a-copy\n",
      "  eng_df[\"Time\"] = eng_df[\"Time\"].apply(lambda x: to_min(x))\n"
     ]
    },
    {
     "data": {
      "text/html": [
       "<div>\n",
       "<style scoped>\n",
       "    .dataframe tbody tr th:only-of-type {\n",
       "        vertical-align: middle;\n",
       "    }\n",
       "\n",
       "    .dataframe tbody tr th {\n",
       "        vertical-align: top;\n",
       "    }\n",
       "\n",
       "    .dataframe thead th {\n",
       "        text-align: right;\n",
       "    }\n",
       "</style>\n",
       "<table border=\"1\" class=\"dataframe\">\n",
       "  <thead>\n",
       "    <tr style=\"text-align: right;\">\n",
       "      <th></th>\n",
       "      <th>DJ Name</th>\n",
       "      <th>Total_Spins</th>\n",
       "      <th>Avg_Start</th>\n",
       "      <th>Avg_Spins</th>\n",
       "      <th>0</th>\n",
       "      <th>Blues</th>\n",
       "      <th>Classical</th>\n",
       "      <th>Country</th>\n",
       "      <th>Electronic</th>\n",
       "      <th>Experimental</th>\n",
       "      <th>...</th>\n",
       "      <th>instruemtnalness</th>\n",
       "      <th>liveness</th>\n",
       "      <th>valence</th>\n",
       "      <th>tempo</th>\n",
       "      <th>duration_ms</th>\n",
       "      <th>artist_bb</th>\n",
       "      <th>artist_violations</th>\n",
       "      <th>popular_violations</th>\n",
       "      <th>song_violations</th>\n",
       "      <th>Violations</th>\n",
       "    </tr>\n",
       "  </thead>\n",
       "  <tbody>\n",
       "    <tr>\n",
       "      <th>0</th>\n",
       "      <td>Adam Higgins</td>\n",
       "      <td>244</td>\n",
       "      <td>5.222222</td>\n",
       "      <td>27.111111</td>\n",
       "      <td>16.0</td>\n",
       "      <td>0.0</td>\n",
       "      <td>60.0</td>\n",
       "      <td>2.0</td>\n",
       "      <td>112.0</td>\n",
       "      <td>1.0</td>\n",
       "      <td>...</td>\n",
       "      <td>0.043239</td>\n",
       "      <td>0.017420</td>\n",
       "      <td>0.045080</td>\n",
       "      <td>14.454471</td>\n",
       "      <td>48138.000000</td>\n",
       "      <td>8</td>\n",
       "      <td>0.032787</td>\n",
       "      <td>0</td>\n",
       "      <td>0</td>\n",
       "      <td>1</td>\n",
       "    </tr>\n",
       "    <tr>\n",
       "      <th>1</th>\n",
       "      <td>Agent One</td>\n",
       "      <td>41</td>\n",
       "      <td>661.333333</td>\n",
       "      <td>13.666667</td>\n",
       "      <td>24.0</td>\n",
       "      <td>0.0</td>\n",
       "      <td>0.0</td>\n",
       "      <td>0.0</td>\n",
       "      <td>4.0</td>\n",
       "      <td>0.0</td>\n",
       "      <td>...</td>\n",
       "      <td>0.078300</td>\n",
       "      <td>0.052549</td>\n",
       "      <td>0.116824</td>\n",
       "      <td>29.435195</td>\n",
       "      <td>65282.268293</td>\n",
       "      <td>2</td>\n",
       "      <td>0.048780</td>\n",
       "      <td>0</td>\n",
       "      <td>0</td>\n",
       "      <td>3</td>\n",
       "    </tr>\n",
       "    <tr>\n",
       "      <th>2</th>\n",
       "      <td>Ava P</td>\n",
       "      <td>271</td>\n",
       "      <td>1082.500000</td>\n",
       "      <td>27.100000</td>\n",
       "      <td>120.0</td>\n",
       "      <td>0.0</td>\n",
       "      <td>0.0</td>\n",
       "      <td>1.0</td>\n",
       "      <td>7.0</td>\n",
       "      <td>0.0</td>\n",
       "      <td>...</td>\n",
       "      <td>0.082520</td>\n",
       "      <td>0.099200</td>\n",
       "      <td>0.272866</td>\n",
       "      <td>56.667384</td>\n",
       "      <td>104547.549815</td>\n",
       "      <td>38</td>\n",
       "      <td>0.140221</td>\n",
       "      <td>0</td>\n",
       "      <td>0</td>\n",
       "      <td>10</td>\n",
       "    </tr>\n",
       "    <tr>\n",
       "      <th>3</th>\n",
       "      <td>Babytooth</td>\n",
       "      <td>176</td>\n",
       "      <td>5.800000</td>\n",
       "      <td>35.200000</td>\n",
       "      <td>88.0</td>\n",
       "      <td>0.0</td>\n",
       "      <td>0.0</td>\n",
       "      <td>1.0</td>\n",
       "      <td>10.0</td>\n",
       "      <td>0.0</td>\n",
       "      <td>...</td>\n",
       "      <td>0.104001</td>\n",
       "      <td>0.057105</td>\n",
       "      <td>0.126226</td>\n",
       "      <td>38.554313</td>\n",
       "      <td>70817.920455</td>\n",
       "      <td>4</td>\n",
       "      <td>0.022727</td>\n",
       "      <td>0</td>\n",
       "      <td>0</td>\n",
       "      <td>3</td>\n",
       "    </tr>\n",
       "    <tr>\n",
       "      <th>4</th>\n",
       "      <td>Bix</td>\n",
       "      <td>161</td>\n",
       "      <td>842.142857</td>\n",
       "      <td>23.000000</td>\n",
       "      <td>70.0</td>\n",
       "      <td>1.0</td>\n",
       "      <td>0.0</td>\n",
       "      <td>23.0</td>\n",
       "      <td>4.0</td>\n",
       "      <td>0.0</td>\n",
       "      <td>...</td>\n",
       "      <td>0.066795</td>\n",
       "      <td>0.065084</td>\n",
       "      <td>0.189843</td>\n",
       "      <td>39.267733</td>\n",
       "      <td>71136.018634</td>\n",
       "      <td>24</td>\n",
       "      <td>0.149068</td>\n",
       "      <td>0</td>\n",
       "      <td>0</td>\n",
       "      <td>7</td>\n",
       "    </tr>\n",
       "    <tr>\n",
       "      <th>...</th>\n",
       "      <td>...</td>\n",
       "      <td>...</td>\n",
       "      <td>...</td>\n",
       "      <td>...</td>\n",
       "      <td>...</td>\n",
       "      <td>...</td>\n",
       "      <td>...</td>\n",
       "      <td>...</td>\n",
       "      <td>...</td>\n",
       "      <td>...</td>\n",
       "      <td>...</td>\n",
       "      <td>...</td>\n",
       "      <td>...</td>\n",
       "      <td>...</td>\n",
       "      <td>...</td>\n",
       "      <td>...</td>\n",
       "      <td>...</td>\n",
       "      <td>...</td>\n",
       "      <td>...</td>\n",
       "      <td>...</td>\n",
       "      <td>...</td>\n",
       "    </tr>\n",
       "    <tr>\n",
       "      <th>97</th>\n",
       "      <td>g wiz</td>\n",
       "      <td>131</td>\n",
       "      <td>662.111111</td>\n",
       "      <td>14.555556</td>\n",
       "      <td>54.0</td>\n",
       "      <td>4.0</td>\n",
       "      <td>0.0</td>\n",
       "      <td>1.0</td>\n",
       "      <td>8.0</td>\n",
       "      <td>0.0</td>\n",
       "      <td>...</td>\n",
       "      <td>0.111554</td>\n",
       "      <td>0.062601</td>\n",
       "      <td>0.205335</td>\n",
       "      <td>48.091252</td>\n",
       "      <td>86800.770992</td>\n",
       "      <td>2</td>\n",
       "      <td>0.015267</td>\n",
       "      <td>0</td>\n",
       "      <td>0</td>\n",
       "      <td>2</td>\n",
       "    </tr>\n",
       "    <tr>\n",
       "      <th>98</th>\n",
       "      <td>glumbus</td>\n",
       "      <td>76</td>\n",
       "      <td>1322.333333</td>\n",
       "      <td>25.333333</td>\n",
       "      <td>43.0</td>\n",
       "      <td>2.0</td>\n",
       "      <td>0.0</td>\n",
       "      <td>1.0</td>\n",
       "      <td>2.0</td>\n",
       "      <td>0.0</td>\n",
       "      <td>...</td>\n",
       "      <td>0.117832</td>\n",
       "      <td>0.061499</td>\n",
       "      <td>0.201292</td>\n",
       "      <td>43.074105</td>\n",
       "      <td>94685.960526</td>\n",
       "      <td>6</td>\n",
       "      <td>0.078947</td>\n",
       "      <td>0</td>\n",
       "      <td>0</td>\n",
       "      <td>3</td>\n",
       "    </tr>\n",
       "    <tr>\n",
       "      <th>99</th>\n",
       "      <td>ivy</td>\n",
       "      <td>203</td>\n",
       "      <td>1037.875000</td>\n",
       "      <td>25.375000</td>\n",
       "      <td>74.0</td>\n",
       "      <td>0.0</td>\n",
       "      <td>0.0</td>\n",
       "      <td>0.0</td>\n",
       "      <td>21.0</td>\n",
       "      <td>0.0</td>\n",
       "      <td>...</td>\n",
       "      <td>0.077534</td>\n",
       "      <td>0.069067</td>\n",
       "      <td>0.150650</td>\n",
       "      <td>47.108389</td>\n",
       "      <td>94172.970443</td>\n",
       "      <td>25</td>\n",
       "      <td>0.123153</td>\n",
       "      <td>0</td>\n",
       "      <td>0</td>\n",
       "      <td>3</td>\n",
       "    </tr>\n",
       "    <tr>\n",
       "      <th>100</th>\n",
       "      <td>lizard</td>\n",
       "      <td>14</td>\n",
       "      <td>603.000000</td>\n",
       "      <td>14.000000</td>\n",
       "      <td>7.0</td>\n",
       "      <td>0.0</td>\n",
       "      <td>0.0</td>\n",
       "      <td>0.0</td>\n",
       "      <td>0.0</td>\n",
       "      <td>0.0</td>\n",
       "      <td>...</td>\n",
       "      <td>0.124668</td>\n",
       "      <td>0.170064</td>\n",
       "      <td>0.234357</td>\n",
       "      <td>72.163929</td>\n",
       "      <td>113449.071429</td>\n",
       "      <td>0</td>\n",
       "      <td>0.000000</td>\n",
       "      <td>0</td>\n",
       "      <td>0</td>\n",
       "      <td>1</td>\n",
       "    </tr>\n",
       "    <tr>\n",
       "      <th>101</th>\n",
       "      <td>otis cleveland</td>\n",
       "      <td>251</td>\n",
       "      <td>1202.444444</td>\n",
       "      <td>27.888889</td>\n",
       "      <td>63.0</td>\n",
       "      <td>7.0</td>\n",
       "      <td>11.0</td>\n",
       "      <td>5.0</td>\n",
       "      <td>6.0</td>\n",
       "      <td>0.0</td>\n",
       "      <td>...</td>\n",
       "      <td>0.089564</td>\n",
       "      <td>0.067251</td>\n",
       "      <td>0.154419</td>\n",
       "      <td>37.479227</td>\n",
       "      <td>76263.151394</td>\n",
       "      <td>22</td>\n",
       "      <td>0.087649</td>\n",
       "      <td>0</td>\n",
       "      <td>0</td>\n",
       "      <td>9</td>\n",
       "    </tr>\n",
       "  </tbody>\n",
       "</table>\n",
       "<p>102 rows × 37 columns</p>\n",
       "</div>"
      ],
      "text/plain": [
       "            DJ Name  Total_Spins    Avg_Start  Avg_Spins      0  Blues  \\\n",
       "0      Adam Higgins          244     5.222222  27.111111   16.0    0.0   \n",
       "1         Agent One           41   661.333333  13.666667   24.0    0.0   \n",
       "2             Ava P          271  1082.500000  27.100000  120.0    0.0   \n",
       "3         Babytooth          176     5.800000  35.200000   88.0    0.0   \n",
       "4               Bix          161   842.142857  23.000000   70.0    1.0   \n",
       "..              ...          ...          ...        ...    ...    ...   \n",
       "97            g wiz          131   662.111111  14.555556   54.0    4.0   \n",
       "98          glumbus           76  1322.333333  25.333333   43.0    2.0   \n",
       "99              ivy          203  1037.875000  25.375000   74.0    0.0   \n",
       "100          lizard           14   603.000000  14.000000    7.0    0.0   \n",
       "101  otis cleveland          251  1202.444444  27.888889   63.0    7.0   \n",
       "\n",
       "     Classical  Country  Electronic  Experimental  ...  instruemtnalness  \\\n",
       "0         60.0      2.0       112.0           1.0  ...          0.043239   \n",
       "1          0.0      0.0         4.0           0.0  ...          0.078300   \n",
       "2          0.0      1.0         7.0           0.0  ...          0.082520   \n",
       "3          0.0      1.0        10.0           0.0  ...          0.104001   \n",
       "4          0.0     23.0         4.0           0.0  ...          0.066795   \n",
       "..         ...      ...         ...           ...  ...               ...   \n",
       "97         0.0      1.0         8.0           0.0  ...          0.111554   \n",
       "98         0.0      1.0         2.0           0.0  ...          0.117832   \n",
       "99         0.0      0.0        21.0           0.0  ...          0.077534   \n",
       "100        0.0      0.0         0.0           0.0  ...          0.124668   \n",
       "101       11.0      5.0         6.0           0.0  ...          0.089564   \n",
       "\n",
       "     liveness   valence      tempo    duration_ms  artist_bb  \\\n",
       "0    0.017420  0.045080  14.454471   48138.000000          8   \n",
       "1    0.052549  0.116824  29.435195   65282.268293          2   \n",
       "2    0.099200  0.272866  56.667384  104547.549815         38   \n",
       "3    0.057105  0.126226  38.554313   70817.920455          4   \n",
       "4    0.065084  0.189843  39.267733   71136.018634         24   \n",
       "..        ...       ...        ...            ...        ...   \n",
       "97   0.062601  0.205335  48.091252   86800.770992          2   \n",
       "98   0.061499  0.201292  43.074105   94685.960526          6   \n",
       "99   0.069067  0.150650  47.108389   94172.970443         25   \n",
       "100  0.170064  0.234357  72.163929  113449.071429          0   \n",
       "101  0.067251  0.154419  37.479227   76263.151394         22   \n",
       "\n",
       "     artist_violations  popular_violations  song_violations Violations  \n",
       "0             0.032787                   0                0          1  \n",
       "1             0.048780                   0                0          3  \n",
       "2             0.140221                   0                0         10  \n",
       "3             0.022727                   0                0          3  \n",
       "4             0.149068                   0                0          7  \n",
       "..                 ...                 ...              ...        ...  \n",
       "97            0.015267                   0                0          2  \n",
       "98            0.078947                   0                0          3  \n",
       "99            0.123153                   0                0          3  \n",
       "100           0.000000                   0                0          1  \n",
       "101           0.087649                   0                0          9  \n",
       "\n",
       "[102 rows x 37 columns]"
      ]
     },
     "execution_count": 4,
     "metadata": {},
     "output_type": "execute_result"
    }
   ],
   "source": [
    "def spins_to_dj_small(spin_df: pd.DataFrame):\n",
    "    \"\"\"\n",
    "    df - a pandas DataFrame of Spinitron spin records\n",
    "    Returns: a dataframe in dj format\n",
    "    \"\"\"\n",
    "    # Begin a dataframe, where each row is indentified by dj name\n",
    "    dj_df = spin_df.groupby([\"DJ Name\"]).count().reset_index()\n",
    "    dj_df = dj_df[[\"DJ Name\", \"Playlist Title\"]].rename(columns={\"Playlist Title\": \"Total_Spins\"})\n",
    "\n",
    "    # Engineered Features: avg time of day (start time), avg duration, average # spins\n",
    "    eng_df = spin_df[[\"DJ Name\", \"Playlist Title\", \"Date\", \"Time\"]]\n",
    "\n",
    "    pattern = \"%I:%M:%S %p\"\n",
    "    def to_min(x):\n",
    "        time_extracted = datetime.strptime(x, pattern)\n",
    "        return time_extracted.hour*60 + time_extracted.minute\n",
    "    eng_df[\"Time\"] = eng_df[\"Time\"].apply(lambda x: to_min(x))\n",
    "    start_times_df = eng_df.groupby([\"DJ Name\", \"Date\"]).min().reset_index()\n",
    "    dj_df[\"Avg_Start\"] = start_times_df[[\"DJ Name\", \"Time\"]].groupby(\"DJ Name\").mean().reset_index()[\"Time\"]\n",
    "\n",
    "    #duration_df = eng_df[[\"DJ Name\", \"Playlist Duration\"]]\n",
    "    #dj_df[\"Avg_Duration\"] = duration_df.groupby(\"DJ Name\").mean().reset_index()[\"Playlist Duration\"]\n",
    "\n",
    "    one_day_spin_count_df = spin_df.groupby([\"DJ Name\", \"Date\"]).count().reset_index()\n",
    "    avg_spin_df = one_day_spin_count_df[[\"DJ Name\", \"Playlist Title\"]].groupby(\"DJ Name\").mean().reset_index()\n",
    "    dj_df[\"Avg_Spins\"] = avg_spin_df[\"Playlist Title\"]\n",
    "\n",
    "    # Populate genre count features\n",
    "    genre_df = spin_df.dropna(subset=[\"Genre\"]) # Temporary, until genre is filled completely\n",
    "    genre_df = genre_df.groupby([\"DJ Name\", \"Genre\"]).count().reset_index()\n",
    "    genre_df = genre_df[[\"DJ Name\", \"Genre\", \"Playlist Title\"]].rename(columns={\"Playlist Title\": \"genre_count\"})\n",
    "    genre_df = genre_df.pivot(index=\"DJ Name\", columns=\"Genre\", values=\"genre_count\").fillna(0).reset_index()\n",
    "    genre_df = genre_df.rename_axis(None, axis=1)\n",
    "    dj_df = pd.merge(dj_df, genre_df, on=\"DJ Name\", how='inner')\n",
    "\n",
    "    # Count new music policy violations\n",
    "    one_day_new_df = spin_df[[\"DJ Name\", \"Date\", \"New\"]].groupby([\"DJ Name\", \"Date\"]).sum().reset_index()\n",
    "    one_day_spin_count_df = one_day_spin_count_df[[\"DJ Name\", \"Date\", \"Playlist Title\"]]\n",
    "    one_day_spin_count_df = one_day_spin_count_df.rename(columns={\"Playlist Title\": \"show_spins\"})\n",
    "    joined_new_df = pd.merge(one_day_new_df, one_day_spin_count_df, on=[\"DJ Name\", \"Date\"], how='inner')\n",
    "    joined_new_df[\"new_percent\"] = joined_new_df[\"New\"] / joined_new_df[\"show_spins\"]\n",
    "    joined_new_df[\"new_violations\"] = (joined_new_df[\"new_percent\"] < 0.25).astype(int)\n",
    "    grouped_new_df = joined_new_df[[\"DJ Name\", \"new_violations\"]].groupby(\"DJ Name\").sum().reset_index()\n",
    "    dj_df = pd.merge(dj_df, grouped_new_df, on=\"DJ Name\", how='inner')\n",
    "    \n",
    "     # audio features\n",
    "    audio_df = spin_df[[\"DJ Name\", \"Date\", \"danceability\", \"energy\", \"key\", \"loudness\", \"mode\", \"speechiness\", \"acousticness\", \"instruemtnalness\", \"liveness\", \"valence\", \"tempo\", \"duration_ms\"]].groupby([\"DJ Name\"]).mean()\n",
    "    dj_df = pd.merge(dj_df, audio_df, on=[\"DJ Name\"], how='outer')\n",
    "\n",
    "    #dj_df[\"new_percent\"] = dj_df[\"New\"] / dj_df[\"Total_Spins\"]\n",
    "    #dj_df[\"new_violations\"] = (dj_df[\"new_percent\"] < 0.25).astype(int)\n",
    "\n",
    "    # Count popular artist policy violations\n",
    "    dj_df[\"artist_bb\"] = spin_df[[\"DJ Name\", \"artistBB\"]].groupby([\"DJ Name\"]).sum().reset_index()[\"artistBB\"]\n",
    "    dj_df[\"artist_violations\"] = dj_df[\"artist_bb\"] / dj_df[\"Total_Spins\"]\n",
    "    dj_df[\"popular_violations\"] = (dj_df[\"artist_violations\"] > 0.2).astype(int)\n",
    "    \n",
    "\n",
    "    dj_df[\"song_violations\"] = spin_df[[\"DJ Name\", \"songBB\"]].groupby([\"DJ Name\"]).sum().reset_index()[\"songBB\"]\n",
    "\n",
    "    # Calculate policy violation feature\n",
    "    dj_df[\"Violations\"] = dj_df[\"new_violations\"] + dj_df[\"popular_violations\"] + dj_df[\"song_violations\"]\n",
    "\n",
    "\n",
    "    return dj_df\n",
    "\n",
    "dj_df_small = spins_to_dj_small(small)\n",
    "dj_df_small"
   ]
  },
  {
   "cell_type": "code",
   "execution_count": 69,
   "metadata": {},
   "outputs": [],
   "source": [
    "from scipy.stats import shapiro\n",
    "from scipy.stats import lognorm\n",
    "from scipy.stats import kstest"
   ]
  },
  {
   "cell_type": "code",
   "execution_count": 6,
   "metadata": {},
   "outputs": [
    {
     "data": {
      "text/plain": [
       "<Axes: xlabel='Violations', ylabel='Count'>"
      ]
     },
     "execution_count": 6,
     "metadata": {},
     "output_type": "execute_result"
    },
    {
     "data": {
      "image/png": "[encoded data removed]",
      "text/plain": [
       "<Figure size 640x480 with 1 Axes>"
      ]
     },
     "metadata": {},
     "output_type": "display_data"
    }
   ],
   "source": [
    "dj_df_small[\"Violations\"] = dj_df_small[\"Violations\"].astype(int)\n",
    "sns.histplot(dj_df_small[\"Violations\"])"
   ]
  },
  {
   "cell_type": "code",
   "execution_count": 7,
   "metadata": {},
   "outputs": [
    {
     "name": "stdout",
     "output_type": "stream",
     "text": [
      "             DJ Name  Total_Spins   Avg_Start  Avg_Spins       0  Blues  \\\n",
      "57           Emmanem          123  680.833333  10.250000    66.0    0.0   \n",
      "60           JAH RED          601  889.947368  31.631579   167.0    0.0   \n",
      "71  Program Director         5511   73.830508  93.406780  2563.0   18.0   \n",
      "\n",
      "    Classical  Country  Electronic  Experimental  ...  instruemtnalness  \\\n",
      "57        0.0      2.0         6.0           0.0  ...          0.082349   \n",
      "60        0.0      0.0         2.0           0.0  ...          0.016951   \n",
      "71        5.0     58.0       422.0           0.0  ...          0.106581   \n",
      "\n",
      "    liveness   valence      tempo   duration_ms  artist_bb  artist_violations  \\\n",
      "57  0.084225  0.222607  53.327846  98615.552846         12           0.097561   \n",
      "60  0.041201  0.179097  30.352865  52681.356073         58           0.096506   \n",
      "71  0.072364  0.185511  42.714324  87418.751951        294           0.053348   \n",
      "\n",
      "    popular_violations  song_violations Violations  \n",
      "57                   0                0         12  \n",
      "60                   0                0         19  \n",
      "71                   0                0         59  \n",
      "\n",
      "[3 rows x 37 columns]\n"
     ]
    },
    {
     "data": {
      "text/plain": [
       "<Axes: xlabel='Violations', ylabel='Count'>"
      ]
     },
     "execution_count": 7,
     "metadata": {},
     "output_type": "execute_result"
    },
    {
     "data": {
      "image/png": "[encoded data removed]",
      "text/plain": [
       "<Figure size 640x480 with 1 Axes>"
      ]
     },
     "metadata": {},
     "output_type": "display_data"
    }
   ],
   "source": [
    "print(dj_df_small.loc[dj_df_small[\"Violations\"] >= 12])\n",
    "# removing program director because it is automation! \n",
    "dj_df_small = dj_df_small[dj_df_small[\"DJ Name\"] != \"Program Director\"]\n",
    "sns.histplot((dj_df_small[\"Violations\"]))"
   ]
  },
  {
   "cell_type": "code",
   "execution_count": 72,
   "metadata": {},
   "outputs": [
    {
     "name": "stdout",
     "output_type": "stream",
     "text": [
      "ShapiroResult(statistic=0.937353400910751, pvalue=0.00013342857559947254)\n",
      "ShapiroResult(statistic=0.9240217223816166, pvalue=2.3153614250460043e-05)\n",
      "KstestResult(statistic=0.7772498680518207, pvalue=2.7581694811010395e-64, statistic_location=2, statistic_sign=-1)\n",
      "KstestResult(statistic=0.6658914042144173, pvalue=3.5257213174721295e-44, statistic_location=0.6931471805599453, statistic_sign=-1)\n"
     ]
    },
    {
     "data": {
      "image/png": "[encoded data removed]",
      "text/plain": [
       "<Figure size 640x480 with 1 Axes>"
      ]
     },
     "metadata": {},
     "output_type": "display_data"
    }
   ],
   "source": [
    "dj_df_small[\"Transformed Violations\"] = None\n",
    "dj_df_small[\"Transformed Violations\"] = np.log(dj_df_small[\"Violations\"] + 1)\n",
    "sns.histplot(dj_df_small[\"Transformed Violations\"])\n",
    "print(shapiro(dj_df_small[\"Violations\"]))\n",
    "print(shapiro(dj_df_small[\"Transformed Violations\"]))\n",
    "\n",
    "print(kstest(dj_df_small[\"Violations\"], 'norm'))\n",
    "print(kstest(dj_df_small[\"Transformed Violations\"], 'norm'))"
   ]
  },
  {
   "cell_type": "code",
   "execution_count": 9,
   "metadata": {},
   "outputs": [
    {
     "data": {
      "text/html": [
       "<div>\n",
       "<style scoped>\n",
       "    .dataframe tbody tr th:only-of-type {\n",
       "        vertical-align: middle;\n",
       "    }\n",
       "\n",
       "    .dataframe tbody tr th {\n",
       "        vertical-align: top;\n",
       "    }\n",
       "\n",
       "    .dataframe thead th {\n",
       "        text-align: right;\n",
       "    }\n",
       "</style>\n",
       "<table border=\"1\" class=\"dataframe\">\n",
       "  <thead>\n",
       "    <tr style=\"text-align: right;\">\n",
       "      <th></th>\n",
       "      <th>DJ Name</th>\n",
       "      <th>Date</th>\n",
       "      <th>New</th>\n",
       "      <th>Total_Spins</th>\n",
       "      <th>Time</th>\n",
       "      <th>0</th>\n",
       "      <th>Blues</th>\n",
       "      <th>Classical</th>\n",
       "      <th>Country</th>\n",
       "      <th>Electronic</th>\n",
       "      <th>...</th>\n",
       "      <th>valence</th>\n",
       "      <th>tempo</th>\n",
       "      <th>duration_ms</th>\n",
       "      <th>new_percent</th>\n",
       "      <th>new_violations</th>\n",
       "      <th>artist_bb</th>\n",
       "      <th>artist_violations</th>\n",
       "      <th>popular_violations</th>\n",
       "      <th>song_violations</th>\n",
       "      <th>Violations</th>\n",
       "    </tr>\n",
       "  </thead>\n",
       "  <tbody>\n",
       "    <tr>\n",
       "      <th>0</th>\n",
       "      <td>Adam Higgins</td>\n",
       "      <td>2024-01-05</td>\n",
       "      <td>7</td>\n",
       "      <td>22</td>\n",
       "      <td>12:06:25 AM</td>\n",
       "      <td>1.0</td>\n",
       "      <td>0.0</td>\n",
       "      <td>5.0</td>\n",
       "      <td>0.0</td>\n",
       "      <td>14.0</td>\n",
       "      <td>...</td>\n",
       "      <td>0.055318</td>\n",
       "      <td>14.240864</td>\n",
       "      <td>45414.454545</td>\n",
       "      <td>0.318182</td>\n",
       "      <td>0</td>\n",
       "      <td>8.0</td>\n",
       "      <td>0.363636</td>\n",
       "      <td>1</td>\n",
       "      <td>0.0</td>\n",
       "      <td>1.0</td>\n",
       "    </tr>\n",
       "    <tr>\n",
       "      <th>1</th>\n",
       "      <td>Adam Higgins</td>\n",
       "      <td>2024-01-12</td>\n",
       "      <td>8</td>\n",
       "      <td>24</td>\n",
       "      <td>12:02:22 AM</td>\n",
       "      <td>1.0</td>\n",
       "      <td>0.0</td>\n",
       "      <td>8.0</td>\n",
       "      <td>0.0</td>\n",
       "      <td>8.0</td>\n",
       "      <td>...</td>\n",
       "      <td>0.048150</td>\n",
       "      <td>15.140833</td>\n",
       "      <td>62700.000000</td>\n",
       "      <td>0.333333</td>\n",
       "      <td>0</td>\n",
       "      <td>2.0</td>\n",
       "      <td>0.083333</td>\n",
       "      <td>0</td>\n",
       "      <td>0.0</td>\n",
       "      <td>0.0</td>\n",
       "    </tr>\n",
       "    <tr>\n",
       "      <th>2</th>\n",
       "      <td>Adam Higgins</td>\n",
       "      <td>2024-01-19</td>\n",
       "      <td>8</td>\n",
       "      <td>25</td>\n",
       "      <td>12:03:00 AM</td>\n",
       "      <td>0.0</td>\n",
       "      <td>0.0</td>\n",
       "      <td>8.0</td>\n",
       "      <td>0.0</td>\n",
       "      <td>17.0</td>\n",
       "      <td>...</td>\n",
       "      <td>0.001200</td>\n",
       "      <td>2.473560</td>\n",
       "      <td>5027.680000</td>\n",
       "      <td>0.320000</td>\n",
       "      <td>0</td>\n",
       "      <td>38.0</td>\n",
       "      <td>1.520000</td>\n",
       "      <td>1</td>\n",
       "      <td>0.0</td>\n",
       "      <td>1.0</td>\n",
       "    </tr>\n",
       "    <tr>\n",
       "      <th>3</th>\n",
       "      <td>Adam Higgins</td>\n",
       "      <td>2024-01-26</td>\n",
       "      <td>8</td>\n",
       "      <td>30</td>\n",
       "      <td>12:07:00 AM</td>\n",
       "      <td>4.0</td>\n",
       "      <td>0.0</td>\n",
       "      <td>8.0</td>\n",
       "      <td>0.0</td>\n",
       "      <td>18.0</td>\n",
       "      <td>...</td>\n",
       "      <td>0.037863</td>\n",
       "      <td>12.686500</td>\n",
       "      <td>53041.366667</td>\n",
       "      <td>0.266667</td>\n",
       "      <td>0</td>\n",
       "      <td>4.0</td>\n",
       "      <td>0.133333</td>\n",
       "      <td>0</td>\n",
       "      <td>0.0</td>\n",
       "      <td>0.0</td>\n",
       "    </tr>\n",
       "    <tr>\n",
       "      <th>4</th>\n",
       "      <td>Adam Higgins</td>\n",
       "      <td>2024-02-02</td>\n",
       "      <td>8</td>\n",
       "      <td>24</td>\n",
       "      <td>12:07:00 AM</td>\n",
       "      <td>1.0</td>\n",
       "      <td>0.0</td>\n",
       "      <td>8.0</td>\n",
       "      <td>0.0</td>\n",
       "      <td>3.0</td>\n",
       "      <td>...</td>\n",
       "      <td>0.097946</td>\n",
       "      <td>24.457917</td>\n",
       "      <td>68776.208333</td>\n",
       "      <td>0.333333</td>\n",
       "      <td>0</td>\n",
       "      <td>24.0</td>\n",
       "      <td>1.000000</td>\n",
       "      <td>1</td>\n",
       "      <td>0.0</td>\n",
       "      <td>1.0</td>\n",
       "    </tr>\n",
       "    <tr>\n",
       "      <th>...</th>\n",
       "      <td>...</td>\n",
       "      <td>...</td>\n",
       "      <td>...</td>\n",
       "      <td>...</td>\n",
       "      <td>...</td>\n",
       "      <td>...</td>\n",
       "      <td>...</td>\n",
       "      <td>...</td>\n",
       "      <td>...</td>\n",
       "      <td>...</td>\n",
       "      <td>...</td>\n",
       "      <td>...</td>\n",
       "      <td>...</td>\n",
       "      <td>...</td>\n",
       "      <td>...</td>\n",
       "      <td>...</td>\n",
       "      <td>...</td>\n",
       "      <td>...</td>\n",
       "      <td>...</td>\n",
       "      <td>...</td>\n",
       "      <td>...</td>\n",
       "    </tr>\n",
       "    <tr>\n",
       "      <th>729</th>\n",
       "      <td>otis cleveland</td>\n",
       "      <td>2024-01-30</td>\n",
       "      <td>0</td>\n",
       "      <td>40</td>\n",
       "      <td>8:00:33 PM</td>\n",
       "      <td>11.0</td>\n",
       "      <td>1.0</td>\n",
       "      <td>0.0</td>\n",
       "      <td>1.0</td>\n",
       "      <td>3.0</td>\n",
       "      <td>...</td>\n",
       "      <td>0.183845</td>\n",
       "      <td>42.370225</td>\n",
       "      <td>57160.150000</td>\n",
       "      <td>0.000000</td>\n",
       "      <td>1</td>\n",
       "      <td>0.0</td>\n",
       "      <td>0.000000</td>\n",
       "      <td>0</td>\n",
       "      <td>0.0</td>\n",
       "      <td>0.0</td>\n",
       "    </tr>\n",
       "    <tr>\n",
       "      <th>730</th>\n",
       "      <td>otis cleveland</td>\n",
       "      <td>2024-02-06</td>\n",
       "      <td>0</td>\n",
       "      <td>18</td>\n",
       "      <td>8:01:38 PM</td>\n",
       "      <td>4.0</td>\n",
       "      <td>0.0</td>\n",
       "      <td>0.0</td>\n",
       "      <td>1.0</td>\n",
       "      <td>0.0</td>\n",
       "      <td>...</td>\n",
       "      <td>0.149944</td>\n",
       "      <td>29.168389</td>\n",
       "      <td>55307.111111</td>\n",
       "      <td>0.000000</td>\n",
       "      <td>1</td>\n",
       "      <td>0.0</td>\n",
       "      <td>0.000000</td>\n",
       "      <td>0</td>\n",
       "      <td>0.0</td>\n",
       "      <td>0.0</td>\n",
       "    </tr>\n",
       "    <tr>\n",
       "      <th>731</th>\n",
       "      <td>otis cleveland</td>\n",
       "      <td>2024-02-13</td>\n",
       "      <td>0</td>\n",
       "      <td>33</td>\n",
       "      <td>10:03:59 PM</td>\n",
       "      <td>9.0</td>\n",
       "      <td>2.0</td>\n",
       "      <td>1.0</td>\n",
       "      <td>0.0</td>\n",
       "      <td>0.0</td>\n",
       "      <td>...</td>\n",
       "      <td>0.167273</td>\n",
       "      <td>25.250364</td>\n",
       "      <td>59831.909091</td>\n",
       "      <td>0.000000</td>\n",
       "      <td>1</td>\n",
       "      <td>0.0</td>\n",
       "      <td>0.000000</td>\n",
       "      <td>0</td>\n",
       "      <td>0.0</td>\n",
       "      <td>0.0</td>\n",
       "    </tr>\n",
       "    <tr>\n",
       "      <th>732</th>\n",
       "      <td>otis cleveland</td>\n",
       "      <td>2024-02-20</td>\n",
       "      <td>0</td>\n",
       "      <td>24</td>\n",
       "      <td>8:01:29 PM</td>\n",
       "      <td>11.0</td>\n",
       "      <td>0.0</td>\n",
       "      <td>0.0</td>\n",
       "      <td>0.0</td>\n",
       "      <td>0.0</td>\n",
       "      <td>...</td>\n",
       "      <td>0.191658</td>\n",
       "      <td>63.319542</td>\n",
       "      <td>160304.291667</td>\n",
       "      <td>0.000000</td>\n",
       "      <td>1</td>\n",
       "      <td>0.0</td>\n",
       "      <td>0.000000</td>\n",
       "      <td>0</td>\n",
       "      <td>0.0</td>\n",
       "      <td>0.0</td>\n",
       "    </tr>\n",
       "    <tr>\n",
       "      <th>733</th>\n",
       "      <td>otis cleveland</td>\n",
       "      <td>2024-02-27</td>\n",
       "      <td>0</td>\n",
       "      <td>24</td>\n",
       "      <td>8:16:37 PM</td>\n",
       "      <td>0.0</td>\n",
       "      <td>0.0</td>\n",
       "      <td>4.0</td>\n",
       "      <td>0.0</td>\n",
       "      <td>1.0</td>\n",
       "      <td>...</td>\n",
       "      <td>0.191750</td>\n",
       "      <td>41.611083</td>\n",
       "      <td>49619.125000</td>\n",
       "      <td>0.000000</td>\n",
       "      <td>1</td>\n",
       "      <td>0.0</td>\n",
       "      <td>0.000000</td>\n",
       "      <td>0</td>\n",
       "      <td>0.0</td>\n",
       "      <td>0.0</td>\n",
       "    </tr>\n",
       "  </tbody>\n",
       "</table>\n",
       "<p>734 rows × 38 columns</p>\n",
       "</div>"
      ],
      "text/plain": [
       "            DJ Name       Date  New  Total_Spins         Time     0  Blues  \\\n",
       "0      Adam Higgins 2024-01-05    7           22  12:06:25 AM   1.0    0.0   \n",
       "1      Adam Higgins 2024-01-12    8           24  12:02:22 AM   1.0    0.0   \n",
       "2      Adam Higgins 2024-01-19    8           25  12:03:00 AM   0.0    0.0   \n",
       "3      Adam Higgins 2024-01-26    8           30  12:07:00 AM   4.0    0.0   \n",
       "4      Adam Higgins 2024-02-02    8           24  12:07:00 AM   1.0    0.0   \n",
       "..              ...        ...  ...          ...          ...   ...    ...   \n",
       "729  otis cleveland 2024-01-30    0           40   8:00:33 PM  11.0    1.0   \n",
       "730  otis cleveland 2024-02-06    0           18   8:01:38 PM   4.0    0.0   \n",
       "731  otis cleveland 2024-02-13    0           33  10:03:59 PM   9.0    2.0   \n",
       "732  otis cleveland 2024-02-20    0           24   8:01:29 PM  11.0    0.0   \n",
       "733  otis cleveland 2024-02-27    0           24   8:16:37 PM   0.0    0.0   \n",
       "\n",
       "     Classical  Country  Electronic  ...   valence      tempo    duration_ms  \\\n",
       "0          5.0      0.0        14.0  ...  0.055318  14.240864   45414.454545   \n",
       "1          8.0      0.0         8.0  ...  0.048150  15.140833   62700.000000   \n",
       "2          8.0      0.0        17.0  ...  0.001200   2.473560    5027.680000   \n",
       "3          8.0      0.0        18.0  ...  0.037863  12.686500   53041.366667   \n",
       "4          8.0      0.0         3.0  ...  0.097946  24.457917   68776.208333   \n",
       "..         ...      ...         ...  ...       ...        ...            ...   \n",
       "729        0.0      1.0         3.0  ...  0.183845  42.370225   57160.150000   \n",
       "730        0.0      1.0         0.0  ...  0.149944  29.168389   55307.111111   \n",
       "731        1.0      0.0         0.0  ...  0.167273  25.250364   59831.909091   \n",
       "732        0.0      0.0         0.0  ...  0.191658  63.319542  160304.291667   \n",
       "733        4.0      0.0         1.0  ...  0.191750  41.611083   49619.125000   \n",
       "\n",
       "     new_percent  new_violations  artist_bb  artist_violations  \\\n",
       "0       0.318182               0        8.0           0.363636   \n",
       "1       0.333333               0        2.0           0.083333   \n",
       "2       0.320000               0       38.0           1.520000   \n",
       "3       0.266667               0        4.0           0.133333   \n",
       "4       0.333333               0       24.0           1.000000   \n",
       "..           ...             ...        ...                ...   \n",
       "729     0.000000               1        0.0           0.000000   \n",
       "730     0.000000               1        0.0           0.000000   \n",
       "731     0.000000               1        0.0           0.000000   \n",
       "732     0.000000               1        0.0           0.000000   \n",
       "733     0.000000               1        0.0           0.000000   \n",
       "\n",
       "     popular_violations  song_violations  Violations  \n",
       "0                     1              0.0         1.0  \n",
       "1                     0              0.0         0.0  \n",
       "2                     1              0.0         1.0  \n",
       "3                     0              0.0         0.0  \n",
       "4                     1              0.0         1.0  \n",
       "..                  ...              ...         ...  \n",
       "729                   0              0.0         0.0  \n",
       "730                   0              0.0         0.0  \n",
       "731                   0              0.0         0.0  \n",
       "732                   0              0.0         0.0  \n",
       "733                   0              0.0         0.0  \n",
       "\n",
       "[734 rows x 38 columns]"
      ]
     },
     "execution_count": 9,
     "metadata": {},
     "output_type": "execute_result"
    }
   ],
   "source": [
    "def spins_to_shows(spin_df: pd.DataFrame):\n",
    "    \"\"\"\n",
    "    df - a pandas DataFrame of Spinitron spin records\n",
    "    Returns: a dataframe in spin format\n",
    "    \"\"\"\n",
    "    \n",
    "    dj_df = spin_df.groupby([\"DJ Name\", \"Date\"]).count().reset_index()\n",
    "    dj_df = dj_df[[\"DJ Name\", \"Date\", \"Playlist Title\"]].rename(columns={\"Playlist Title\": \"Total_Spins\"})\n",
    "\n",
    "    one_day_new_df = spin_df[[\"DJ Name\", \"Date\", \"New\"]].groupby([\"DJ Name\", \"Date\"]).sum().reset_index()\n",
    "    dj_df = pd.merge(one_day_new_df, dj_df, on=[\"DJ Name\", \"Date\"], how='outer')\n",
    "\n",
    "    # time of day \n",
    "    dj_df[\"Time\"] = spin_df[[\"Time\", \"DJ Name\", \"Date\"]].groupby([\"DJ Name\", \"Date\"]).min().reset_index()[\"Time\"]\n",
    "    \n",
    "    # Populate genre count features\n",
    "    genre_df = spin_df.dropna(subset=[\"Genre\"]) # Temporary, until genre is filled completely\n",
    "    genre_df = genre_df.groupby([\"DJ Name\", \"Date\", \"Genre\"]).count().reset_index()\n",
    "    genre_df = genre_df[[\"DJ Name\", \"Genre\", \"Playlist Title\", \"Date\"]].rename(columns={\"Playlist Title\": \"genre_count\"})\n",
    "    genre_df = genre_df.pivot(index=[\"DJ Name\", \"Date\"], columns=\"Genre\", values=\"genre_count\").fillna(0).reset_index()\n",
    "    genre_df = genre_df.rename_axis(None, axis=1)\n",
    "    dj_df = pd.merge(dj_df, genre_df, on=[\"DJ Name\", \"Date\"], how='outer')\n",
    "\n",
    "    # audio features\n",
    "    audio_df = spin_df[[\"DJ Name\", \"Date\", \"danceability\", \"energy\", \"key\", \"loudness\", \"mode\", \"speechiness\", \"acousticness\", \"instruemtnalness\", \"liveness\", \"valence\", \"tempo\", \"duration_ms\"]].groupby([\"DJ Name\", \"Date\"]).mean()\n",
    "    dj_df = pd.merge(dj_df, audio_df, on=[\"DJ Name\", \"Date\"], how='outer')\n",
    "    \n",
    "    dj_df[\"new_percent\"] = dj_df[\"New\"] / dj_df[\"Total_Spins\"]\n",
    "    dj_df[\"new_violations\"] = (dj_df[\"new_percent\"] < 0.25).astype(int)\n",
    "\n",
    "    # Count popular artist policy violations\n",
    "    dj_df[\"artist_bb\"] = spin_df[[\"DJ Name\", \"artistBB\"]].groupby([\"DJ Name\"]).sum().reset_index()[\"artistBB\"]\n",
    "    dj_df[\"artist_violations\"] = dj_df[\"artist_bb\"] / dj_df[\"Total_Spins\"]\n",
    "    dj_df[\"popular_violations\"] = (dj_df[\"artist_violations\"] > 0.2).astype(int)\n",
    "    \n",
    "\n",
    "    dj_df[\"song_violations\"] = spin_df[[\"DJ Name\", \"songBB\"]].groupby([\"DJ Name\"]).sum().reset_index()[\"songBB\"]\n",
    "\n",
    "    # Calculate policy violation feature\n",
    "    dj_df[\"Violations\"] = dj_df[\"new_violations\"] + dj_df[\"popular_violations\"] + dj_df[\"song_violations\"]\n",
    "\n",
    "    \n",
    "    return dj_df\n",
    "\n",
    "\n",
    "show_df = spins_to_shows(small)\n",
    "show_df.fillna(0, inplace= True)\n",
    "show_df"
   ]
  },
  {
   "cell_type": "code",
   "execution_count": 10,
   "metadata": {},
   "outputs": [
    {
     "data": {
      "text/plain": [
       "<Axes: xlabel='Violations', ylabel='Count'>"
      ]
     },
     "execution_count": 10,
     "metadata": {},
     "output_type": "execute_result"
    },
    {
     "data": {
      "image/png": "[encoded data removed]",
      "text/plain": [
       "<Figure size 640x480 with 1 Axes>"
      ]
     },
     "metadata": {},
     "output_type": "display_data"
    }
   ],
   "source": [
    "sns.histplot(show_df[\"Violations\"])"
   ]
  },
  {
   "cell_type": "markdown",
   "metadata": {},
   "source": [
    "## Data Modeling"
   ]
  },
  {
   "cell_type": "markdown",
   "metadata": {},
   "source": [
    "### Policy Violation Linear Regression"
   ]
  },
  {
   "cell_type": "code",
   "execution_count": 11,
   "metadata": {},
   "outputs": [],
   "source": [
    "from sklearn import datasets, linear_model\n",
    "from sklearn.metrics import mean_squared_error, r2_score "
   ]
  },
  {
   "cell_type": "markdown",
   "metadata": {},
   "source": [
    "#### Splitting and Preparing Data"
   ]
  },
  {
   "cell_type": "code",
   "execution_count": 12,
   "metadata": {},
   "outputs": [],
   "source": [
    "dj_df_small.columns = dj_df_small.columns.astype(str)\n",
    "\n",
    "train, test = train_test_split(dj_df_small, test_size = 0.2, train_size = 0.8)\n",
    "#small_djs_X = dj_df_small.drop([\"DJ Name\",  \"Date\", \"new_violations\", \"artist_bb\", \"artist_violations\", \"popular_violations\", \"song_violations\", \"Violations\"], axis=1)\n",
    "#small_djs_Y = dj_df_small[\"Violations\"]\n",
    "small_djs_X_train = train.drop([\"DJ Name\", \"Date\",  \"new_violations\", \"artist_bb\", \"artist_violations\", \"popular_violations\", \"song_violations\", \"Violations\", \"Transformed Violations\"], axis=1)\n",
    "small_djs_X_test = test.drop([\"DJ Name\", \"Date\", \"new_violations\", \"artist_bb\", \"artist_violations\", \"popular_violations\", \"song_violations\", \"Violations\", \"Transformed Violations\"], axis=1)\n",
    "small_djs_Y_train = train[\"Transformed Violations\"]\n",
    "small_djs_Y_test = test[\"Transformed Violations\"]"
   ]
  },
  {
   "cell_type": "code",
   "execution_count": null,
   "metadata": {},
   "outputs": [
    {
     "data": {
      "text/plain": [
       "<seaborn.axisgrid.PairGrid at 0x165eb24b910>"
      ]
     },
     "execution_count": 85,
     "metadata": {},
     "output_type": "execute_result"
    }
   ],
   "source": [
    "# insert facet scatterplot of transformed violations BY small_djs_X_train.columns\n",
    "sns.pairplot(small_djs_X_train, kind = \"reg\", diag_kind = \"kde\")"
   ]
  },
  {
   "cell_type": "markdown",
   "metadata": {},
   "source": [
    "#### Creating Model"
   ]
  },
  {
   "cell_type": "code",
   "execution_count": 13,
   "metadata": {},
   "outputs": [
    {
     "name": "stdout",
     "output_type": "stream",
     "text": [
      "Coefficients: \n",
      " [ 5.03648706e+08  2.16281042e-04 -4.57370251e-02 -5.03648706e+08\n",
      " -5.03648706e+08 -5.03648706e+08 -5.03648706e+08 -5.03648706e+08\n",
      " -5.03648707e+08 -5.03648706e+08 -5.03648706e+08 -5.03648706e+08\n",
      " -5.03648706e+08 -5.03648706e+08 -5.03648706e+08 -5.03648706e+08\n",
      " -5.03648706e+08  1.72722512e+00  1.20458851e+00  1.20458854e+00\n",
      " -1.75780079e-01 -2.55653777e+00  8.75645116e+00  2.48371964e+00\n",
      " -1.74489754e+00 -8.51488417e+00 -1.42695739e+00  1.45852676e-02\n",
      " -1.02555159e-05]\n",
      "Mean Squared Error: 1.081383475022652\n",
      "-0.8520062024086137\n",
      "R2: -0.8520062024086137\n"
     ]
    }
   ],
   "source": [
    "regr = linear_model.LinearRegression()\n",
    "regr.fit(small_djs_X_train, small_djs_Y_train)\n",
    "small_djs_Y_pred = regr.predict(small_djs_X_test)\n",
    "print(\"Coefficients: \\n\", regr.coef_)\n",
    "print(f'Mean Squared Error: {mean_squared_error(small_djs_Y_test, small_djs_Y_pred)}')\n",
    "print(f'{regr.score(small_djs_X_test, small_djs_Y_test)}')\n",
    "print(f'R2: {r2_score(small_djs_Y_test, small_djs_Y_pred)}')"
   ]
  },
  {
   "cell_type": "code",
   "execution_count": 14,
   "metadata": {},
   "outputs": [
    {
     "data": {
      "text/plain": [
       "Text(0.5, 1.0, '')"
      ]
     },
     "execution_count": 14,
     "metadata": {},
     "output_type": "execute_result"
    },
    {
     "data": {
      "image/png": "[encoded data removed]",
      "text/plain": [
       "<Figure size 640x480 with 1 Axes>"
      ]
     },
     "metadata": {},
     "output_type": "display_data"
    }
   ],
   "source": [
    "residuals = small_djs_Y_test - small_djs_Y_pred\n",
    "ax = sns.regplot(x=small_djs_Y_test, y=residuals)\n",
    "ax.set_xlabel('')\n",
    "ax.set_ylabel('Residuals')\n",
    "ax.set_title('')"
   ]
  },
  {
   "cell_type": "code",
   "execution_count": 15,
   "metadata": {},
   "outputs": [
    {
     "name": "stdout",
     "output_type": "stream",
     "text": [
      "Coefficients: \n",
      " [ 3.64547746e+08  2.32785009e-04 -6.04236783e-02 -3.64547746e+08\n",
      " -3.64547746e+08 -3.64547746e+08 -3.64547746e+08 -3.64547746e+08\n",
      " -3.64547747e+08 -3.64547746e+08 -3.64547746e+08 -3.64547747e+08\n",
      " -3.64547746e+08 -3.64547746e+08 -3.64547747e+08 -3.64547746e+08\n",
      " -3.64547747e+08 -3.95195407e-01  2.30334691e+00  2.30334697e+00\n",
      " -4.26776078e-01 -4.20275733e+00  2.94753815e+00 -3.05742002e-01\n",
      " -1.16434424e+00 -8.84750406e+00  2.44316274e+00 -3.82429797e-03\n",
      " -1.11234548e-05]\n",
      "Mean Squared Error: 1.0304429028933588\n",
      "-0.9449995938683802\n",
      "R2: -0.9449995938683802\n"
     ]
    },
    {
     "data": {
      "text/plain": [
       "Text(0.5, 1.0, '')"
      ]
     },
     "execution_count": 15,
     "metadata": {},
     "output_type": "execute_result"
    },
    {
     "data": {
      "image/png": "[encoded data removed]",
      "text/plain": [
       "<Figure size 640x480 with 1 Axes>"
      ]
     },
     "metadata": {},
     "output_type": "display_data"
    }
   ],
   "source": [
    "# remove another outlier (Jah_red)\n",
    "dj_df_small = dj_df_small[dj_df_small[\"DJ Name\"] != \"JAH RED\"]\n",
    "\n",
    "train, test = train_test_split(dj_df_small, test_size = 0.2, train_size = 0.8)\n",
    "\n",
    "small_djs_X_train = train.drop([\"DJ Name\", \"Date\",  \"new_violations\", \"artist_bb\", \"artist_violations\", \"popular_violations\", \"song_violations\", \"Violations\", \"Transformed Violations\"], axis=1)\n",
    "small_djs_X_test = test.drop([\"DJ Name\", \"Date\", \"new_violations\", \"artist_bb\", \"artist_violations\", \"popular_violations\", \"song_violations\", \"Violations\", \"Transformed Violations\"], axis=1)\n",
    "small_djs_Y_train = train[\"Transformed Violations\"]\n",
    "small_djs_Y_test = test[\"Transformed Violations\"]\n",
    "\n",
    "regr = linear_model.LinearRegression()\n",
    "regr.fit(small_djs_X_train, small_djs_Y_train)\n",
    "small_djs_Y_pred = regr.predict(small_djs_X_test)\n",
    "\n",
    "print(\"Coefficients: \\n\", regr.coef_)\n",
    "print(f'Mean Squared Error: {mean_squared_error(small_djs_Y_test, small_djs_Y_pred)}')\n",
    "print(f'{regr.score(small_djs_X_test, small_djs_Y_test)}')\n",
    "print(f'R2: {r2_score(small_djs_Y_test, small_djs_Y_pred)}')\n",
    "\n",
    "residuals = small_djs_Y_test - small_djs_Y_pred\n",
    "ax = sns.regplot(x=small_djs_Y_test, y=residuals)\n",
    "ax.set_xlabel('')\n",
    "ax.set_ylabel('Residuals')\n",
    "ax.set_title('')"
   ]
  },
  {
   "cell_type": "code",
   "execution_count": 16,
   "metadata": {},
   "outputs": [
    {
     "data": {
      "text/plain": [
       "<Axes: xlabel='coef', ylabel='name'>"
      ]
     },
     "execution_count": 16,
     "metadata": {},
     "output_type": "execute_result"
    },
    {
     "data": {
      "image/png": "[encoded data removed]",
      "text/plain": [
       "<Figure size 640x480 with 1 Axes>"
      ]
     },
     "metadata": {},
     "output_type": "display_data"
    }
   ],
   "source": [
    "coeffs = (pd.DataFrame(zip(small_djs_X_train.columns, regr.coef_), columns=['name', 'coef'])).sort_values(by='coef', axis=0)\n",
    "sns.barplot(x=coeffs['coef'], y=coeffs['name'], hue=coeffs['name'], data = coeffs)"
   ]
  },
  {
   "cell_type": "markdown",
   "metadata": {},
   "source": [
    "#### Improving the Model"
   ]
  },
  {
   "cell_type": "code",
   "execution_count": 17,
   "metadata": {},
   "outputs": [
    {
     "name": "stdout",
     "output_type": "stream",
     "text": [
      "Coefficients: \n",
      " [ 0.00000000e+00  1.00324031e-04 -1.51929588e-02  4.47202781e-03\n",
      "  0.00000000e+00 -4.91595040e-03 -0.00000000e+00  0.00000000e+00\n",
      " -0.00000000e+00 -0.00000000e+00  0.00000000e+00 -0.00000000e+00\n",
      "  1.45040803e-02 -1.46236326e-03 -0.00000000e+00 -0.00000000e+00\n",
      "  0.00000000e+00  0.00000000e+00  0.00000000e+00  0.00000000e+00\n",
      " -0.00000000e+00 -0.00000000e+00  0.00000000e+00 -0.00000000e+00\n",
      "  0.00000000e+00  0.00000000e+00  0.00000000e+00  0.00000000e+00\n",
      " -2.56965527e-06]\n",
      "Mean Squared Error: 0.4097902779598049\n",
      "0.22650549393369213\n",
      "R2: -0.9449995938683802\n"
     ]
    },
    {
     "data": {
      "text/plain": [
       "<Axes: xlabel='coef', ylabel='name'>"
      ]
     },
     "execution_count": 17,
     "metadata": {},
     "output_type": "execute_result"
    },
    {
     "data": {
      "image/png": "[encoded data removed]",
      "text/plain": [
       "<Figure size 640x480 with 1 Axes>"
      ]
     },
     "metadata": {},
     "output_type": "display_data"
    }
   ],
   "source": [
    "lasso_mod = linear_model.Lasso()\n",
    "lasso_mod.fit(small_djs_X_train, small_djs_Y_train)\n",
    "lasso_pred = lasso_mod.predict(small_djs_X_test)\n",
    "print(\"Coefficients: \\n\", lasso_mod.coef_)\n",
    "print(f'Mean Squared Error: {mean_squared_error(small_djs_Y_test, lasso_pred)}')\n",
    "print(f'{lasso_mod.score(small_djs_X_test, small_djs_Y_test)}')\n",
    "print(f'R2: {r2_score(small_djs_Y_test, small_djs_Y_pred)}')\n",
    "\n",
    "# add visualizations\n",
    "coeffs = (pd.DataFrame(zip(small_djs_X_train.columns, lasso_mod.coef_), columns=['name', 'coef'])).sort_values(by='coef', axis=0)\n",
    "sns.barplot(x=coeffs['coef'], y=coeffs['name'], hue=coeffs['name'], data = coeffs)"
   ]
  },
  {
   "cell_type": "code",
   "execution_count": 18,
   "metadata": {},
   "outputs": [
    {
     "name": "stdout",
     "output_type": "stream",
     "text": [
      "Coefficients: \n",
      " [-3.18125480e-02  1.69927426e-04 -5.79363645e-02  4.01796991e-02\n",
      "  4.82165580e-02  2.74234666e-02  5.08610187e-02  3.90558957e-02\n",
      " -4.14446291e-01  2.12016797e-02  4.79098057e-02  2.83813358e-02\n",
      "  6.37990279e-02  2.37597688e-02 -3.40215446e-02  3.48201708e-02\n",
      " -8.95313890e-03  9.05727582e-02  4.55014450e-02  4.55014450e-02\n",
      " -1.65493632e-01 -1.82467788e-01  2.43413844e-02 -3.33637419e-02\n",
      " -3.45018205e-02 -3.40129233e-02  9.14154396e-02  1.79126127e-03\n",
      " -9.24781963e-06]\n",
      "Mean Squared Error: 0.8657942618135046\n",
      "-0.6342191138125732\n",
      "R2: -0.9449995938683802\n"
     ]
    },
    {
     "data": {
      "text/plain": [
       "<Axes: xlabel='coef', ylabel='name'>"
      ]
     },
     "execution_count": 18,
     "metadata": {},
     "output_type": "execute_result"
    },
    {
     "data": {
      "image/png": "[encoded data removed]",
      "text/plain": [
       "<Figure size 640x480 with 1 Axes>"
      ]
     },
     "metadata": {},
     "output_type": "display_data"
    }
   ],
   "source": [
    "ridge_mod = linear_model.Ridge(alpha=1.0)\n",
    "ridge_mod.fit(small_djs_X_train, small_djs_Y_train)\n",
    "ridge_pred = ridge_mod.predict(small_djs_X_test)\n",
    "print(\"Coefficients: \\n\", ridge_mod.coef_)\n",
    "print(f'Mean Squared Error: {mean_squared_error(small_djs_Y_test, ridge_pred)}')\n",
    "print(f'{ridge_mod.score(small_djs_X_test, small_djs_Y_test)}')\n",
    "print(f'R2: {r2_score(small_djs_Y_test, small_djs_Y_pred)}')\n",
    "# add visualizations\n",
    "\n",
    "coeffs = (pd.DataFrame(zip(small_djs_X_train.columns, ridge_mod.coef_), columns=['name', 'coef'])).sort_values(by='coef', axis=0)\n",
    "sns.barplot(x=coeffs['coef'], y=coeffs['name'], hue=coeffs['name'], data = coeffs)"
   ]
  },
  {
   "cell_type": "code",
   "execution_count": 75,
   "metadata": {},
   "outputs": [],
   "source": [
    "# permutation importance \n",
    "from sklearn.inspection import permutation_importance \n",
    "#linreg_perm = permutation_importance(regr, X_train, Y_train, n_repeats=100)\n",
    "#linreg_perm.importances_mean"
   ]
  },
  {
   "cell_type": "markdown",
   "metadata": {},
   "source": [
    "### Logistic Regression of Violation"
   ]
  },
  {
   "cell_type": "code",
   "execution_count": 76,
   "metadata": {},
   "outputs": [],
   "source": [
    "from imblearn.over_sampling import SMOTE"
   ]
  },
  {
   "cell_type": "code",
   "execution_count": 77,
   "metadata": {},
   "outputs": [
    {
     "name": "stderr",
     "output_type": "stream",
     "text": [
      "C:\\Users\\16107\\AppData\\Local\\Temp\\ipykernel_39992\\4268079044.py:2: SettingWithCopyWarning: \n",
      "A value is trying to be set on a copy of a slice from a DataFrame\n",
      "\n",
      "See the caveats in the documentation: https://pandas.pydata.org/pandas-docs/stable/user_guide/indexing.html#returning-a-view-versus-a-copy\n",
      "  show_df['log_vol'].loc[show_df['Violations'] >= 1] = 1\n",
      "C:\\Users\\16107\\AppData\\Local\\Temp\\ipykernel_39992\\4268079044.py:3: SettingWithCopyWarning: \n",
      "A value is trying to be set on a copy of a slice from a DataFrame\n",
      "\n",
      "See the caveats in the documentation: https://pandas.pydata.org/pandas-docs/stable/user_guide/indexing.html#returning-a-view-versus-a-copy\n",
      "  show_df['log_vol'].loc[show_df['Violations'] < 1] = 0\n"
     ]
    },
    {
     "data": {
      "text/html": [
       "<div>\n",
       "<style scoped>\n",
       "    .dataframe tbody tr th:only-of-type {\n",
       "        vertical-align: middle;\n",
       "    }\n",
       "\n",
       "    .dataframe tbody tr th {\n",
       "        vertical-align: top;\n",
       "    }\n",
       "\n",
       "    .dataframe thead th {\n",
       "        text-align: right;\n",
       "    }\n",
       "</style>\n",
       "<table border=\"1\" class=\"dataframe\">\n",
       "  <thead>\n",
       "    <tr style=\"text-align: right;\">\n",
       "      <th></th>\n",
       "      <th>DJ Name</th>\n",
       "      <th>Date</th>\n",
       "      <th>New</th>\n",
       "      <th>Total_Spins</th>\n",
       "      <th>Time</th>\n",
       "      <th>0</th>\n",
       "      <th>Blues</th>\n",
       "      <th>Classical</th>\n",
       "      <th>Country</th>\n",
       "      <th>Electronic</th>\n",
       "      <th>...</th>\n",
       "      <th>tempo</th>\n",
       "      <th>duration_ms</th>\n",
       "      <th>new_percent</th>\n",
       "      <th>new_violations</th>\n",
       "      <th>artist_bb</th>\n",
       "      <th>artist_violations</th>\n",
       "      <th>popular_violations</th>\n",
       "      <th>song_violations</th>\n",
       "      <th>Violations</th>\n",
       "      <th>log_vol</th>\n",
       "    </tr>\n",
       "  </thead>\n",
       "  <tbody>\n",
       "    <tr>\n",
       "      <th>0</th>\n",
       "      <td>Adam Higgins</td>\n",
       "      <td>2024-01-05</td>\n",
       "      <td>7</td>\n",
       "      <td>22</td>\n",
       "      <td>12:06:25 AM</td>\n",
       "      <td>1.0</td>\n",
       "      <td>0.0</td>\n",
       "      <td>5.0</td>\n",
       "      <td>0.0</td>\n",
       "      <td>14.0</td>\n",
       "      <td>...</td>\n",
       "      <td>14.240864</td>\n",
       "      <td>45414.454545</td>\n",
       "      <td>0.318182</td>\n",
       "      <td>0</td>\n",
       "      <td>8.0</td>\n",
       "      <td>0.363636</td>\n",
       "      <td>1</td>\n",
       "      <td>0.0</td>\n",
       "      <td>1.0</td>\n",
       "      <td>1</td>\n",
       "    </tr>\n",
       "    <tr>\n",
       "      <th>1</th>\n",
       "      <td>Adam Higgins</td>\n",
       "      <td>2024-01-12</td>\n",
       "      <td>8</td>\n",
       "      <td>24</td>\n",
       "      <td>12:02:22 AM</td>\n",
       "      <td>1.0</td>\n",
       "      <td>0.0</td>\n",
       "      <td>8.0</td>\n",
       "      <td>0.0</td>\n",
       "      <td>8.0</td>\n",
       "      <td>...</td>\n",
       "      <td>15.140833</td>\n",
       "      <td>62700.000000</td>\n",
       "      <td>0.333333</td>\n",
       "      <td>0</td>\n",
       "      <td>2.0</td>\n",
       "      <td>0.083333</td>\n",
       "      <td>0</td>\n",
       "      <td>0.0</td>\n",
       "      <td>0.0</td>\n",
       "      <td>0</td>\n",
       "    </tr>\n",
       "    <tr>\n",
       "      <th>2</th>\n",
       "      <td>Adam Higgins</td>\n",
       "      <td>2024-01-19</td>\n",
       "      <td>8</td>\n",
       "      <td>25</td>\n",
       "      <td>12:03:00 AM</td>\n",
       "      <td>0.0</td>\n",
       "      <td>0.0</td>\n",
       "      <td>8.0</td>\n",
       "      <td>0.0</td>\n",
       "      <td>17.0</td>\n",
       "      <td>...</td>\n",
       "      <td>2.473560</td>\n",
       "      <td>5027.680000</td>\n",
       "      <td>0.320000</td>\n",
       "      <td>0</td>\n",
       "      <td>38.0</td>\n",
       "      <td>1.520000</td>\n",
       "      <td>1</td>\n",
       "      <td>0.0</td>\n",
       "      <td>1.0</td>\n",
       "      <td>1</td>\n",
       "    </tr>\n",
       "    <tr>\n",
       "      <th>3</th>\n",
       "      <td>Adam Higgins</td>\n",
       "      <td>2024-01-26</td>\n",
       "      <td>8</td>\n",
       "      <td>30</td>\n",
       "      <td>12:07:00 AM</td>\n",
       "      <td>4.0</td>\n",
       "      <td>0.0</td>\n",
       "      <td>8.0</td>\n",
       "      <td>0.0</td>\n",
       "      <td>18.0</td>\n",
       "      <td>...</td>\n",
       "      <td>12.686500</td>\n",
       "      <td>53041.366667</td>\n",
       "      <td>0.266667</td>\n",
       "      <td>0</td>\n",
       "      <td>4.0</td>\n",
       "      <td>0.133333</td>\n",
       "      <td>0</td>\n",
       "      <td>0.0</td>\n",
       "      <td>0.0</td>\n",
       "      <td>0</td>\n",
       "    </tr>\n",
       "    <tr>\n",
       "      <th>4</th>\n",
       "      <td>Adam Higgins</td>\n",
       "      <td>2024-02-02</td>\n",
       "      <td>8</td>\n",
       "      <td>24</td>\n",
       "      <td>12:07:00 AM</td>\n",
       "      <td>1.0</td>\n",
       "      <td>0.0</td>\n",
       "      <td>8.0</td>\n",
       "      <td>0.0</td>\n",
       "      <td>3.0</td>\n",
       "      <td>...</td>\n",
       "      <td>24.457917</td>\n",
       "      <td>68776.208333</td>\n",
       "      <td>0.333333</td>\n",
       "      <td>0</td>\n",
       "      <td>24.0</td>\n",
       "      <td>1.000000</td>\n",
       "      <td>1</td>\n",
       "      <td>0.0</td>\n",
       "      <td>1.0</td>\n",
       "      <td>1</td>\n",
       "    </tr>\n",
       "    <tr>\n",
       "      <th>...</th>\n",
       "      <td>...</td>\n",
       "      <td>...</td>\n",
       "      <td>...</td>\n",
       "      <td>...</td>\n",
       "      <td>...</td>\n",
       "      <td>...</td>\n",
       "      <td>...</td>\n",
       "      <td>...</td>\n",
       "      <td>...</td>\n",
       "      <td>...</td>\n",
       "      <td>...</td>\n",
       "      <td>...</td>\n",
       "      <td>...</td>\n",
       "      <td>...</td>\n",
       "      <td>...</td>\n",
       "      <td>...</td>\n",
       "      <td>...</td>\n",
       "      <td>...</td>\n",
       "      <td>...</td>\n",
       "      <td>...</td>\n",
       "      <td>...</td>\n",
       "    </tr>\n",
       "    <tr>\n",
       "      <th>729</th>\n",
       "      <td>otis cleveland</td>\n",
       "      <td>2024-01-30</td>\n",
       "      <td>0</td>\n",
       "      <td>40</td>\n",
       "      <td>8:00:33 PM</td>\n",
       "      <td>11.0</td>\n",
       "      <td>1.0</td>\n",
       "      <td>0.0</td>\n",
       "      <td>1.0</td>\n",
       "      <td>3.0</td>\n",
       "      <td>...</td>\n",
       "      <td>42.370225</td>\n",
       "      <td>57160.150000</td>\n",
       "      <td>0.000000</td>\n",
       "      <td>1</td>\n",
       "      <td>0.0</td>\n",
       "      <td>0.000000</td>\n",
       "      <td>0</td>\n",
       "      <td>0.0</td>\n",
       "      <td>0.0</td>\n",
       "      <td>0</td>\n",
       "    </tr>\n",
       "    <tr>\n",
       "      <th>730</th>\n",
       "      <td>otis cleveland</td>\n",
       "      <td>2024-02-06</td>\n",
       "      <td>0</td>\n",
       "      <td>18</td>\n",
       "      <td>8:01:38 PM</td>\n",
       "      <td>4.0</td>\n",
       "      <td>0.0</td>\n",
       "      <td>0.0</td>\n",
       "      <td>1.0</td>\n",
       "      <td>0.0</td>\n",
       "      <td>...</td>\n",
       "      <td>29.168389</td>\n",
       "      <td>55307.111111</td>\n",
       "      <td>0.000000</td>\n",
       "      <td>1</td>\n",
       "      <td>0.0</td>\n",
       "      <td>0.000000</td>\n",
       "      <td>0</td>\n",
       "      <td>0.0</td>\n",
       "      <td>0.0</td>\n",
       "      <td>0</td>\n",
       "    </tr>\n",
       "    <tr>\n",
       "      <th>731</th>\n",
       "      <td>otis cleveland</td>\n",
       "      <td>2024-02-13</td>\n",
       "      <td>0</td>\n",
       "      <td>33</td>\n",
       "      <td>10:03:59 PM</td>\n",
       "      <td>9.0</td>\n",
       "      <td>2.0</td>\n",
       "      <td>1.0</td>\n",
       "      <td>0.0</td>\n",
       "      <td>0.0</td>\n",
       "      <td>...</td>\n",
       "      <td>25.250364</td>\n",
       "      <td>59831.909091</td>\n",
       "      <td>0.000000</td>\n",
       "      <td>1</td>\n",
       "      <td>0.0</td>\n",
       "      <td>0.000000</td>\n",
       "      <td>0</td>\n",
       "      <td>0.0</td>\n",
       "      <td>0.0</td>\n",
       "      <td>0</td>\n",
       "    </tr>\n",
       "    <tr>\n",
       "      <th>732</th>\n",
       "      <td>otis cleveland</td>\n",
       "      <td>2024-02-20</td>\n",
       "      <td>0</td>\n",
       "      <td>24</td>\n",
       "      <td>8:01:29 PM</td>\n",
       "      <td>11.0</td>\n",
       "      <td>0.0</td>\n",
       "      <td>0.0</td>\n",
       "      <td>0.0</td>\n",
       "      <td>0.0</td>\n",
       "      <td>...</td>\n",
       "      <td>63.319542</td>\n",
       "      <td>160304.291667</td>\n",
       "      <td>0.000000</td>\n",
       "      <td>1</td>\n",
       "      <td>0.0</td>\n",
       "      <td>0.000000</td>\n",
       "      <td>0</td>\n",
       "      <td>0.0</td>\n",
       "      <td>0.0</td>\n",
       "      <td>0</td>\n",
       "    </tr>\n",
       "    <tr>\n",
       "      <th>733</th>\n",
       "      <td>otis cleveland</td>\n",
       "      <td>2024-02-27</td>\n",
       "      <td>0</td>\n",
       "      <td>24</td>\n",
       "      <td>8:16:37 PM</td>\n",
       "      <td>0.0</td>\n",
       "      <td>0.0</td>\n",
       "      <td>4.0</td>\n",
       "      <td>0.0</td>\n",
       "      <td>1.0</td>\n",
       "      <td>...</td>\n",
       "      <td>41.611083</td>\n",
       "      <td>49619.125000</td>\n",
       "      <td>0.000000</td>\n",
       "      <td>1</td>\n",
       "      <td>0.0</td>\n",
       "      <td>0.000000</td>\n",
       "      <td>0</td>\n",
       "      <td>0.0</td>\n",
       "      <td>0.0</td>\n",
       "      <td>0</td>\n",
       "    </tr>\n",
       "  </tbody>\n",
       "</table>\n",
       "<p>734 rows × 39 columns</p>\n",
       "</div>"
      ],
      "text/plain": [
       "            DJ Name       Date  New  Total_Spins         Time     0  Blues  \\\n",
       "0      Adam Higgins 2024-01-05    7           22  12:06:25 AM   1.0    0.0   \n",
       "1      Adam Higgins 2024-01-12    8           24  12:02:22 AM   1.0    0.0   \n",
       "2      Adam Higgins 2024-01-19    8           25  12:03:00 AM   0.0    0.0   \n",
       "3      Adam Higgins 2024-01-26    8           30  12:07:00 AM   4.0    0.0   \n",
       "4      Adam Higgins 2024-02-02    8           24  12:07:00 AM   1.0    0.0   \n",
       "..              ...        ...  ...          ...          ...   ...    ...   \n",
       "729  otis cleveland 2024-01-30    0           40   8:00:33 PM  11.0    1.0   \n",
       "730  otis cleveland 2024-02-06    0           18   8:01:38 PM   4.0    0.0   \n",
       "731  otis cleveland 2024-02-13    0           33  10:03:59 PM   9.0    2.0   \n",
       "732  otis cleveland 2024-02-20    0           24   8:01:29 PM  11.0    0.0   \n",
       "733  otis cleveland 2024-02-27    0           24   8:16:37 PM   0.0    0.0   \n",
       "\n",
       "     Classical  Country  Electronic  ...      tempo    duration_ms  \\\n",
       "0          5.0      0.0        14.0  ...  14.240864   45414.454545   \n",
       "1          8.0      0.0         8.0  ...  15.140833   62700.000000   \n",
       "2          8.0      0.0        17.0  ...   2.473560    5027.680000   \n",
       "3          8.0      0.0        18.0  ...  12.686500   53041.366667   \n",
       "4          8.0      0.0         3.0  ...  24.457917   68776.208333   \n",
       "..         ...      ...         ...  ...        ...            ...   \n",
       "729        0.0      1.0         3.0  ...  42.370225   57160.150000   \n",
       "730        0.0      1.0         0.0  ...  29.168389   55307.111111   \n",
       "731        1.0      0.0         0.0  ...  25.250364   59831.909091   \n",
       "732        0.0      0.0         0.0  ...  63.319542  160304.291667   \n",
       "733        4.0      0.0         1.0  ...  41.611083   49619.125000   \n",
       "\n",
       "     new_percent  new_violations  artist_bb  artist_violations  \\\n",
       "0       0.318182               0        8.0           0.363636   \n",
       "1       0.333333               0        2.0           0.083333   \n",
       "2       0.320000               0       38.0           1.520000   \n",
       "3       0.266667               0        4.0           0.133333   \n",
       "4       0.333333               0       24.0           1.000000   \n",
       "..           ...             ...        ...                ...   \n",
       "729     0.000000               1        0.0           0.000000   \n",
       "730     0.000000               1        0.0           0.000000   \n",
       "731     0.000000               1        0.0           0.000000   \n",
       "732     0.000000               1        0.0           0.000000   \n",
       "733     0.000000               1        0.0           0.000000   \n",
       "\n",
       "     popular_violations  song_violations  Violations  log_vol  \n",
       "0                     1              0.0         1.0        1  \n",
       "1                     0              0.0         0.0        0  \n",
       "2                     1              0.0         1.0        1  \n",
       "3                     0              0.0         0.0        0  \n",
       "4                     1              0.0         1.0        1  \n",
       "..                  ...              ...         ...      ...  \n",
       "729                   0              0.0         0.0        0  \n",
       "730                   0              0.0         0.0        0  \n",
       "731                   0              0.0         0.0        0  \n",
       "732                   0              0.0         0.0        0  \n",
       "733                   0              0.0         0.0        0  \n",
       "\n",
       "[734 rows x 39 columns]"
      ]
     },
     "execution_count": 77,
     "metadata": {},
     "output_type": "execute_result"
    }
   ],
   "source": [
    "show_df['log_vol'] = None\n",
    "show_df['log_vol'].loc[show_df['Violations'] >= 1] = 1\n",
    "show_df['log_vol'].loc[show_df['Violations'] < 1] = 0\n",
    "show_df['log_vol'].astype(int)\n",
    "show_df"
   ]
  },
  {
   "cell_type": "code",
   "execution_count": 78,
   "metadata": {},
   "outputs": [],
   "source": [
    "from sklearn import preprocessing \n",
    "from sklearn.metrics import confusion_matrix\n",
    "#plot_roc_curve "
   ]
  },
  {
   "cell_type": "code",
   "execution_count": null,
   "metadata": {},
   "outputs": [],
   "source": []
  },
  {
   "cell_type": "code",
   "execution_count": 79,
   "metadata": {},
   "outputs": [
    {
     "name": "stdout",
     "output_type": "stream",
     "text": [
      "95\n",
      "['Adam Higgins' 'Agent One' 'Ava P' 'Babytooth' 'Bix' 'Brad Barratt'\n",
      " 'Chloe' 'Cordiform' 'Corey' 'Count Emily' 'DJ  Sweet T'\n",
      " 'DJ Annie Banannie' 'DJ B']\n"
     ]
    }
   ],
   "source": [
    "print(sum(show_df['log_vol']))\n",
    "violation_djs = show_df[[\"DJ Name\"]][show_df['log_vol'] == 1][\"DJ Name\"].unique()\n",
    "print(violation_djs)"
   ]
  },
  {
   "cell_type": "code",
   "execution_count": 80,
   "metadata": {},
   "outputs": [
    {
     "name": "stdout",
     "output_type": "stream",
     "text": [
      "Training accuracy:  0.8824531516183987\n",
      "Test accuracy:  0.8299319727891157\n"
     ]
    },
    {
     "name": "stderr",
     "output_type": "stream",
     "text": [
      "C:\\Users\\16107\\AppData\\Local\\Packages\\PythonSoftwareFoundation.Python.3.10_qbz5n2kfra8p0\\LocalCache\\local-packages\\Python310\\site-packages\\sklearn\\linear_model\\_logistic.py:469: ConvergenceWarning: lbfgs failed to converge (status=1):\n",
      "STOP: TOTAL NO. of ITERATIONS REACHED LIMIT.\n",
      "\n",
      "Increase the number of iterations (max_iter) or scale the data as shown in:\n",
      "    https://scikit-learn.org/stable/modules/preprocessing.html\n",
      "Please also refer to the documentation for alternative solver options:\n",
      "    https://scikit-learn.org/stable/modules/linear_model.html#logistic-regression\n",
      "  n_iter_i = _check_optimize_result(\n"
     ]
    }
   ],
   "source": [
    "sm = SMOTE()\n",
    "train, test = train_test_split(show_df, test_size = 0.2, train_size = 0.8)\n",
    "\n",
    "X_train = train.drop([\"DJ Name\", \"Date\", \"Time\", \"New\", \"new_percent\", \"new_violations\", \"artist_bb\", \"artist_violations\", \"popular_violations\", \"song_violations\", \"Violations\",  \"log_vol\"], axis=1)\n",
    "X_test = test.drop([\"DJ Name\", \"Date\", \"Time\", \"New\", \"new_percent\", \"new_violations\", \"artist_bb\", \"artist_violations\", \"popular_violations\", \"song_violations\", \"Violations\",  \"log_vol\"], axis=1)\n",
    "\n",
    "#scaler = preprocessing.StandardScaler().fit(X_train.values)\n",
    "#X_scaled = scaler.transform(X_train.values)\n",
    "X_train.columns = X_train.columns.astype(str)\n",
    "X_test.columns = X_test.columns.astype(str)\n",
    "\n",
    "Y_train = train[\"log_vol\"].astype(int)\n",
    "Y_test = test[\"log_vol\"].astype(int)\n",
    "\n",
    "log_mod = linear_model.LogisticRegression(max_iter=1000)\n",
    "log_mod.fit(X_train, Y_train)\n",
    "print(\"Training accuracy: \", log_mod.score(X_train, Y_train))\n",
    "Y_pred = log_mod.predict(X_test)\n",
    "print(\"Test accuracy: \", log_mod.score(X_test, Y_test))"
   ]
  },
  {
   "cell_type": "code",
   "execution_count": null,
   "metadata": {},
   "outputs": [],
   "source": []
  },
  {
   "cell_type": "code",
   "execution_count": 81,
   "metadata": {},
   "outputs": [
    {
     "name": "stdout",
     "output_type": "stream",
     "text": [
      "Before OverSampling, counts of label '1': 70\n",
      "Before OverSampling, counts of label '0': 517 \n",
      "\n",
      "After OverSampling, counts of label '1': 517\n",
      "After OverSampling, counts of label '0': 517\n"
     ]
    }
   ],
   "source": [
    "print(\"Before OverSampling, counts of label '1': {}\".format(sum(Y_train == 1))) \n",
    "print(\"Before OverSampling, counts of label '0': {} \\n\".format(sum(Y_train == 0))) \n",
    "\n",
    "X_train_s, Y_train_s = sm.fit_resample(X_train, Y_train)\n",
    "\n",
    "print(\"After OverSampling, counts of label '1': {}\".format(sum(Y_train_s == 1))) \n",
    "print(\"After OverSampling, counts of label '0': {}\".format(sum(Y_train_s == 0))) "
   ]
  },
  {
   "cell_type": "code",
   "execution_count": 82,
   "metadata": {},
   "outputs": [
    {
     "name": "stdout",
     "output_type": "stream",
     "text": [
      "Training accuracy:  0.7156673114119922\n",
      "Test accuracy:  0.6870748299319728\n"
     ]
    },
    {
     "name": "stderr",
     "output_type": "stream",
     "text": [
      "C:\\Users\\16107\\AppData\\Local\\Packages\\PythonSoftwareFoundation.Python.3.10_qbz5n2kfra8p0\\LocalCache\\local-packages\\Python310\\site-packages\\sklearn\\linear_model\\_logistic.py:469: ConvergenceWarning: lbfgs failed to converge (status=1):\n",
      "STOP: TOTAL NO. of ITERATIONS REACHED LIMIT.\n",
      "\n",
      "Increase the number of iterations (max_iter) or scale the data as shown in:\n",
      "    https://scikit-learn.org/stable/modules/preprocessing.html\n",
      "Please also refer to the documentation for alternative solver options:\n",
      "    https://scikit-learn.org/stable/modules/linear_model.html#logistic-regression\n",
      "  n_iter_i = _check_optimize_result(\n"
     ]
    }
   ],
   "source": [
    "smote_mod = linear_model.LogisticRegression(max_iter=1000)\n",
    "smote_mod.fit(X_train_s, Y_train_s)\n",
    "Y_pred = smote_mod.predict(X_test)\n",
    "print(\"Training accuracy: \", smote_mod.score(X_train_s, Y_train_s))\n",
    "Y_pred = log_mod.predict(X_test)\n",
    "print(\"Test accuracy: \", smote_mod.score(X_test, Y_test))"
   ]
  },
  {
   "cell_type": "code",
   "execution_count": 83,
   "metadata": {},
   "outputs": [
    {
     "name": "stdout",
     "output_type": "stream",
     "text": [
      "             feature      coef\n",
      "9        Hip Hop/Rap -0.481950\n",
      "12            Reggae -0.429408\n",
      "14             World -0.277292\n",
      "7               Folk -0.250158\n",
      "0        Total_Spins -0.192590\n",
      "21      acousticness -0.043030\n",
      "19              mode -0.029595\n",
      "6       Experimental -0.009926\n",
      "15      danceability -0.006628\n",
      "22  instruemtnalness -0.005908\n",
      "24           valence -0.004844\n",
      "26       duration_ms  0.000007\n",
      "23          liveness  0.000830\n",
      "20       speechiness  0.002974\n",
      "25             tempo  0.005093\n",
      "16            energy  0.023727\n",
      "17               key  0.023727\n",
      "3          Classical  0.107379\n",
      "1                  0  0.128563\n",
      "13              Rock  0.160429\n",
      "18          loudness  0.187797\n",
      "11          R&B/Soul  0.246541\n",
      "5         Electronic  0.259209\n",
      "10              Jazz  0.266435\n",
      "8        Heavy Metal  0.617294\n",
      "2              Blues  0.653094\n",
      "4            Country  0.664520\n"
     ]
    },
    {
     "name": "stderr",
     "output_type": "stream",
     "text": [
      "C:\\Users\\16107\\AppData\\Local\\Temp\\ipykernel_39992\\2907968995.py:7: UserWarning: \n",
      "\n",
      "`distplot` is a deprecated function and will be removed in seaborn v0.14.0.\n",
      "\n",
      "Please adapt your code to use either `displot` (a figure-level function with\n",
      "similar flexibility) or `histplot` (an axes-level function for histograms).\n",
      "\n",
      "For a guide to updating your code to use the new functions, please see\n",
      "https://gist.github.com/mwaskom/de44147ed2974457ad6372750bbe5751\n",
      "\n",
      "  sns.distplot(df_coefs['coef'], kde=False).set(yscale=\"log\")\n"
     ]
    },
    {
     "data": {
      "text/plain": [
       "[None]"
      ]
     },
     "execution_count": 83,
     "metadata": {},
     "output_type": "execute_result"
    },
    {
     "data": {
      "image/png": "[encoded data removed]",
      "text/plain": [
       "<Figure size 640x480 with 1 Axes>"
      ]
     },
     "metadata": {},
     "output_type": "display_data"
    }
   ],
   "source": [
    "df_coefs = pd.DataFrame()\n",
    "df_coefs[\"feature\"] = X_train_s.columns\n",
    "df_coefs[\"coef\"] = smote_mod.coef_[0]\n",
    "df_coefs.sort_values('coef', inplace=True)\n",
    "print(df_coefs)\n",
    "\n",
    "sns.distplot(df_coefs['coef'], kde=False).set(yscale=\"log\")"
   ]
  },
  {
   "cell_type": "code",
   "execution_count": 84,
   "metadata": {},
   "outputs": [
    {
     "name": "stdout",
     "output_type": "stream",
     "text": [
      "features most associated with violations: ['Classical' '0' 'Rock' 'loudness' 'R&B/Soul' 'Electronic' 'Jazz'\n",
      " 'Heavy Metal' 'Blues' 'Country']\n"
     ]
    },
    {
     "data": {
      "text/plain": [
       "<Axes: xlabel='coef', ylabel='feature'>"
      ]
     },
     "execution_count": 84,
     "metadata": {},
     "output_type": "execute_result"
    },
    {
     "data": {
      "image/png": "[encoded data removed]",
      "text/plain": [
       "<Figure size 640x480 with 1 Axes>"
      ]
     },
     "metadata": {},
     "output_type": "display_data"
    }
   ],
   "source": [
    "top_10_violations = df_coefs['feature'].values[-10:]\n",
    "#top_10_non = df_coefs['feature'].values{-10:]\n",
    "\n",
    "print(\"features most associated with violations:\", top_10_violations) \n",
    "\n",
    "#coeffs = (pd.DataFrame(zip(X_train_s.columns, smote_mod.coef_), columns=['name', 'coef'])).sort_values(by='coef', axis=0)\n",
    "sns.barplot(x=df_coefs['coef'], y=df_coefs['feature'], hue=df_coefs['feature'], data = df_coefs)"
   ]
  },
  {
   "cell_type": "code",
   "execution_count": 60,
   "metadata": {},
   "outputs": [],
   "source": [
    "from sklearn.metrics import ConfusionMatrixDisplay\n",
    "# MAKE THE CONFUSION MATRIX \n",
    "#display = ConfusionMatrixDisplay(smote_mod, X_test, Y_test)"
   ]
  },
  {
   "cell_type": "markdown",
   "metadata": {},
   "source": [
    "#### Decision Tree? "
   ]
  },
  {
   "cell_type": "code",
   "execution_count": 66,
   "metadata": {},
   "outputs": [
    {
     "ename": "ExecutableNotFound",
     "evalue": "failed to execute WindowsPath('dot'), make sure the Graphviz executables are on your systems' PATH",
     "output_type": "error",
     "traceback": [
      "\u001b[1;31m---------------------------------------------------------------------------\u001b[0m",
      "\u001b[1;31mFileNotFoundError\u001b[0m                         Traceback (most recent call last)",
      "File \u001b[1;32m~\\AppData\\Local\\Packages\\PythonSoftwareFoundation.Python.3.10_qbz5n2kfra8p0\\LocalCache\\local-packages\\Python310\\site-packages\\graphviz\\backend\\execute.py:76\u001b[0m, in \u001b[0;36mrun_check\u001b[1;34m(cmd, input_lines, encoding, quiet, **kwargs)\u001b[0m\n\u001b[0;32m     75\u001b[0m         kwargs[\u001b[38;5;124m'\u001b[39m\u001b[38;5;124mstdout\u001b[39m\u001b[38;5;124m'\u001b[39m] \u001b[38;5;241m=\u001b[39m kwargs[\u001b[38;5;124m'\u001b[39m\u001b[38;5;124mstderr\u001b[39m\u001b[38;5;124m'\u001b[39m] \u001b[38;5;241m=\u001b[39m subprocess\u001b[38;5;241m.\u001b[39mPIPE\n\u001b[1;32m---> 76\u001b[0m     proc \u001b[38;5;241m=\u001b[39m \u001b[43m_run_input_lines\u001b[49m\u001b[43m(\u001b[49m\u001b[43mcmd\u001b[49m\u001b[43m,\u001b[49m\u001b[43m \u001b[49m\u001b[43minput_lines\u001b[49m\u001b[43m,\u001b[49m\u001b[43m \u001b[49m\u001b[43mkwargs\u001b[49m\u001b[38;5;241;43m=\u001b[39;49m\u001b[43mkwargs\u001b[49m\u001b[43m)\u001b[49m\n\u001b[0;32m     77\u001b[0m \u001b[38;5;28;01melse\u001b[39;00m:\n",
      "File \u001b[1;32m~\\AppData\\Local\\Packages\\PythonSoftwareFoundation.Python.3.10_qbz5n2kfra8p0\\LocalCache\\local-packages\\Python310\\site-packages\\graphviz\\backend\\execute.py:96\u001b[0m, in \u001b[0;36m_run_input_lines\u001b[1;34m(cmd, input_lines, kwargs)\u001b[0m\n\u001b[0;32m     95\u001b[0m \u001b[38;5;28;01mdef\u001b[39;00m \u001b[38;5;21m_run_input_lines\u001b[39m(cmd, input_lines, \u001b[38;5;241m*\u001b[39m, kwargs):\n\u001b[1;32m---> 96\u001b[0m     popen \u001b[38;5;241m=\u001b[39m subprocess\u001b[38;5;241m.\u001b[39mPopen(cmd, stdin\u001b[38;5;241m=\u001b[39msubprocess\u001b[38;5;241m.\u001b[39mPIPE, \u001b[38;5;241m*\u001b[39m\u001b[38;5;241m*\u001b[39mkwargs)\n\u001b[0;32m     98\u001b[0m     stdin_write \u001b[38;5;241m=\u001b[39m popen\u001b[38;5;241m.\u001b[39mstdin\u001b[38;5;241m.\u001b[39mwrite\n",
      "File \u001b[1;32mC:\\Program Files\\WindowsApps\\PythonSoftwareFoundation.Python.3.10_3.10.3056.0_x64__qbz5n2kfra8p0\\lib\\subprocess.py:971\u001b[0m, in \u001b[0;36mPopen.__init__\u001b[1;34m(self, args, bufsize, executable, stdin, stdout, stderr, preexec_fn, close_fds, shell, cwd, env, universal_newlines, startupinfo, creationflags, restore_signals, start_new_session, pass_fds, user, group, extra_groups, encoding, errors, text, umask, pipesize)\u001b[0m\n\u001b[0;32m    968\u001b[0m             \u001b[38;5;28mself\u001b[39m\u001b[38;5;241m.\u001b[39mstderr \u001b[38;5;241m=\u001b[39m io\u001b[38;5;241m.\u001b[39mTextIOWrapper(\u001b[38;5;28mself\u001b[39m\u001b[38;5;241m.\u001b[39mstderr,\n\u001b[0;32m    969\u001b[0m                     encoding\u001b[38;5;241m=\u001b[39mencoding, errors\u001b[38;5;241m=\u001b[39merrors)\n\u001b[1;32m--> 971\u001b[0m     \u001b[38;5;28;43mself\u001b[39;49m\u001b[38;5;241;43m.\u001b[39;49m\u001b[43m_execute_child\u001b[49m\u001b[43m(\u001b[49m\u001b[43margs\u001b[49m\u001b[43m,\u001b[49m\u001b[43m \u001b[49m\u001b[43mexecutable\u001b[49m\u001b[43m,\u001b[49m\u001b[43m \u001b[49m\u001b[43mpreexec_fn\u001b[49m\u001b[43m,\u001b[49m\u001b[43m \u001b[49m\u001b[43mclose_fds\u001b[49m\u001b[43m,\u001b[49m\n\u001b[0;32m    972\u001b[0m \u001b[43m                        \u001b[49m\u001b[43mpass_fds\u001b[49m\u001b[43m,\u001b[49m\u001b[43m \u001b[49m\u001b[43mcwd\u001b[49m\u001b[43m,\u001b[49m\u001b[43m \u001b[49m\u001b[43menv\u001b[49m\u001b[43m,\u001b[49m\n\u001b[0;32m    973\u001b[0m \u001b[43m                        \u001b[49m\u001b[43mstartupinfo\u001b[49m\u001b[43m,\u001b[49m\u001b[43m \u001b[49m\u001b[43mcreationflags\u001b[49m\u001b[43m,\u001b[49m\u001b[43m \u001b[49m\u001b[43mshell\u001b[49m\u001b[43m,\u001b[49m\n\u001b[0;32m    974\u001b[0m \u001b[43m                        \u001b[49m\u001b[43mp2cread\u001b[49m\u001b[43m,\u001b[49m\u001b[43m \u001b[49m\u001b[43mp2cwrite\u001b[49m\u001b[43m,\u001b[49m\n\u001b[0;32m    975\u001b[0m \u001b[43m                        \u001b[49m\u001b[43mc2pread\u001b[49m\u001b[43m,\u001b[49m\u001b[43m \u001b[49m\u001b[43mc2pwrite\u001b[49m\u001b[43m,\u001b[49m\n\u001b[0;32m    976\u001b[0m \u001b[43m                        \u001b[49m\u001b[43merrread\u001b[49m\u001b[43m,\u001b[49m\u001b[43m \u001b[49m\u001b[43merrwrite\u001b[49m\u001b[43m,\u001b[49m\n\u001b[0;32m    977\u001b[0m \u001b[43m                        \u001b[49m\u001b[43mrestore_signals\u001b[49m\u001b[43m,\u001b[49m\n\u001b[0;32m    978\u001b[0m \u001b[43m                        \u001b[49m\u001b[43mgid\u001b[49m\u001b[43m,\u001b[49m\u001b[43m \u001b[49m\u001b[43mgids\u001b[49m\u001b[43m,\u001b[49m\u001b[43m \u001b[49m\u001b[43muid\u001b[49m\u001b[43m,\u001b[49m\u001b[43m \u001b[49m\u001b[43mumask\u001b[49m\u001b[43m,\u001b[49m\n\u001b[0;32m    979\u001b[0m \u001b[43m                        \u001b[49m\u001b[43mstart_new_session\u001b[49m\u001b[43m)\u001b[49m\n\u001b[0;32m    980\u001b[0m \u001b[38;5;28;01mexcept\u001b[39;00m:\n\u001b[0;32m    981\u001b[0m     \u001b[38;5;66;03m# Cleanup if the child failed starting.\u001b[39;00m\n",
      "File \u001b[1;32mC:\\Program Files\\WindowsApps\\PythonSoftwareFoundation.Python.3.10_3.10.3056.0_x64__qbz5n2kfra8p0\\lib\\subprocess.py:1456\u001b[0m, in \u001b[0;36mPopen._execute_child\u001b[1;34m(self, args, executable, preexec_fn, close_fds, pass_fds, cwd, env, startupinfo, creationflags, shell, p2cread, p2cwrite, c2pread, c2pwrite, errread, errwrite, unused_restore_signals, unused_gid, unused_gids, unused_uid, unused_umask, unused_start_new_session)\u001b[0m\n\u001b[0;32m   1455\u001b[0m \u001b[38;5;28;01mtry\u001b[39;00m:\n\u001b[1;32m-> 1456\u001b[0m     hp, ht, pid, tid \u001b[38;5;241m=\u001b[39m \u001b[43m_winapi\u001b[49m\u001b[38;5;241;43m.\u001b[39;49m\u001b[43mCreateProcess\u001b[49m\u001b[43m(\u001b[49m\u001b[43mexecutable\u001b[49m\u001b[43m,\u001b[49m\u001b[43m \u001b[49m\u001b[43margs\u001b[49m\u001b[43m,\u001b[49m\n\u001b[0;32m   1457\u001b[0m \u001b[43m                             \u001b[49m\u001b[38;5;66;43;03m# no special security\u001b[39;49;00m\n\u001b[0;32m   1458\u001b[0m \u001b[43m                             \u001b[49m\u001b[38;5;28;43;01mNone\u001b[39;49;00m\u001b[43m,\u001b[49m\u001b[43m \u001b[49m\u001b[38;5;28;43;01mNone\u001b[39;49;00m\u001b[43m,\u001b[49m\n\u001b[0;32m   1459\u001b[0m \u001b[43m                             \u001b[49m\u001b[38;5;28;43mint\u001b[39;49m\u001b[43m(\u001b[49m\u001b[38;5;129;43;01mnot\u001b[39;49;00m\u001b[43m \u001b[49m\u001b[43mclose_fds\u001b[49m\u001b[43m)\u001b[49m\u001b[43m,\u001b[49m\n\u001b[0;32m   1460\u001b[0m \u001b[43m                             \u001b[49m\u001b[43mcreationflags\u001b[49m\u001b[43m,\u001b[49m\n\u001b[0;32m   1461\u001b[0m \u001b[43m                             \u001b[49m\u001b[43menv\u001b[49m\u001b[43m,\u001b[49m\n\u001b[0;32m   1462\u001b[0m \u001b[43m                             \u001b[49m\u001b[43mcwd\u001b[49m\u001b[43m,\u001b[49m\n\u001b[0;32m   1463\u001b[0m \u001b[43m                             \u001b[49m\u001b[43mstartupinfo\u001b[49m\u001b[43m)\u001b[49m\n\u001b[0;32m   1464\u001b[0m \u001b[38;5;28;01mfinally\u001b[39;00m:\n\u001b[0;32m   1465\u001b[0m     \u001b[38;5;66;03m# Child is launched. Close the parent's copy of those pipe\u001b[39;00m\n\u001b[0;32m   1466\u001b[0m     \u001b[38;5;66;03m# handles that only the child should have open.  You need\u001b[39;00m\n\u001b[1;32m   (...)\u001b[0m\n\u001b[0;32m   1469\u001b[0m     \u001b[38;5;66;03m# pipe will not close when the child process exits and the\u001b[39;00m\n\u001b[0;32m   1470\u001b[0m     \u001b[38;5;66;03m# ReadFile will hang.\u001b[39;00m\n",
      "\u001b[1;31mFileNotFoundError\u001b[0m: [WinError 2] The system cannot find the file specified",
      "\nThe above exception was the direct cause of the following exception:\n",
      "\u001b[1;31mExecutableNotFound\u001b[0m                        Traceback (most recent call last)",
      "File \u001b[1;32m~\\AppData\\Local\\Packages\\PythonSoftwareFoundation.Python.3.10_qbz5n2kfra8p0\\LocalCache\\local-packages\\Python310\\site-packages\\IPython\\core\\formatters.py:974\u001b[0m, in \u001b[0;36mMimeBundleFormatter.__call__\u001b[1;34m(self, obj, include, exclude)\u001b[0m\n\u001b[0;32m    971\u001b[0m     method \u001b[38;5;241m=\u001b[39m get_real_method(obj, \u001b[38;5;28mself\u001b[39m\u001b[38;5;241m.\u001b[39mprint_method)\n\u001b[0;32m    973\u001b[0m     \u001b[38;5;28;01mif\u001b[39;00m method \u001b[38;5;129;01mis\u001b[39;00m \u001b[38;5;129;01mnot\u001b[39;00m \u001b[38;5;28;01mNone\u001b[39;00m:\n\u001b[1;32m--> 974\u001b[0m         \u001b[38;5;28;01mreturn\u001b[39;00m \u001b[43mmethod\u001b[49m\u001b[43m(\u001b[49m\u001b[43minclude\u001b[49m\u001b[38;5;241;43m=\u001b[39;49m\u001b[43minclude\u001b[49m\u001b[43m,\u001b[49m\u001b[43m \u001b[49m\u001b[43mexclude\u001b[49m\u001b[38;5;241;43m=\u001b[39;49m\u001b[43mexclude\u001b[49m\u001b[43m)\u001b[49m\n\u001b[0;32m    975\u001b[0m     \u001b[38;5;28;01mreturn\u001b[39;00m \u001b[38;5;28;01mNone\u001b[39;00m\n\u001b[0;32m    976\u001b[0m \u001b[38;5;28;01melse\u001b[39;00m:\n",
      "File \u001b[1;32m~\\AppData\\Local\\Packages\\PythonSoftwareFoundation.Python.3.10_qbz5n2kfra8p0\\LocalCache\\local-packages\\Python310\\site-packages\\graphviz\\jupyter_integration.py:98\u001b[0m, in \u001b[0;36mJupyterIntegration._repr_mimebundle_\u001b[1;34m(self, include, exclude, **_)\u001b[0m\n\u001b[0;32m     96\u001b[0m include \u001b[38;5;241m=\u001b[39m \u001b[38;5;28mset\u001b[39m(include) \u001b[38;5;28;01mif\u001b[39;00m include \u001b[38;5;129;01mis\u001b[39;00m \u001b[38;5;129;01mnot\u001b[39;00m \u001b[38;5;28;01mNone\u001b[39;00m \u001b[38;5;28;01melse\u001b[39;00m {\u001b[38;5;28mself\u001b[39m\u001b[38;5;241m.\u001b[39m_jupyter_mimetype}\n\u001b[0;32m     97\u001b[0m include \u001b[38;5;241m-\u001b[39m\u001b[38;5;241m=\u001b[39m \u001b[38;5;28mset\u001b[39m(exclude \u001b[38;5;129;01mor\u001b[39;00m [])\n\u001b[1;32m---> 98\u001b[0m \u001b[38;5;28;01mreturn\u001b[39;00m {mimetype: \u001b[38;5;28mgetattr\u001b[39m(\u001b[38;5;28mself\u001b[39m, method_name)()\n\u001b[0;32m     99\u001b[0m         \u001b[38;5;28;01mfor\u001b[39;00m mimetype, method_name \u001b[38;5;129;01min\u001b[39;00m MIME_TYPES\u001b[38;5;241m.\u001b[39mitems()\n\u001b[0;32m    100\u001b[0m         \u001b[38;5;28;01mif\u001b[39;00m mimetype \u001b[38;5;129;01min\u001b[39;00m include}\n",
      "File \u001b[1;32m~\\AppData\\Local\\Packages\\PythonSoftwareFoundation.Python.3.10_qbz5n2kfra8p0\\LocalCache\\local-packages\\Python310\\site-packages\\graphviz\\jupyter_integration.py:98\u001b[0m, in \u001b[0;36m<dictcomp>\u001b[1;34m(.0)\u001b[0m\n\u001b[0;32m     96\u001b[0m include \u001b[38;5;241m=\u001b[39m \u001b[38;5;28mset\u001b[39m(include) \u001b[38;5;28;01mif\u001b[39;00m include \u001b[38;5;129;01mis\u001b[39;00m \u001b[38;5;129;01mnot\u001b[39;00m \u001b[38;5;28;01mNone\u001b[39;00m \u001b[38;5;28;01melse\u001b[39;00m {\u001b[38;5;28mself\u001b[39m\u001b[38;5;241m.\u001b[39m_jupyter_mimetype}\n\u001b[0;32m     97\u001b[0m include \u001b[38;5;241m-\u001b[39m\u001b[38;5;241m=\u001b[39m \u001b[38;5;28mset\u001b[39m(exclude \u001b[38;5;129;01mor\u001b[39;00m [])\n\u001b[1;32m---> 98\u001b[0m \u001b[38;5;28;01mreturn\u001b[39;00m {mimetype: \u001b[38;5;28;43mgetattr\u001b[39;49m\u001b[43m(\u001b[49m\u001b[38;5;28;43mself\u001b[39;49m\u001b[43m,\u001b[49m\u001b[43m \u001b[49m\u001b[43mmethod_name\u001b[49m\u001b[43m)\u001b[49m\u001b[43m(\u001b[49m\u001b[43m)\u001b[49m\n\u001b[0;32m     99\u001b[0m         \u001b[38;5;28;01mfor\u001b[39;00m mimetype, method_name \u001b[38;5;129;01min\u001b[39;00m MIME_TYPES\u001b[38;5;241m.\u001b[39mitems()\n\u001b[0;32m    100\u001b[0m         \u001b[38;5;28;01mif\u001b[39;00m mimetype \u001b[38;5;129;01min\u001b[39;00m include}\n",
      "File \u001b[1;32m~\\AppData\\Local\\Packages\\PythonSoftwareFoundation.Python.3.10_qbz5n2kfra8p0\\LocalCache\\local-packages\\Python310\\site-packages\\graphviz\\jupyter_integration.py:112\u001b[0m, in \u001b[0;36mJupyterIntegration._repr_image_svg_xml\u001b[1;34m(self)\u001b[0m\n\u001b[0;32m    110\u001b[0m \u001b[38;5;28;01mdef\u001b[39;00m \u001b[38;5;21m_repr_image_svg_xml\u001b[39m(\u001b[38;5;28mself\u001b[39m) \u001b[38;5;241m-\u001b[39m\u001b[38;5;241m>\u001b[39m \u001b[38;5;28mstr\u001b[39m:\n\u001b[0;32m    111\u001b[0m \u001b[38;5;250m    \u001b[39m\u001b[38;5;124;03m\"\"\"Return the rendered graph as SVG string.\"\"\"\u001b[39;00m\n\u001b[1;32m--> 112\u001b[0m     \u001b[38;5;28;01mreturn\u001b[39;00m \u001b[38;5;28;43mself\u001b[39;49m\u001b[38;5;241;43m.\u001b[39;49m\u001b[43mpipe\u001b[49m\u001b[43m(\u001b[49m\u001b[38;5;28;43mformat\u001b[39;49m\u001b[38;5;241;43m=\u001b[39;49m\u001b[38;5;124;43m'\u001b[39;49m\u001b[38;5;124;43msvg\u001b[39;49m\u001b[38;5;124;43m'\u001b[39;49m\u001b[43m,\u001b[49m\u001b[43m \u001b[49m\u001b[43mencoding\u001b[49m\u001b[38;5;241;43m=\u001b[39;49m\u001b[43mSVG_ENCODING\u001b[49m\u001b[43m)\u001b[49m\n",
      "File \u001b[1;32m~\\AppData\\Local\\Packages\\PythonSoftwareFoundation.Python.3.10_qbz5n2kfra8p0\\LocalCache\\local-packages\\Python310\\site-packages\\graphviz\\piping.py:104\u001b[0m, in \u001b[0;36mPipe.pipe\u001b[1;34m(self, format, renderer, formatter, neato_no_op, quiet, engine, encoding)\u001b[0m\n\u001b[0;32m     55\u001b[0m \u001b[38;5;28;01mdef\u001b[39;00m \u001b[38;5;21mpipe\u001b[39m(\u001b[38;5;28mself\u001b[39m,\n\u001b[0;32m     56\u001b[0m          \u001b[38;5;28mformat\u001b[39m: typing\u001b[38;5;241m.\u001b[39mOptional[\u001b[38;5;28mstr\u001b[39m] \u001b[38;5;241m=\u001b[39m \u001b[38;5;28;01mNone\u001b[39;00m,\n\u001b[0;32m     57\u001b[0m          renderer: typing\u001b[38;5;241m.\u001b[39mOptional[\u001b[38;5;28mstr\u001b[39m] \u001b[38;5;241m=\u001b[39m \u001b[38;5;28;01mNone\u001b[39;00m,\n\u001b[1;32m   (...)\u001b[0m\n\u001b[0;32m     61\u001b[0m          engine: typing\u001b[38;5;241m.\u001b[39mOptional[\u001b[38;5;28mstr\u001b[39m] \u001b[38;5;241m=\u001b[39m \u001b[38;5;28;01mNone\u001b[39;00m,\n\u001b[0;32m     62\u001b[0m          encoding: typing\u001b[38;5;241m.\u001b[39mOptional[\u001b[38;5;28mstr\u001b[39m] \u001b[38;5;241m=\u001b[39m \u001b[38;5;28;01mNone\u001b[39;00m) \u001b[38;5;241m-\u001b[39m\u001b[38;5;241m>\u001b[39m typing\u001b[38;5;241m.\u001b[39mUnion[\u001b[38;5;28mbytes\u001b[39m, \u001b[38;5;28mstr\u001b[39m]:\n\u001b[0;32m     63\u001b[0m \u001b[38;5;250m    \u001b[39m\u001b[38;5;124;03m\"\"\"Return the source piped through the Graphviz layout command.\u001b[39;00m\n\u001b[0;32m     64\u001b[0m \n\u001b[0;32m     65\u001b[0m \u001b[38;5;124;03m    Args:\u001b[39;00m\n\u001b[1;32m   (...)\u001b[0m\n\u001b[0;32m    102\u001b[0m \u001b[38;5;124;03m        '<?xml version='\u001b[39;00m\n\u001b[0;32m    103\u001b[0m \u001b[38;5;124;03m    \"\"\"\u001b[39;00m\n\u001b[1;32m--> 104\u001b[0m     \u001b[38;5;28;01mreturn\u001b[39;00m \u001b[38;5;28;43mself\u001b[39;49m\u001b[38;5;241;43m.\u001b[39;49m\u001b[43m_pipe_legacy\u001b[49m\u001b[43m(\u001b[49m\u001b[38;5;28;43mformat\u001b[39;49m\u001b[43m,\u001b[49m\n\u001b[0;32m    105\u001b[0m \u001b[43m                             \u001b[49m\u001b[43mrenderer\u001b[49m\u001b[38;5;241;43m=\u001b[39;49m\u001b[43mrenderer\u001b[49m\u001b[43m,\u001b[49m\n\u001b[0;32m    106\u001b[0m \u001b[43m                             \u001b[49m\u001b[43mformatter\u001b[49m\u001b[38;5;241;43m=\u001b[39;49m\u001b[43mformatter\u001b[49m\u001b[43m,\u001b[49m\n\u001b[0;32m    107\u001b[0m \u001b[43m                             \u001b[49m\u001b[43mneato_no_op\u001b[49m\u001b[38;5;241;43m=\u001b[39;49m\u001b[43mneato_no_op\u001b[49m\u001b[43m,\u001b[49m\n\u001b[0;32m    108\u001b[0m \u001b[43m                             \u001b[49m\u001b[43mquiet\u001b[49m\u001b[38;5;241;43m=\u001b[39;49m\u001b[43mquiet\u001b[49m\u001b[43m,\u001b[49m\n\u001b[0;32m    109\u001b[0m \u001b[43m                             \u001b[49m\u001b[43mengine\u001b[49m\u001b[38;5;241;43m=\u001b[39;49m\u001b[43mengine\u001b[49m\u001b[43m,\u001b[49m\n\u001b[0;32m    110\u001b[0m \u001b[43m                             \u001b[49m\u001b[43mencoding\u001b[49m\u001b[38;5;241;43m=\u001b[39;49m\u001b[43mencoding\u001b[49m\u001b[43m)\u001b[49m\n",
      "File \u001b[1;32m~\\AppData\\Local\\Packages\\PythonSoftwareFoundation.Python.3.10_qbz5n2kfra8p0\\LocalCache\\local-packages\\Python310\\site-packages\\graphviz\\_tools.py:171\u001b[0m, in \u001b[0;36mdeprecate_positional_args.<locals>.decorator.<locals>.wrapper\u001b[1;34m(*args, **kwargs)\u001b[0m\n\u001b[0;32m    162\u001b[0m     wanted \u001b[38;5;241m=\u001b[39m \u001b[38;5;124m'\u001b[39m\u001b[38;5;124m, \u001b[39m\u001b[38;5;124m'\u001b[39m\u001b[38;5;241m.\u001b[39mjoin(\u001b[38;5;124mf\u001b[39m\u001b[38;5;124m'\u001b[39m\u001b[38;5;132;01m{\u001b[39;00mname\u001b[38;5;132;01m}\u001b[39;00m\u001b[38;5;124m=\u001b[39m\u001b[38;5;132;01m{\u001b[39;00mvalue\u001b[38;5;132;01m!r}\u001b[39;00m\u001b[38;5;124m'\u001b[39m\n\u001b[0;32m    163\u001b[0m                        \u001b[38;5;28;01mfor\u001b[39;00m name, value \u001b[38;5;129;01min\u001b[39;00m deprecated\u001b[38;5;241m.\u001b[39mitems())\n\u001b[0;32m    164\u001b[0m     warnings\u001b[38;5;241m.\u001b[39mwarn(\u001b[38;5;124mf\u001b[39m\u001b[38;5;124m'\u001b[39m\u001b[38;5;124mThe signature of \u001b[39m\u001b[38;5;132;01m{\u001b[39;00mfunc\u001b[38;5;241m.\u001b[39m\u001b[38;5;18m__name__\u001b[39m\u001b[38;5;132;01m}\u001b[39;00m\u001b[38;5;124m will be reduced\u001b[39m\u001b[38;5;124m'\u001b[39m\n\u001b[0;32m    165\u001b[0m                   \u001b[38;5;124mf\u001b[39m\u001b[38;5;124m'\u001b[39m\u001b[38;5;124m to \u001b[39m\u001b[38;5;132;01m{\u001b[39;00msupported_number\u001b[38;5;132;01m}\u001b[39;00m\u001b[38;5;124m positional args\u001b[39m\u001b[38;5;124m'\u001b[39m\n\u001b[0;32m    166\u001b[0m                   \u001b[38;5;124mf\u001b[39m\u001b[38;5;124m'\u001b[39m\u001b[38;5;124m \u001b[39m\u001b[38;5;132;01m{\u001b[39;00m\u001b[38;5;28mlist\u001b[39m(supported)\u001b[38;5;132;01m}\u001b[39;00m\u001b[38;5;124m: pass \u001b[39m\u001b[38;5;132;01m{\u001b[39;00mwanted\u001b[38;5;132;01m}\u001b[39;00m\u001b[38;5;124m'\u001b[39m\n\u001b[0;32m    167\u001b[0m                   \u001b[38;5;124m'\u001b[39m\u001b[38;5;124m as keyword arg(s)\u001b[39m\u001b[38;5;124m'\u001b[39m,\n\u001b[0;32m    168\u001b[0m                   stacklevel\u001b[38;5;241m=\u001b[39mstacklevel,\n\u001b[0;32m    169\u001b[0m                   category\u001b[38;5;241m=\u001b[39mcategory)\n\u001b[1;32m--> 171\u001b[0m \u001b[38;5;28;01mreturn\u001b[39;00m func(\u001b[38;5;241m*\u001b[39margs, \u001b[38;5;241m*\u001b[39m\u001b[38;5;241m*\u001b[39mkwargs)\n",
      "File \u001b[1;32m~\\AppData\\Local\\Packages\\PythonSoftwareFoundation.Python.3.10_qbz5n2kfra8p0\\LocalCache\\local-packages\\Python310\\site-packages\\graphviz\\piping.py:121\u001b[0m, in \u001b[0;36mPipe._pipe_legacy\u001b[1;34m(self, format, renderer, formatter, neato_no_op, quiet, engine, encoding)\u001b[0m\n\u001b[0;32m    112\u001b[0m \u001b[38;5;129m@_tools\u001b[39m\u001b[38;5;241m.\u001b[39mdeprecate_positional_args(supported_number\u001b[38;5;241m=\u001b[39m\u001b[38;5;241m2\u001b[39m)\n\u001b[0;32m    113\u001b[0m \u001b[38;5;28;01mdef\u001b[39;00m \u001b[38;5;21m_pipe_legacy\u001b[39m(\u001b[38;5;28mself\u001b[39m,\n\u001b[0;32m    114\u001b[0m                  \u001b[38;5;28mformat\u001b[39m: typing\u001b[38;5;241m.\u001b[39mOptional[\u001b[38;5;28mstr\u001b[39m] \u001b[38;5;241m=\u001b[39m \u001b[38;5;28;01mNone\u001b[39;00m,\n\u001b[1;32m   (...)\u001b[0m\n\u001b[0;32m    119\u001b[0m                  engine: typing\u001b[38;5;241m.\u001b[39mOptional[\u001b[38;5;28mstr\u001b[39m] \u001b[38;5;241m=\u001b[39m \u001b[38;5;28;01mNone\u001b[39;00m,\n\u001b[0;32m    120\u001b[0m                  encoding: typing\u001b[38;5;241m.\u001b[39mOptional[\u001b[38;5;28mstr\u001b[39m] \u001b[38;5;241m=\u001b[39m \u001b[38;5;28;01mNone\u001b[39;00m) \u001b[38;5;241m-\u001b[39m\u001b[38;5;241m>\u001b[39m typing\u001b[38;5;241m.\u001b[39mUnion[\u001b[38;5;28mbytes\u001b[39m, \u001b[38;5;28mstr\u001b[39m]:\n\u001b[1;32m--> 121\u001b[0m     \u001b[38;5;28;01mreturn\u001b[39;00m \u001b[38;5;28;43mself\u001b[39;49m\u001b[38;5;241;43m.\u001b[39;49m\u001b[43m_pipe_future\u001b[49m\u001b[43m(\u001b[49m\u001b[38;5;28;43mformat\u001b[39;49m\u001b[43m,\u001b[49m\n\u001b[0;32m    122\u001b[0m \u001b[43m                             \u001b[49m\u001b[43mrenderer\u001b[49m\u001b[38;5;241;43m=\u001b[39;49m\u001b[43mrenderer\u001b[49m\u001b[43m,\u001b[49m\n\u001b[0;32m    123\u001b[0m \u001b[43m                             \u001b[49m\u001b[43mformatter\u001b[49m\u001b[38;5;241;43m=\u001b[39;49m\u001b[43mformatter\u001b[49m\u001b[43m,\u001b[49m\n\u001b[0;32m    124\u001b[0m \u001b[43m                             \u001b[49m\u001b[43mneato_no_op\u001b[49m\u001b[38;5;241;43m=\u001b[39;49m\u001b[43mneato_no_op\u001b[49m\u001b[43m,\u001b[49m\n\u001b[0;32m    125\u001b[0m \u001b[43m                             \u001b[49m\u001b[43mquiet\u001b[49m\u001b[38;5;241;43m=\u001b[39;49m\u001b[43mquiet\u001b[49m\u001b[43m,\u001b[49m\n\u001b[0;32m    126\u001b[0m \u001b[43m                             \u001b[49m\u001b[43mengine\u001b[49m\u001b[38;5;241;43m=\u001b[39;49m\u001b[43mengine\u001b[49m\u001b[43m,\u001b[49m\n\u001b[0;32m    127\u001b[0m \u001b[43m                             \u001b[49m\u001b[43mencoding\u001b[49m\u001b[38;5;241;43m=\u001b[39;49m\u001b[43mencoding\u001b[49m\u001b[43m)\u001b[49m\n",
      "File \u001b[1;32m~\\AppData\\Local\\Packages\\PythonSoftwareFoundation.Python.3.10_qbz5n2kfra8p0\\LocalCache\\local-packages\\Python310\\site-packages\\graphviz\\piping.py:149\u001b[0m, in \u001b[0;36mPipe._pipe_future\u001b[1;34m(self, format, renderer, formatter, neato_no_op, quiet, engine, encoding)\u001b[0m\n\u001b[0;32m    146\u001b[0m \u001b[38;5;28;01mif\u001b[39;00m encoding \u001b[38;5;129;01mis\u001b[39;00m \u001b[38;5;129;01mnot\u001b[39;00m \u001b[38;5;28;01mNone\u001b[39;00m:\n\u001b[0;32m    147\u001b[0m     \u001b[38;5;28;01mif\u001b[39;00m codecs\u001b[38;5;241m.\u001b[39mlookup(encoding) \u001b[38;5;129;01mis\u001b[39;00m codecs\u001b[38;5;241m.\u001b[39mlookup(\u001b[38;5;28mself\u001b[39m\u001b[38;5;241m.\u001b[39mencoding):\n\u001b[0;32m    148\u001b[0m         \u001b[38;5;66;03m# common case: both stdin and stdout need the same encoding\u001b[39;00m\n\u001b[1;32m--> 149\u001b[0m         \u001b[38;5;28;01mreturn\u001b[39;00m \u001b[38;5;28mself\u001b[39m\u001b[38;5;241m.\u001b[39m_pipe_lines_string(\u001b[38;5;241m*\u001b[39margs, encoding\u001b[38;5;241m=\u001b[39mencoding, \u001b[38;5;241m*\u001b[39m\u001b[38;5;241m*\u001b[39mkwargs)\n\u001b[0;32m    150\u001b[0m     \u001b[38;5;28;01mtry\u001b[39;00m:\n\u001b[0;32m    151\u001b[0m         raw \u001b[38;5;241m=\u001b[39m \u001b[38;5;28mself\u001b[39m\u001b[38;5;241m.\u001b[39m_pipe_lines(\u001b[38;5;241m*\u001b[39margs, input_encoding\u001b[38;5;241m=\u001b[39m\u001b[38;5;28mself\u001b[39m\u001b[38;5;241m.\u001b[39mencoding, \u001b[38;5;241m*\u001b[39m\u001b[38;5;241m*\u001b[39mkwargs)\n",
      "File \u001b[1;32m~\\AppData\\Local\\Packages\\PythonSoftwareFoundation.Python.3.10_qbz5n2kfra8p0\\LocalCache\\local-packages\\Python310\\site-packages\\graphviz\\backend\\piping.py:212\u001b[0m, in \u001b[0;36mpipe_lines_string\u001b[1;34m(engine, format, input_lines, encoding, renderer, formatter, neato_no_op, quiet)\u001b[0m\n\u001b[0;32m    206\u001b[0m cmd \u001b[38;5;241m=\u001b[39m dot_command\u001b[38;5;241m.\u001b[39mcommand(engine, \u001b[38;5;28mformat\u001b[39m,\n\u001b[0;32m    207\u001b[0m                           renderer\u001b[38;5;241m=\u001b[39mrenderer,\n\u001b[0;32m    208\u001b[0m                           formatter\u001b[38;5;241m=\u001b[39mformatter,\n\u001b[0;32m    209\u001b[0m                           neato_no_op\u001b[38;5;241m=\u001b[39mneato_no_op)\n\u001b[0;32m    210\u001b[0m kwargs \u001b[38;5;241m=\u001b[39m {\u001b[38;5;124m'\u001b[39m\u001b[38;5;124minput_lines\u001b[39m\u001b[38;5;124m'\u001b[39m: input_lines, \u001b[38;5;124m'\u001b[39m\u001b[38;5;124mencoding\u001b[39m\u001b[38;5;124m'\u001b[39m: encoding}\n\u001b[1;32m--> 212\u001b[0m proc \u001b[38;5;241m=\u001b[39m execute\u001b[38;5;241m.\u001b[39mrun_check(cmd, capture_output\u001b[38;5;241m=\u001b[39m\u001b[38;5;28;01mTrue\u001b[39;00m, quiet\u001b[38;5;241m=\u001b[39mquiet, \u001b[38;5;241m*\u001b[39m\u001b[38;5;241m*\u001b[39mkwargs)\n\u001b[0;32m    213\u001b[0m \u001b[38;5;28;01mreturn\u001b[39;00m proc\u001b[38;5;241m.\u001b[39mstdout\n",
      "File \u001b[1;32m~\\AppData\\Local\\Packages\\PythonSoftwareFoundation.Python.3.10_qbz5n2kfra8p0\\LocalCache\\local-packages\\Python310\\site-packages\\graphviz\\backend\\execute.py:81\u001b[0m, in \u001b[0;36mrun_check\u001b[1;34m(cmd, input_lines, encoding, quiet, **kwargs)\u001b[0m\n\u001b[0;32m     79\u001b[0m \u001b[38;5;28;01mexcept\u001b[39;00m \u001b[38;5;167;01mOSError\u001b[39;00m \u001b[38;5;28;01mas\u001b[39;00m e:\n\u001b[0;32m     80\u001b[0m     \u001b[38;5;28;01mif\u001b[39;00m e\u001b[38;5;241m.\u001b[39merrno \u001b[38;5;241m==\u001b[39m errno\u001b[38;5;241m.\u001b[39mENOENT:\n\u001b[1;32m---> 81\u001b[0m         \u001b[38;5;28;01mraise\u001b[39;00m ExecutableNotFound(cmd) \u001b[38;5;28;01mfrom\u001b[39;00m \u001b[38;5;21;01me\u001b[39;00m\n\u001b[0;32m     82\u001b[0m     \u001b[38;5;28;01mraise\u001b[39;00m\n\u001b[0;32m     84\u001b[0m \u001b[38;5;28;01mif\u001b[39;00m \u001b[38;5;129;01mnot\u001b[39;00m quiet \u001b[38;5;129;01mand\u001b[39;00m proc\u001b[38;5;241m.\u001b[39mstderr:\n",
      "\u001b[1;31mExecutableNotFound\u001b[0m: failed to execute WindowsPath('dot'), make sure the Graphviz executables are on your systems' PATH"
     ]
    },
    {
     "data": {
      "text/plain": [
       "<graphviz.sources.Source at 0x165e8e9c280>"
      ]
     },
     "execution_count": 66,
     "metadata": {},
     "output_type": "execute_result"
    },
    {
     "data": {
      "image/png": "[encoded data removed]",
      "text/plain": [
       "<Figure size 640x480 with 1 Axes>"
      ]
     },
     "metadata": {},
     "output_type": "display_data"
    }
   ],
   "source": [
    "from sklearn import tree\n",
    "import graphviz \n",
    "#small_djs_Y_train = train[\"log_vol\"]\n",
    "#small_djs_X_train = small_djs_X_train.drop([\"Avg_Start\", \"danceability\", \"energy\", \"key\", \"loudness\", \"speechiness\", \"mode\", \"acousticness\", \"instruemtnalness\", \"liveness\", \"valence\", \"tempo\", \"duration_ms\"], axis=1)\n",
    "violation_tree = tree.DecisionTreeClassifier()\n",
    "violation_tree.fit(X_train_s, Y_train_s)\n",
    "tree.plot_tree(violation_tree)\n",
    "export_tree = tree.export_graphviz(violation_tree, out_file=None)\n",
    "graph = graphviz.Source(export_tree)\n",
    "graph"
   ]
  },
  {
   "cell_type": "code",
   "execution_count": 64,
   "metadata": {},
   "outputs": [],
   "source": [
    "from sklearn import ensemble\n",
    "random_for = ensemble.RandomForestClassifier()\n",
    "random_for.fit(X_train_s, Y_train_s)\n",
    "importances = random_for.feature_importances_\n",
    "std = np.std([tree.feature_importances_ for tree in random_for.estimators_], axis=0)\n",
    "# plot histogram of feature importance and standard devs in each tree\n",
    "\n",
    "# also plot each tree in the random forest \n",
    "# for i in range() tree.plot_tree(random_for.estimators_[i])"
   ]
  },
  {
   "cell_type": "markdown",
   "metadata": {},
   "source": [
    "### DJ Clustering"
   ]
  },
  {
   "cell_type": "code",
   "execution_count": null,
   "metadata": {
    "ExecuteTime": {
     "end_time": "2024-04-20T00:10:04.833294500Z",
     "start_time": "2024-04-20T00:10:04.829788100Z"
    },
    "collapsed": false,
    "jupyter": {
     "outputs_hidden": false
    }
   },
   "outputs": [],
   "source": [
    "from sklearn.preprocessing import StandardScaler\n",
    "from sklearn.decomposition import PCA\n",
    "\n",
    "from sklearn.cluster import DBSCAN\n",
    "from sklearn.cluster import AgglomerativeClustering\n",
    "\n",
    "from sklearn.metrics import silhouette_score"
   ]
  },
  {
   "cell_type": "markdown",
   "metadata": {
    "collapsed": false,
    "jupyter": {
     "outputs_hidden": false
    }
   },
   "source": [
    "#### Dimensionality Reduction"
   ]
  },
  {
   "cell_type": "code",
   "execution_count": null,
   "metadata": {
    "ExecuteTime": {
     "end_time": "2024-04-20T00:10:07.364330800Z",
     "start_time": "2024-04-20T00:10:07.231478600Z"
    },
    "collapsed": false,
    "jupyter": {
     "outputs_hidden": false
    }
   },
   "outputs": [],
   "source": [
    "def determine_dimensionality(high_dim_df):\n",
    "    \"\"\"\n",
    "    Plot the explained variance of the features with PCA\n",
    "    to determine the dimensionality to be used.\n",
    "    6 Components appears to be best, as it captures around\n",
    "    80% of variability\n",
    "    \"\"\"\n",
    "\n",
    "    high_dim_df = high_dim_df.drop(columns=[\"DJ Name\"])\n",
    "\n",
    "    # Apply standard scalar\n",
    "    scalar = StandardScaler()\n",
    "    x = scalar.fit_transform(X=high_dim_df)\n",
    "\n",
    "    # PCA to find explained variances\n",
    "    pca = PCA()\n",
    "    pca.fit(x)\n",
    "\n",
    "    # Visualize\n",
    "    plt.plot(range(1, x.shape[1] + 1), pca.explained_variance_ratio_.cumsum(), marker=\"o\")\n",
    "    print(f'Variance with 6 components: {pca.explained_variance_ratio_.cumsum()[5]}')\n",
    "\n",
    "determine_dimensionality(djs_df)"
   ]
  },
  {
   "cell_type": "code",
   "execution_count": null,
   "metadata": {
    "ExecuteTime": {
     "end_time": "2024-04-20T00:10:09.512788300Z",
     "start_time": "2024-04-20T00:10:09.381449300Z"
    },
    "collapsed": false,
    "jupyter": {
     "outputs_hidden": false
    }
   },
   "outputs": [],
   "source": [
    "def dimension_reduction(high_dim_df: pd.DataFrame) -> np.ndarray:\n",
    "    \"\"\"\n",
    "    Reduce dimensionality of the data to 2d for visualization and clustering\n",
    "    \"\"\"\n",
    "    df_copy = high_dim_df\n",
    "    #high_dim_df = high_dim_df[high_dim_df[\"DJ Name\"] != \"Program Director\"]\n",
    "    #high_dim_df = high_dim_df[high_dim_df[\"DJ Name\"] != \"JAH RED\"]\n",
    "    high_dim_df = high_dim_df.drop(columns=[\"DJ Name\"])\n",
    "\n",
    "    # Apply standard scalar\n",
    "    scalar = StandardScaler()\n",
    "    x = scalar.fit_transform(X=high_dim_df)\n",
    "\n",
    "    # Apply PCA\n",
    "    pca = PCA(n_components=6)\n",
    "    x = pca.fit_transform(x)\n",
    "\n",
    "    max_x_idx = np.argmax(x[:, 0])\n",
    "    max_y_idx = np.argmax(x[:, 1])\n",
    "    print(df_copy.iloc[max_x_idx, :])\n",
    "    print(df_copy.iloc[max_y_idx, :])\n",
    "\n",
    "    return x\n",
    "\n",
    "def visualize(viz_data: np.ndarray):\n",
    "    x = viz_data[:, 0]\n",
    "    y = viz_data[:, 1]\n",
    "    plt.scatter(x, y, s=2)\n",
    "\n",
    "data = dimension_reduction(djs_df)\n",
    "visualize(data)"
   ]
  },
  {
   "cell_type": "markdown",
   "metadata": {
    "collapsed": false,
    "jupyter": {
     "outputs_hidden": false
    }
   },
   "source": [
    "#### Clustering Algorithm 1: DBSCAN"
   ]
  },
  {
   "cell_type": "code",
   "execution_count": null,
   "metadata": {
    "ExecuteTime": {
     "end_time": "2024-04-20T00:10:41.045710200Z",
     "start_time": "2024-04-20T00:10:40.820445300Z"
    },
    "collapsed": false,
    "jupyter": {
     "outputs_hidden": false
    }
   },
   "outputs": [],
   "source": [
    "def dbscan_silhouette(x: np.ndarray):\n",
    "    # Find the silhouette scores for different eps\n",
    "    scores = []\n",
    "    eps_range = np.arange(0.5, 2, 0.1)\n",
    "    for eps in eps_range:\n",
    "        db = DBSCAN(eps=eps, min_samples=2).fit(x)\n",
    "        labels = db.labels_\n",
    "        scores.append(silhouette_score(x, labels))\n",
    "\n",
    "    # Visualize\n",
    "    plt.plot(eps_range, scores, marker=\"o\")\n",
    "\n",
    "dbscan_silhouette(data)"
   ]
  },
  {
   "cell_type": "code",
   "execution_count": null,
   "metadata": {
    "ExecuteTime": {
     "end_time": "2024-04-20T00:12:18.988687Z",
     "start_time": "2024-04-20T00:12:18.726082700Z"
    },
    "collapsed": false,
    "jupyter": {
     "outputs_hidden": false
    }
   },
   "outputs": [],
   "source": [
    "EPS = 1 # Chosen based on \"bend\" above\n",
    "\n",
    "def dbscan_cluster(x: np.ndarray, eps=EPS):\n",
    "    \"\"\"\n",
    "    Clustering using DBSCAN. DBSCAN is used because there are two obvious\n",
    "    outliers. We hope that a density algorithm like DBSCAN can adjust for\n",
    "    these outliers gracefully.\n",
    "    \"\"\"\n",
    "    # Fit to clusters\n",
    "    db = DBSCAN(eps=eps, min_samples=2)\n",
    "    clusters = db.fit(x)\n",
    "    labels = clusters.labels_\n",
    "    n_clusters_ = len(set(labels)) - (1 if -1 in labels else 0)\n",
    "\n",
    "    # Visualize\n",
    "    def cluster_vis():\n",
    "        \"\"\"\n",
    "        Function for visualizing the clusters\n",
    "        Adapted from:\n",
    "        https://scikit-learn.org/stable/auto_examples/cluster/plot_dbscan.html#sphx-glr-auto-examples-cluster-plot-dbscan-py\n",
    "        \"\"\"\n",
    "\n",
    "        unique_labels = set(labels)\n",
    "        core_samples_mask = np.zeros_like(labels, dtype=bool)\n",
    "        core_samples_mask[db.core_sample_indices_] = True\n",
    "\n",
    "        colors = [plt.cm.Spectral(each) for each in np.linspace(0, 1, len(unique_labels))]\n",
    "        for k, col in zip(unique_labels, colors):\n",
    "            if k == -1:\n",
    "                # Black used for noise.\n",
    "                col = [0, 0, 0, 1]\n",
    "\n",
    "            class_member_mask = labels == k\n",
    "            xy = x[class_member_mask]\n",
    "            plt.plot(\n",
    "                xy[:, 0],\n",
    "                xy[:, 1],\n",
    "                \"o\",\n",
    "                markerfacecolor=tuple(col),\n",
    "                markeredgecolor=\"k\",\n",
    "                markersize=6,\n",
    "            )\n",
    "\n",
    "    plt.figure(0)\n",
    "    cluster_vis()\n",
    "    plt.title(f\"Number of clusters: {n_clusters_}\")\n",
    "    plt.show()\n",
    "\n",
    "    # Zoom in visualization, ignoring outliers\n",
    "    plt.figure(1)\n",
    "    cluster_vis()\n",
    "    plt.axis([-2, 7, -2, 7])\n",
    "    plt.title(f\"Number of clusters: {n_clusters_}\")\n",
    "    plt.show()\n",
    "\n",
    "    # Return cluster counts\n",
    "    cluster_num, counts = np.unique(labels, return_counts=True)\n",
    "    return pd.Series(data=counts, index=cluster_num)\n",
    "\n",
    "cluster_counts = dbscan_cluster(data)\n",
    "cluster_counts"
   ]
  },
  {
   "cell_type": "markdown",
   "metadata": {
    "collapsed": false,
    "jupyter": {
     "outputs_hidden": false
    }
   },
   "source": [
    "#### Clustering Algorithm 2: Agglomerative"
   ]
  },
  {
   "cell_type": "code",
   "execution_count": null,
   "metadata": {
    "ExecuteTime": {
     "end_time": "2024-04-20T00:12:23.828255800Z",
     "start_time": "2024-04-20T00:12:23.635486500Z"
    },
    "collapsed": false,
    "jupyter": {
     "outputs_hidden": false
    }
   },
   "outputs": [],
   "source": [
    "def agglom_silhouette(x: np.ndarray):\n",
    "    # Find the silhouette scores for different eps\n",
    "    scores = []\n",
    "    n_range = range(2, 15)\n",
    "    for n in n_range:\n",
    "        agglom = AgglomerativeClustering(n_clusters=n).fit(x)\n",
    "        labels = agglom.labels_\n",
    "        scores.append(silhouette_score(x, labels))\n",
    "\n",
    "    # Visualize\n",
    "    plt.plot(n_range, scores, marker=\"o\")\n",
    "\n",
    "agglom_silhouette(data)"
   ]
  },
  {
   "cell_type": "code",
   "execution_count": null,
   "metadata": {
    "ExecuteTime": {
     "end_time": "2024-04-20T00:13:24.715019900Z",
     "start_time": "2024-04-20T00:13:24.366021900Z"
    },
    "collapsed": false,
    "jupyter": {
     "outputs_hidden": false
    }
   },
   "outputs": [],
   "source": [
    "N_CLUSTERS = 6 # Chosen based on silhouette analysis above\n",
    "\n",
    "def agglom_cluster(x: np.ndarray, dj_names: np.ndarray, n_clusters: int = N_CLUSTERS):\n",
    "    \"\"\"\n",
    "    Clustering using AgglomerativeClustering. An attempt to capture more\n",
    "    data points than DBSCAN.\n",
    "    \"\"\"\n",
    "    # Fit to clusters\n",
    "    agglom = AgglomerativeClustering(n_clusters=n_clusters)\n",
    "    clusters = agglom.fit(x)\n",
    "    labels = clusters.labels_\n",
    "\n",
    "    # Visualize\n",
    "    def cluster_vis():\n",
    "        \"\"\"\n",
    "        Function for visualizing the clusters\n",
    "        Adapted from:\n",
    "        https://scikit-learn.org/stable/auto_examples/cluster/plot_dbscan.html#sphx-glr-auto-examples-cluster-plot-dbscan-py\n",
    "        \"\"\"\n",
    "\n",
    "        unique_labels = set(labels)\n",
    "\n",
    "        colors = [plt.cm.Spectral(each) for each in np.linspace(0, 1, len(unique_labels))]\n",
    "        for k, col in zip(unique_labels, colors):\n",
    "            class_member_mask = labels == k\n",
    "            xy = x[class_member_mask]\n",
    "            plt.plot(\n",
    "                xy[:, 0],\n",
    "                xy[:, 1],\n",
    "                \"o\",\n",
    "                markerfacecolor=tuple(col),\n",
    "                markeredgecolor=\"k\",\n",
    "                markersize=6,\n",
    "                label=k\n",
    "            )\n",
    "\n",
    "    plt.figure(0)\n",
    "    cluster_vis()\n",
    "    plt.legend(loc=\"upper right\")\n",
    "    plt.title(f\"Number of clusters: {n_clusters}\")\n",
    "    plt.show()\n",
    "\n",
    "    # Zoom in visualization, ignoring outliers\n",
    "    plt.figure(1)\n",
    "    cluster_vis()\n",
    "    plt.axis([-2, 7, -2, 7])\n",
    "    plt.legend(loc=\"upper right\")\n",
    "    plt.title(f\"Number of clusters: {n_clusters} (Zoomed)\")\n",
    "    plt.show()\n",
    "\n",
    "    # Return cluster counts\n",
    "    cluster_num, counts = np.unique(labels, return_counts=True)\n",
    "    return labels, pd.Series(data=counts, index=cluster_num)\n",
    "\n",
    "\n",
    "cluster_labels, cluster_counts = agglom_cluster(data, dj_names=djs_df[\"DJ Name\"].unique())\n",
    "cluster_counts"
   ]
  },
  {
   "cell_type": "code",
   "execution_count": null,
   "metadata": {
    "ExecuteTime": {
     "end_time": "2024-04-20T00:13:33.492013100Z",
     "start_time": "2024-04-20T00:13:33.153688600Z"
    },
    "collapsed": false,
    "jupyter": {
     "outputs_hidden": false
    }
   },
   "outputs": [],
   "source": [
    "def interpret_clusters(dj_df: pd.DataFrame, labels: np.ndarray):\n",
    "    \"\"\"\n",
    "    Create a visual representation to interpret which archetypes\n",
    "    the clusters represent.\n",
    "\n",
    "    WORK IN PROGRESS!!\n",
    "    \"\"\"\n",
    "    # Apply a StandardScalar to the data\n",
    "    #dj_df = dj_df[dj_df[\"DJ Name\"] != \"Program Director\"]\n",
    "    #dj_df = dj_df[dj_df[\"DJ Name\"] != \"JAH RED\"]\n",
    "    dj_df = dj_df.drop(columns=[\"DJ Name\"])\n",
    "    scalar = StandardScaler()\n",
    "    x = scalar.fit_transform(dj_df)\n",
    "    clustered_df = pd.DataFrame(x, columns=dj_df.columns)\n",
    "\n",
    "    # Average the features across each label\n",
    "    clustered_df[\"label\"] = labels\n",
    "    clustered_df = clustered_df.groupby(\"label\").mean()\n",
    "\n",
    "    # Plot the features with labels\n",
    "    clustered_df.plot.bar()\n",
    "\n",
    "    return clustered_df\n",
    "\n",
    "df1 = interpret_clusters(djs_df, cluster_labels)\n",
    "df1"
   ]
  },
  {
   "cell_type": "markdown",
   "metadata": {
    "collapsed": false,
    "jupyter": {
     "outputs_hidden": false
    }
   },
   "source": [
    "## Hypothesis Testing"
   ]
  },
  {
   "cell_type": "markdown",
   "metadata": {
    "collapsed": false,
    "jupyter": {
     "outputs_hidden": false
    }
   },
   "source": [
    "### Policy Violation Linear Regression"
   ]
  },
  {
   "cell_type": "code",
   "execution_count": null,
   "metadata": {
    "collapsed": false,
    "jupyter": {
     "outputs_hidden": false
    }
   },
   "outputs": [],
   "source": [
    "from scipy import stats\n",
    "\n",
    "stats.mannwhitneyu"
   ]
  },
  {
   "cell_type": "markdown",
   "metadata": {
    "collapsed": false,
    "jupyter": {
     "outputs_hidden": false
    }
   },
   "source": [
    "### DJ Clustering"
   ]
  },
  {
   "cell_type": "code",
   "execution_count": null,
   "metadata": {
    "collapsed": false,
    "jupyter": {
     "outputs_hidden": false
    }
   },
   "outputs": [],
   "source": []
  }
 ],
 "metadata": {
  "kernelspec": {
   "display_name": "Python 3 (ipykernel)",
   "language": "python",
   "name": "python3"
  },
  "language_info": {
   "codemirror_mode": {
    "name": "ipython",
    "version": 3
   },
   "file_extension": ".py",
   "mimetype": "text/x-python",
   "name": "python",
   "nbconvert_exporter": "python",
   "pygments_lexer": "ipython3",
   "version": "3.10.11"
  }
 },
 "nbformat": 4,
 "nbformat_minor": 4
}
