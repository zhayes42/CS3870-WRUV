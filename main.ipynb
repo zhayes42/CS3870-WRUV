{
 "cells": [
  {
   "cell_type": "markdown",
   "metadata": {},
   "source": [
    "# WRUV Broadcasting Dataset Project\n",
    "Authors: Sydney White and Zachary Hayes"
   ]
  },
  {
   "cell_type": "code",
   "execution_count": 3,
   "metadata": {
    "ExecuteTime": {
     "end_time": "2024-04-14T03:27:39.692233300Z",
     "start_time": "2024-04-14T03:27:35.047022500Z"
    }
   },
   "outputs": [],
   "source": [
    "import os\n",
    "import pandas as pd\n",
    "import numpy as np\n",
    "from datetime import datetime\n",
    "import matplotlib.pyplot as plt\n",
    "\n",
    "from bs4 import BeautifulSoup\n",
    "import requests\n",
    "\n",
    "import spotipy\n",
    "from spotipy.oauth2 import SpotifyClientCredentials\n",
    "\n",
    "import time"
   ]
  },
  {
   "cell_type": "markdown",
   "metadata": {},
   "source": [
    "## Data Collection, Cleaning, and Feature Engineering\n",
    "#### Initial Collection and Cleaning\n"
   ]
  },
  {
   "cell_type": "code",
   "execution_count": 4,
   "metadata": {
    "ExecuteTime": {
     "end_time": "2024-04-14T03:27:47.856826700Z",
     "start_time": "2024-04-14T03:27:44.594961500Z"
    }
   },
   "outputs": [
    {
     "data": {
      "text/plain": "                            Playlist Title  Playlist Duration   DJ ID  \\\n0       Our Intent is All for Your Delight                 60   64617   \n1       Our Intent is All for Your Delight                 60   64617   \n2       Our Intent is All for Your Delight                 60   64617   \n3       Our Intent is All for Your Delight                 60   64617   \n4       Our Intent is All for Your Delight                 60   64617   \n...                                    ...                ...     ...   \n284735                Long Distance Runner                120  160029   \n284736                Long Distance Runner                120  160029   \n284737                Long Distance Runner                120  160029   \n284738                Long Distance Runner                120  160029   \n284739                Long Distance Runner                120  160029   \n\n           DJ Name       Date        Time            Artist  \\\n0         Dan Kirk 2019-09-23  8:04:12 AM        Khruangbin   \n1         Dan Kirk 2019-09-23  8:07:21 AM          The Bubs   \n2         Dan Kirk 2019-09-23  8:11:38 AM        Y La Bamba   \n3         Dan Kirk 2019-09-23  8:15:42 AM         Allah-Las   \n4         Dan Kirk 2019-09-23  8:20:57 AM  Devendra Banhart   \n...            ...        ...         ...               ...   \n284735  DJ Squared 2024-03-22  4:05:08 PM      Bill Laswell   \n284736  DJ Squared 2024-03-22  4:08:25 PM     Remy Le Boeuf   \n284737  DJ Squared 2024-03-22  4:14:10 PM         strongboi   \n284738  DJ Squared 2024-03-22  4:18:52 PM       Miya Folick   \n284739  DJ Squared 2024-03-22  4:19:30 PM    Grateful Shred   \n\n                                                     Song  \\\n0                         People Everywhere (Still Alive)   \n1                                           Golden Thread   \n2                                            Rios Sueltos   \n3                                   Prazer Em Te Conhecer   \n4                              My Boyfriend's in the Band   \n...                                                   ...   \n284735                                             Buhala   \n284736                                        Little Song   \n284737                                        fool around   \n284738                                          Bad Thing   \n284739  Bertha (Live at Belly up, Solana Beach, Califo...   \n\n                             Release  New Local Genre  \\\n0       The Universe Smiles Upon You  NaN   NaN  Rock   \n1                      Golden Thread  NaN   NaN  Rock   \n2                      Entre Los Dos    N   NaN  Rock   \n3                               LAHS  NaN   NaN  Rock   \n4                                 Ma  NaN   NaN  Rock   \n...                              ...  ...   ...   ...   \n284735          Means of Deliverance  NaN   NaN  Jazz   \n284736               Heartland Radio  NaN   NaN  Jazz   \n284737                   fool around  NaN   NaN   NaN   \n284738                     Bad Thing  NaN   NaN   NaN   \n284739     Belly up (Live, 12/30/21)  NaN   NaN  Rock   \n\n                               Label              UPC  \n0                 Night Time Stories  4523132552217.0  \n1                           The Bubs   859732310242.0  \n2               Tender Loving Empire   703669152959.0  \n3                     Mexican Summer   184923126068.0  \n4                           Nonesuch    75597924053.0  \n...                              ...              ...  \n284735                  Innerhythmic    0804699102423  \n284736  ORCHARD - SoundSpore Records    0197190669947  \n284737                     strongboi    5059449065564  \n284738          Nettwerk Music Group    0067003373463  \n284739     Grateful Shred Industries    0859766490941  \n\n[284740 rows x 14 columns]",
      "text/html": "<div>\n<style scoped>\n    .dataframe tbody tr th:only-of-type {\n        vertical-align: middle;\n    }\n\n    .dataframe tbody tr th {\n        vertical-align: top;\n    }\n\n    .dataframe thead th {\n        text-align: right;\n    }\n</style>\n<table border=\"1\" class=\"dataframe\">\n  <thead>\n    <tr style=\"text-align: right;\">\n      <th></th>\n      <th>Playlist Title</th>\n      <th>Playlist Duration</th>\n      <th>DJ ID</th>\n      <th>DJ Name</th>\n      <th>Date</th>\n      <th>Time</th>\n      <th>Artist</th>\n      <th>Song</th>\n      <th>Release</th>\n      <th>New</th>\n      <th>Local</th>\n      <th>Genre</th>\n      <th>Label</th>\n      <th>UPC</th>\n    </tr>\n  </thead>\n  <tbody>\n    <tr>\n      <th>0</th>\n      <td>Our Intent is All for Your Delight</td>\n      <td>60</td>\n      <td>64617</td>\n      <td>Dan Kirk</td>\n      <td>2019-09-23</td>\n      <td>8:04:12 AM</td>\n      <td>Khruangbin</td>\n      <td>People Everywhere (Still Alive)</td>\n      <td>The Universe Smiles Upon You</td>\n      <td>NaN</td>\n      <td>NaN</td>\n      <td>Rock</td>\n      <td>Night Time Stories</td>\n      <td>4523132552217.0</td>\n    </tr>\n    <tr>\n      <th>1</th>\n      <td>Our Intent is All for Your Delight</td>\n      <td>60</td>\n      <td>64617</td>\n      <td>Dan Kirk</td>\n      <td>2019-09-23</td>\n      <td>8:07:21 AM</td>\n      <td>The Bubs</td>\n      <td>Golden Thread</td>\n      <td>Golden Thread</td>\n      <td>NaN</td>\n      <td>NaN</td>\n      <td>Rock</td>\n      <td>The Bubs</td>\n      <td>859732310242.0</td>\n    </tr>\n    <tr>\n      <th>2</th>\n      <td>Our Intent is All for Your Delight</td>\n      <td>60</td>\n      <td>64617</td>\n      <td>Dan Kirk</td>\n      <td>2019-09-23</td>\n      <td>8:11:38 AM</td>\n      <td>Y La Bamba</td>\n      <td>Rios Sueltos</td>\n      <td>Entre Los Dos</td>\n      <td>N</td>\n      <td>NaN</td>\n      <td>Rock</td>\n      <td>Tender Loving Empire</td>\n      <td>703669152959.0</td>\n    </tr>\n    <tr>\n      <th>3</th>\n      <td>Our Intent is All for Your Delight</td>\n      <td>60</td>\n      <td>64617</td>\n      <td>Dan Kirk</td>\n      <td>2019-09-23</td>\n      <td>8:15:42 AM</td>\n      <td>Allah-Las</td>\n      <td>Prazer Em Te Conhecer</td>\n      <td>LAHS</td>\n      <td>NaN</td>\n      <td>NaN</td>\n      <td>Rock</td>\n      <td>Mexican Summer</td>\n      <td>184923126068.0</td>\n    </tr>\n    <tr>\n      <th>4</th>\n      <td>Our Intent is All for Your Delight</td>\n      <td>60</td>\n      <td>64617</td>\n      <td>Dan Kirk</td>\n      <td>2019-09-23</td>\n      <td>8:20:57 AM</td>\n      <td>Devendra Banhart</td>\n      <td>My Boyfriend's in the Band</td>\n      <td>Ma</td>\n      <td>NaN</td>\n      <td>NaN</td>\n      <td>Rock</td>\n      <td>Nonesuch</td>\n      <td>75597924053.0</td>\n    </tr>\n    <tr>\n      <th>...</th>\n      <td>...</td>\n      <td>...</td>\n      <td>...</td>\n      <td>...</td>\n      <td>...</td>\n      <td>...</td>\n      <td>...</td>\n      <td>...</td>\n      <td>...</td>\n      <td>...</td>\n      <td>...</td>\n      <td>...</td>\n      <td>...</td>\n      <td>...</td>\n    </tr>\n    <tr>\n      <th>284735</th>\n      <td>Long Distance Runner</td>\n      <td>120</td>\n      <td>160029</td>\n      <td>DJ Squared</td>\n      <td>2024-03-22</td>\n      <td>4:05:08 PM</td>\n      <td>Bill Laswell</td>\n      <td>Buhala</td>\n      <td>Means of Deliverance</td>\n      <td>NaN</td>\n      <td>NaN</td>\n      <td>Jazz</td>\n      <td>Innerhythmic</td>\n      <td>0804699102423</td>\n    </tr>\n    <tr>\n      <th>284736</th>\n      <td>Long Distance Runner</td>\n      <td>120</td>\n      <td>160029</td>\n      <td>DJ Squared</td>\n      <td>2024-03-22</td>\n      <td>4:08:25 PM</td>\n      <td>Remy Le Boeuf</td>\n      <td>Little Song</td>\n      <td>Heartland Radio</td>\n      <td>NaN</td>\n      <td>NaN</td>\n      <td>Jazz</td>\n      <td>ORCHARD - SoundSpore Records</td>\n      <td>0197190669947</td>\n    </tr>\n    <tr>\n      <th>284737</th>\n      <td>Long Distance Runner</td>\n      <td>120</td>\n      <td>160029</td>\n      <td>DJ Squared</td>\n      <td>2024-03-22</td>\n      <td>4:14:10 PM</td>\n      <td>strongboi</td>\n      <td>fool around</td>\n      <td>fool around</td>\n      <td>NaN</td>\n      <td>NaN</td>\n      <td>NaN</td>\n      <td>strongboi</td>\n      <td>5059449065564</td>\n    </tr>\n    <tr>\n      <th>284738</th>\n      <td>Long Distance Runner</td>\n      <td>120</td>\n      <td>160029</td>\n      <td>DJ Squared</td>\n      <td>2024-03-22</td>\n      <td>4:18:52 PM</td>\n      <td>Miya Folick</td>\n      <td>Bad Thing</td>\n      <td>Bad Thing</td>\n      <td>NaN</td>\n      <td>NaN</td>\n      <td>NaN</td>\n      <td>Nettwerk Music Group</td>\n      <td>0067003373463</td>\n    </tr>\n    <tr>\n      <th>284739</th>\n      <td>Long Distance Runner</td>\n      <td>120</td>\n      <td>160029</td>\n      <td>DJ Squared</td>\n      <td>2024-03-22</td>\n      <td>4:19:30 PM</td>\n      <td>Grateful Shred</td>\n      <td>Bertha (Live at Belly up, Solana Beach, Califo...</td>\n      <td>Belly up (Live, 12/30/21)</td>\n      <td>NaN</td>\n      <td>NaN</td>\n      <td>Rock</td>\n      <td>Grateful Shred Industries</td>\n      <td>0859766490941</td>\n    </tr>\n  </tbody>\n</table>\n<p>284740 rows × 14 columns</p>\n</div>"
     },
     "execution_count": 4,
     "metadata": {},
     "output_type": "execute_result"
    }
   ],
   "source": [
    "# Collect data CSVs into a single dataframe\n",
    "dfs = []\n",
    "directory = \"dataset\" \n",
    "for file in os.listdir(directory):\n",
    "    df = pd.read_csv(f'{directory}/{file}')\n",
    "    dfs.append(pd.read_csv(f'{directory}/{file}'))\n",
    "df = pd.concat(dfs, axis=0)\n",
    "df.sort_values(\"Date-time\", inplace=True, ignore_index=True)\n",
    "# Drop columns that we already know we don't need\n",
    "df.drop([\"Playlist Category\", \"DJ Email\", \"Date-time\", \"Composer\"], axis=1, inplace=True)\n",
    "df[\"Date\"] = pd.to_datetime(df[\"Date\"])\n",
    "df"
   ]
  },
  {
   "cell_type": "code",
   "execution_count": null,
   "metadata": {
    "ExecuteTime": {
     "end_time": "2024-04-09T14:26:18.187690500Z",
     "start_time": "2024-04-09T14:26:18.166059300Z"
    }
   },
   "outputs": [],
   "source": [
    "# Count null values\n",
    "df.isna().sum()"
   ]
  },
  {
   "cell_type": "code",
   "execution_count": 5,
   "metadata": {
    "ExecuteTime": {
     "end_time": "2024-04-14T03:27:52.523623300Z",
     "start_time": "2024-04-14T03:27:52.257583900Z"
    }
   },
   "outputs": [
    {
     "data": {
      "text/plain": "Playlist Title           0\nPlaylist Duration        0\nDJ ID                    0\nDJ Name                  0\nDate                     0\nTime                     0\nArtist                   0\nSong                     0\nRelease                  0\nNew                      0\nLocal                    0\nGenre                97305\nLabel                 1095\nUPC                  28182\ndtype: int64"
     },
     "execution_count": 5,
     "metadata": {},
     "output_type": "execute_result"
    }
   ],
   "source": [
    "# Clean the null values from the boolean columns New and Local\n",
    "df[\"New\"] = df[\"New\"].map({\"N\": 1, np.nan: 0})\n",
    "df[\"Local\"] = df[\"Local\"].map({\"L\": 1, np.nan: 0})\n",
    "\n",
    "# Since there are only 56 instances where artist, song, or release are null,\n",
    "# we feel comfortable dropping those instances\n",
    "df = df.dropna(subset=[\"Artist\", \"Song\", \"Release\"])\n",
    "\n",
    "# Count null values again\n",
    "df.isna().sum()\n"
   ]
  },
  {
   "cell_type": "code",
   "execution_count": 6,
   "metadata": {
    "ExecuteTime": {
     "end_time": "2024-04-14T03:28:01.893491200Z",
     "start_time": "2024-04-14T03:28:01.802584800Z"
    }
   },
   "outputs": [
    {
     "data": {
      "text/plain": "      Unnamed: 0         Playlist Title   DJ ID           DJ Name       Date  \\\n0          32428  WRUV 1/1/24, 12:00 AM   64581  Program Director 2024-01-01   \n1          32429  WRUV 1/1/24, 12:00 AM   64581  Program Director 2024-01-01   \n2          32430  WRUV 1/1/24, 12:00 AM   64581  Program Director 2024-01-01   \n3          32431  WRUV 1/1/24, 12:00 AM   64581  Program Director 2024-01-01   \n4          32432  WRUV 1/1/24, 12:00 AM   64581  Program Director 2024-01-01   \n...          ...                    ...     ...               ...        ...   \n2610       37653         Unknown Summer  176422           DJ Desh 2024-01-17   \n2611       37654         Unknown Summer  176422           DJ Desh 2024-01-17   \n2612       37655         Unknown Summer  176422           DJ Desh 2024-01-17   \n2613       37656         Unknown Summer  176422           DJ Desh 2024-01-17   \n2614       37657         Unknown Summer  176422           DJ Desh 2024-01-17   \n\n             Time             Artist                                  Song  \\\n0     12:00:43 AM     Darian Stavans                                Ballad   \n1     12:03:25 AM        Mack Fields                       I Like to Yodel   \n2     12:05:48 AM        Real Estate                     Water Underground   \n3     12:09:14 AM  My Morning Jacket                          Feelin Sorry   \n4     12:12:02 AM      Joni Mitchell  A Case of You (feat. Marcus Mumford)   \n...           ...                ...                                   ...   \n2610   8:02:56 AM              Björk                Alarm Call - Radio Mix   \n2611   8:06:20 AM      Placid Angles                        First Blue Sky   \n2612   8:09:39 AM             Tirzah                            No Romance   \n2613   8:13:21 AM             Burial                              Claustro   \n2614   8:20:04 AM       belmont girl                 school of hard knocks   \n\n                                                Release  New  ...    key  \\\n0                                            Jazzy´Blue    0  ...  0.000   \n1                   Cults Hits Novelty Classics, Vol. 1    0  ...  0.000   \n2                                     Water Underground    0  ...  0.664   \n3                                          Feelin Sorry    0  ...  0.000   \n4     A Case of You (feat. Marcus Mumford) (Live at ...    0  ...  0.000   \n...                                                 ...  ...  ...    ...   \n2610                             Alarm Call (Version 1)    0  ...  0.869   \n2611                                     First Blue Sky    0  ...  0.875   \n2612                                         No Romance    0  ...  0.000   \n2613                            Claustro / State Forest    0  ...  0.000   \n2614                              school of hard knocks    0  ...  0.000   \n\n     loudness mode speechiness  acousticness  instruemtnalness  liveness  \\\n0       0.000  0.0      0.0000        0.0000          0.000000     0.000   \n1       0.000  0.0      0.0000        0.0000          0.000000     0.000   \n2      -7.245  1.0      0.0314        0.0232          0.054200     0.133   \n3       0.000  0.0      0.0000        0.0000          0.000000     0.000   \n4       0.000  0.0      0.0000        0.0000          0.000000     0.000   \n...       ...  ...         ...           ...               ...       ...   \n2610   -5.785  0.0      0.0669        0.0450          0.000002     0.105   \n2611   -5.455  0.0      0.0333        0.0283          0.908000     0.114   \n2612    0.000  0.0      0.0000        0.0000          0.000000     0.000   \n2613    0.000  0.0      0.0000        0.0000          0.000000     0.000   \n2614    0.000  0.0      0.0000        0.0000          0.000000     0.000   \n\n      valence    tempo  duration_ms  \n0       0.000    0.000          0.0  \n1       0.000    0.000          0.0  \n2       0.919  111.907     206547.0  \n3       0.000    0.000          0.0  \n4       0.000    0.000          0.0  \n...       ...      ...          ...  \n2610    0.895  118.034     201600.0  \n2611    0.873  144.999     309023.0  \n2612    0.000    0.000          0.0  \n2613    0.000    0.000          0.0  \n2614    0.000    0.000          0.0  \n\n[5230 rows x 28 columns]",
      "text/html": "<div>\n<style scoped>\n    .dataframe tbody tr th:only-of-type {\n        vertical-align: middle;\n    }\n\n    .dataframe tbody tr th {\n        vertical-align: top;\n    }\n\n    .dataframe thead th {\n        text-align: right;\n    }\n</style>\n<table border=\"1\" class=\"dataframe\">\n  <thead>\n    <tr style=\"text-align: right;\">\n      <th></th>\n      <th>Unnamed: 0</th>\n      <th>Playlist Title</th>\n      <th>DJ ID</th>\n      <th>DJ Name</th>\n      <th>Date</th>\n      <th>Time</th>\n      <th>Artist</th>\n      <th>Song</th>\n      <th>Release</th>\n      <th>New</th>\n      <th>...</th>\n      <th>key</th>\n      <th>loudness</th>\n      <th>mode</th>\n      <th>speechiness</th>\n      <th>acousticness</th>\n      <th>instruemtnalness</th>\n      <th>liveness</th>\n      <th>valence</th>\n      <th>tempo</th>\n      <th>duration_ms</th>\n    </tr>\n  </thead>\n  <tbody>\n    <tr>\n      <th>0</th>\n      <td>32428</td>\n      <td>WRUV 1/1/24, 12:00 AM</td>\n      <td>64581</td>\n      <td>Program Director</td>\n      <td>2024-01-01</td>\n      <td>12:00:43 AM</td>\n      <td>Darian Stavans</td>\n      <td>Ballad</td>\n      <td>Jazzy´Blue</td>\n      <td>0</td>\n      <td>...</td>\n      <td>0.000</td>\n      <td>0.000</td>\n      <td>0.0</td>\n      <td>0.0000</td>\n      <td>0.0000</td>\n      <td>0.000000</td>\n      <td>0.000</td>\n      <td>0.000</td>\n      <td>0.000</td>\n      <td>0.0</td>\n    </tr>\n    <tr>\n      <th>1</th>\n      <td>32429</td>\n      <td>WRUV 1/1/24, 12:00 AM</td>\n      <td>64581</td>\n      <td>Program Director</td>\n      <td>2024-01-01</td>\n      <td>12:03:25 AM</td>\n      <td>Mack Fields</td>\n      <td>I Like to Yodel</td>\n      <td>Cults Hits Novelty Classics, Vol. 1</td>\n      <td>0</td>\n      <td>...</td>\n      <td>0.000</td>\n      <td>0.000</td>\n      <td>0.0</td>\n      <td>0.0000</td>\n      <td>0.0000</td>\n      <td>0.000000</td>\n      <td>0.000</td>\n      <td>0.000</td>\n      <td>0.000</td>\n      <td>0.0</td>\n    </tr>\n    <tr>\n      <th>2</th>\n      <td>32430</td>\n      <td>WRUV 1/1/24, 12:00 AM</td>\n      <td>64581</td>\n      <td>Program Director</td>\n      <td>2024-01-01</td>\n      <td>12:05:48 AM</td>\n      <td>Real Estate</td>\n      <td>Water Underground</td>\n      <td>Water Underground</td>\n      <td>0</td>\n      <td>...</td>\n      <td>0.664</td>\n      <td>-7.245</td>\n      <td>1.0</td>\n      <td>0.0314</td>\n      <td>0.0232</td>\n      <td>0.054200</td>\n      <td>0.133</td>\n      <td>0.919</td>\n      <td>111.907</td>\n      <td>206547.0</td>\n    </tr>\n    <tr>\n      <th>3</th>\n      <td>32431</td>\n      <td>WRUV 1/1/24, 12:00 AM</td>\n      <td>64581</td>\n      <td>Program Director</td>\n      <td>2024-01-01</td>\n      <td>12:09:14 AM</td>\n      <td>My Morning Jacket</td>\n      <td>Feelin Sorry</td>\n      <td>Feelin Sorry</td>\n      <td>0</td>\n      <td>...</td>\n      <td>0.000</td>\n      <td>0.000</td>\n      <td>0.0</td>\n      <td>0.0000</td>\n      <td>0.0000</td>\n      <td>0.000000</td>\n      <td>0.000</td>\n      <td>0.000</td>\n      <td>0.000</td>\n      <td>0.0</td>\n    </tr>\n    <tr>\n      <th>4</th>\n      <td>32432</td>\n      <td>WRUV 1/1/24, 12:00 AM</td>\n      <td>64581</td>\n      <td>Program Director</td>\n      <td>2024-01-01</td>\n      <td>12:12:02 AM</td>\n      <td>Joni Mitchell</td>\n      <td>A Case of You (feat. Marcus Mumford)</td>\n      <td>A Case of You (feat. Marcus Mumford) (Live at ...</td>\n      <td>0</td>\n      <td>...</td>\n      <td>0.000</td>\n      <td>0.000</td>\n      <td>0.0</td>\n      <td>0.0000</td>\n      <td>0.0000</td>\n      <td>0.000000</td>\n      <td>0.000</td>\n      <td>0.000</td>\n      <td>0.000</td>\n      <td>0.0</td>\n    </tr>\n    <tr>\n      <th>...</th>\n      <td>...</td>\n      <td>...</td>\n      <td>...</td>\n      <td>...</td>\n      <td>...</td>\n      <td>...</td>\n      <td>...</td>\n      <td>...</td>\n      <td>...</td>\n      <td>...</td>\n      <td>...</td>\n      <td>...</td>\n      <td>...</td>\n      <td>...</td>\n      <td>...</td>\n      <td>...</td>\n      <td>...</td>\n      <td>...</td>\n      <td>...</td>\n      <td>...</td>\n      <td>...</td>\n    </tr>\n    <tr>\n      <th>2610</th>\n      <td>37653</td>\n      <td>Unknown Summer</td>\n      <td>176422</td>\n      <td>DJ Desh</td>\n      <td>2024-01-17</td>\n      <td>8:02:56 AM</td>\n      <td>Björk</td>\n      <td>Alarm Call - Radio Mix</td>\n      <td>Alarm Call (Version 1)</td>\n      <td>0</td>\n      <td>...</td>\n      <td>0.869</td>\n      <td>-5.785</td>\n      <td>0.0</td>\n      <td>0.0669</td>\n      <td>0.0450</td>\n      <td>0.000002</td>\n      <td>0.105</td>\n      <td>0.895</td>\n      <td>118.034</td>\n      <td>201600.0</td>\n    </tr>\n    <tr>\n      <th>2611</th>\n      <td>37654</td>\n      <td>Unknown Summer</td>\n      <td>176422</td>\n      <td>DJ Desh</td>\n      <td>2024-01-17</td>\n      <td>8:06:20 AM</td>\n      <td>Placid Angles</td>\n      <td>First Blue Sky</td>\n      <td>First Blue Sky</td>\n      <td>0</td>\n      <td>...</td>\n      <td>0.875</td>\n      <td>-5.455</td>\n      <td>0.0</td>\n      <td>0.0333</td>\n      <td>0.0283</td>\n      <td>0.908000</td>\n      <td>0.114</td>\n      <td>0.873</td>\n      <td>144.999</td>\n      <td>309023.0</td>\n    </tr>\n    <tr>\n      <th>2612</th>\n      <td>37655</td>\n      <td>Unknown Summer</td>\n      <td>176422</td>\n      <td>DJ Desh</td>\n      <td>2024-01-17</td>\n      <td>8:09:39 AM</td>\n      <td>Tirzah</td>\n      <td>No Romance</td>\n      <td>No Romance</td>\n      <td>0</td>\n      <td>...</td>\n      <td>0.000</td>\n      <td>0.000</td>\n      <td>0.0</td>\n      <td>0.0000</td>\n      <td>0.0000</td>\n      <td>0.000000</td>\n      <td>0.000</td>\n      <td>0.000</td>\n      <td>0.000</td>\n      <td>0.0</td>\n    </tr>\n    <tr>\n      <th>2613</th>\n      <td>37656</td>\n      <td>Unknown Summer</td>\n      <td>176422</td>\n      <td>DJ Desh</td>\n      <td>2024-01-17</td>\n      <td>8:13:21 AM</td>\n      <td>Burial</td>\n      <td>Claustro</td>\n      <td>Claustro / State Forest</td>\n      <td>0</td>\n      <td>...</td>\n      <td>0.000</td>\n      <td>0.000</td>\n      <td>0.0</td>\n      <td>0.0000</td>\n      <td>0.0000</td>\n      <td>0.000000</td>\n      <td>0.000</td>\n      <td>0.000</td>\n      <td>0.000</td>\n      <td>0.0</td>\n    </tr>\n    <tr>\n      <th>2614</th>\n      <td>37657</td>\n      <td>Unknown Summer</td>\n      <td>176422</td>\n      <td>DJ Desh</td>\n      <td>2024-01-17</td>\n      <td>8:20:04 AM</td>\n      <td>belmont girl</td>\n      <td>school of hard knocks</td>\n      <td>school of hard knocks</td>\n      <td>0</td>\n      <td>...</td>\n      <td>0.000</td>\n      <td>0.000</td>\n      <td>0.0</td>\n      <td>0.0000</td>\n      <td>0.0000</td>\n      <td>0.000000</td>\n      <td>0.000</td>\n      <td>0.000</td>\n      <td>0.000</td>\n      <td>0.0</td>\n    </tr>\n  </tbody>\n</table>\n<p>5230 rows × 28 columns</p>\n</div>"
     },
     "execution_count": 6,
     "metadata": {},
     "output_type": "execute_result"
    }
   ],
   "source": [
    "# Define smaller data set for linear regression (for now)\n",
    "slices = []\n",
    "# right now we have 2 slices, hopefully we will get a lot more \n",
    "for i in range(2):\n",
    "    slices.append(pd.read_csv(f'slice{i}.csv'))\n",
    "small = pd.concat(slices, axis=0)\n",
    "small[\"Date\"] = pd.to_datetime(small[\"Date\"])\n",
    "small.fillna(0, inplace = True)\n",
    "small"
   ]
  },
  {
   "cell_type": "markdown",
   "metadata": {},
   "source": [
    "#### Additional Collection: Filling Missing Genres and Spotify Audio Features"
   ]
  },
  {
   "cell_type": "code",
   "execution_count": 9,
   "metadata": {
    "ExecuteTime": {
     "end_time": "2024-04-07T22:20:28.441960Z",
     "start_time": "2024-04-07T22:20:24.217565Z"
    }
   },
   "outputs": [
    {
     "name": "stdout",
     "output_type": "stream",
     "text": [
      "5230\n",
      "2190\n"
     ]
    },
    {
     "ename": "UFuncTypeError",
     "evalue": "ufunc 'add' did not contain a loop with signature matching types (dtype('int64'), dtype('<U16')) -> None",
     "output_type": "error",
     "traceback": [
      "\u001B[1;31m---------------------------------------------------------------------------\u001B[0m",
      "\u001B[1;31mUFuncTypeError\u001B[0m                            Traceback (most recent call last)",
      "Cell \u001B[1;32mIn[9], line 28\u001B[0m, in \u001B[0;36mget_genre_by_artist\u001B[1;34m(artist_name)\u001B[0m\n\u001B[0;32m     27\u001B[0m \u001B[38;5;28;01mtry\u001B[39;00m:\n\u001B[1;32m---> 28\u001B[0m     results \u001B[38;5;241m=\u001B[39m sp\u001B[38;5;241m.\u001B[39msearch(q\u001B[38;5;241m=\u001B[39m\u001B[38;5;124;43m'\u001B[39;49m\u001B[38;5;124;43martist:\u001B[39;49m\u001B[38;5;124;43m'\u001B[39;49m\u001B[43m \u001B[49m\u001B[38;5;241;43m+\u001B[39;49m\u001B[43m \u001B[49m\u001B[43martist_name\u001B[49m, \u001B[38;5;28mtype\u001B[39m\u001B[38;5;241m=\u001B[39m\u001B[38;5;124m'\u001B[39m\u001B[38;5;124martist\u001B[39m\u001B[38;5;124m'\u001B[39m, limit\u001B[38;5;241m=\u001B[39m\u001B[38;5;241m10\u001B[39m)\n\u001B[0;32m     29\u001B[0m \u001B[38;5;28;01mexcept\u001B[39;00m \u001B[38;5;167;01mTypeError\u001B[39;00m:\n",
      "File \u001B[1;32m~\\AppData\\Local\\Packages\\PythonSoftwareFoundation.Python.3.10_qbz5n2kfra8p0\\LocalCache\\local-packages\\Python310\\site-packages\\pandas\\core\\ops\\common.py:76\u001B[0m, in \u001B[0;36m_unpack_zerodim_and_defer.<locals>.new_method\u001B[1;34m(self, other)\u001B[0m\n\u001B[0;32m     74\u001B[0m other \u001B[38;5;241m=\u001B[39m item_from_zerodim(other)\n\u001B[1;32m---> 76\u001B[0m \u001B[38;5;28;01mreturn\u001B[39;00m \u001B[43mmethod\u001B[49m\u001B[43m(\u001B[49m\u001B[38;5;28;43mself\u001B[39;49m\u001B[43m,\u001B[49m\u001B[43m \u001B[49m\u001B[43mother\u001B[49m\u001B[43m)\u001B[49m\n",
      "File \u001B[1;32m~\\AppData\\Local\\Packages\\PythonSoftwareFoundation.Python.3.10_qbz5n2kfra8p0\\LocalCache\\local-packages\\Python310\\site-packages\\pandas\\core\\arraylike.py:190\u001B[0m, in \u001B[0;36mOpsMixin.__radd__\u001B[1;34m(self, other)\u001B[0m\n\u001B[0;32m    188\u001B[0m \u001B[38;5;129m@unpack_zerodim_and_defer\u001B[39m(\u001B[38;5;124m\"\u001B[39m\u001B[38;5;124m__radd__\u001B[39m\u001B[38;5;124m\"\u001B[39m)\n\u001B[0;32m    189\u001B[0m \u001B[38;5;28;01mdef\u001B[39;00m \u001B[38;5;21m__radd__\u001B[39m(\u001B[38;5;28mself\u001B[39m, other):\n\u001B[1;32m--> 190\u001B[0m     \u001B[38;5;28;01mreturn\u001B[39;00m \u001B[38;5;28;43mself\u001B[39;49m\u001B[38;5;241;43m.\u001B[39;49m\u001B[43m_arith_method\u001B[49m\u001B[43m(\u001B[49m\u001B[43mother\u001B[49m\u001B[43m,\u001B[49m\u001B[43m \u001B[49m\u001B[43mroperator\u001B[49m\u001B[38;5;241;43m.\u001B[39;49m\u001B[43mradd\u001B[49m\u001B[43m)\u001B[49m\n",
      "File \u001B[1;32m~\\AppData\\Local\\Packages\\PythonSoftwareFoundation.Python.3.10_qbz5n2kfra8p0\\LocalCache\\local-packages\\Python310\\site-packages\\pandas\\core\\series.py:5815\u001B[0m, in \u001B[0;36mSeries._arith_method\u001B[1;34m(self, other, op)\u001B[0m\n\u001B[0;32m   5814\u001B[0m \u001B[38;5;28mself\u001B[39m, other \u001B[38;5;241m=\u001B[39m \u001B[38;5;28mself\u001B[39m\u001B[38;5;241m.\u001B[39m_align_for_op(other)\n\u001B[1;32m-> 5815\u001B[0m \u001B[38;5;28;01mreturn\u001B[39;00m \u001B[43mbase\u001B[49m\u001B[38;5;241;43m.\u001B[39;49m\u001B[43mIndexOpsMixin\u001B[49m\u001B[38;5;241;43m.\u001B[39;49m\u001B[43m_arith_method\u001B[49m\u001B[43m(\u001B[49m\u001B[38;5;28;43mself\u001B[39;49m\u001B[43m,\u001B[49m\u001B[43m \u001B[49m\u001B[43mother\u001B[49m\u001B[43m,\u001B[49m\u001B[43m \u001B[49m\u001B[43mop\u001B[49m\u001B[43m)\u001B[49m\n",
      "File \u001B[1;32m~\\AppData\\Local\\Packages\\PythonSoftwareFoundation.Python.3.10_qbz5n2kfra8p0\\LocalCache\\local-packages\\Python310\\site-packages\\pandas\\core\\base.py:1381\u001B[0m, in \u001B[0;36mIndexOpsMixin._arith_method\u001B[1;34m(self, other, op)\u001B[0m\n\u001B[0;32m   1380\u001B[0m \u001B[38;5;28;01mwith\u001B[39;00m np\u001B[38;5;241m.\u001B[39merrstate(\u001B[38;5;28mall\u001B[39m\u001B[38;5;241m=\u001B[39m\u001B[38;5;124m\"\u001B[39m\u001B[38;5;124mignore\u001B[39m\u001B[38;5;124m\"\u001B[39m):\n\u001B[1;32m-> 1381\u001B[0m     result \u001B[38;5;241m=\u001B[39m \u001B[43mops\u001B[49m\u001B[38;5;241;43m.\u001B[39;49m\u001B[43marithmetic_op\u001B[49m\u001B[43m(\u001B[49m\u001B[43mlvalues\u001B[49m\u001B[43m,\u001B[49m\u001B[43m \u001B[49m\u001B[43mrvalues\u001B[49m\u001B[43m,\u001B[49m\u001B[43m \u001B[49m\u001B[43mop\u001B[49m\u001B[43m)\u001B[49m\n\u001B[0;32m   1383\u001B[0m \u001B[38;5;28;01mreturn\u001B[39;00m \u001B[38;5;28mself\u001B[39m\u001B[38;5;241m.\u001B[39m_construct_result(result, name\u001B[38;5;241m=\u001B[39mres_name)\n",
      "File \u001B[1;32m~\\AppData\\Local\\Packages\\PythonSoftwareFoundation.Python.3.10_qbz5n2kfra8p0\\LocalCache\\local-packages\\Python310\\site-packages\\pandas\\core\\ops\\array_ops.py:285\u001B[0m, in \u001B[0;36marithmetic_op\u001B[1;34m(left, right, op)\u001B[0m\n\u001B[0;32m    283\u001B[0m     \u001B[38;5;66;03m# error: Argument 1 to \"_na_arithmetic_op\" has incompatible type\u001B[39;00m\n\u001B[0;32m    284\u001B[0m     \u001B[38;5;66;03m# \"Union[ExtensionArray, ndarray[Any, Any]]\"; expected \"ndarray[Any, Any]\"\u001B[39;00m\n\u001B[1;32m--> 285\u001B[0m     res_values \u001B[38;5;241m=\u001B[39m \u001B[43m_na_arithmetic_op\u001B[49m\u001B[43m(\u001B[49m\u001B[43mleft\u001B[49m\u001B[43m,\u001B[49m\u001B[43m \u001B[49m\u001B[43mright\u001B[49m\u001B[43m,\u001B[49m\u001B[43m \u001B[49m\u001B[43mop\u001B[49m\u001B[43m)\u001B[49m  \u001B[38;5;66;03m# type: ignore[arg-type]\u001B[39;00m\n\u001B[0;32m    287\u001B[0m \u001B[38;5;28;01mreturn\u001B[39;00m res_values\n",
      "File \u001B[1;32m~\\AppData\\Local\\Packages\\PythonSoftwareFoundation.Python.3.10_qbz5n2kfra8p0\\LocalCache\\local-packages\\Python310\\site-packages\\pandas\\core\\ops\\array_ops.py:220\u001B[0m, in \u001B[0;36m_na_arithmetic_op\u001B[1;34m(left, right, op, is_cmp)\u001B[0m\n\u001B[0;32m    219\u001B[0m \u001B[38;5;28;01mtry\u001B[39;00m:\n\u001B[1;32m--> 220\u001B[0m     result \u001B[38;5;241m=\u001B[39m \u001B[43mfunc\u001B[49m\u001B[43m(\u001B[49m\u001B[43mleft\u001B[49m\u001B[43m,\u001B[49m\u001B[43m \u001B[49m\u001B[43mright\u001B[49m\u001B[43m)\u001B[49m\n\u001B[0;32m    221\u001B[0m \u001B[38;5;28;01mexcept\u001B[39;00m \u001B[38;5;167;01mTypeError\u001B[39;00m:\n",
      "File \u001B[1;32m~\\AppData\\Local\\Packages\\PythonSoftwareFoundation.Python.3.10_qbz5n2kfra8p0\\LocalCache\\local-packages\\Python310\\site-packages\\pandas\\core\\roperator.py:11\u001B[0m, in \u001B[0;36mradd\u001B[1;34m(left, right)\u001B[0m\n\u001B[0;32m     10\u001B[0m \u001B[38;5;28;01mdef\u001B[39;00m \u001B[38;5;21mradd\u001B[39m(left, right):\n\u001B[1;32m---> 11\u001B[0m     \u001B[38;5;28;01mreturn\u001B[39;00m \u001B[43mright\u001B[49m\u001B[43m \u001B[49m\u001B[38;5;241;43m+\u001B[39;49m\u001B[43m \u001B[49m\u001B[43mleft\u001B[49m\n",
      "\u001B[1;31mUFuncTypeError\u001B[0m: ufunc 'add' did not contain a loop with signature matching types (dtype('<U7'), dtype('int64')) -> None",
      "\nDuring handling of the above exception, another exception occurred:\n",
      "\u001B[1;31mUFuncTypeError\u001B[0m                            Traceback (most recent call last)",
      "Cell \u001B[1;32mIn[9], line 53\u001B[0m\n\u001B[0;32m     50\u001B[0m \u001B[38;5;28mprint\u001B[39m(\u001B[38;5;28mlen\u001B[39m(small))\n\u001B[0;32m     51\u001B[0m \u001B[38;5;28mprint\u001B[39m(small[\u001B[38;5;124m\"\u001B[39m\u001B[38;5;124mGenre\u001B[39m\u001B[38;5;124m\"\u001B[39m]\u001B[38;5;241m.\u001B[39misna()\u001B[38;5;241m.\u001B[39msum())\n\u001B[1;32m---> 53\u001B[0m small\u001B[38;5;241m.\u001B[39mloc[small[\u001B[38;5;124m\"\u001B[39m\u001B[38;5;124mGenre\u001B[39m\u001B[38;5;124m\"\u001B[39m]\u001B[38;5;241m.\u001B[39misna(), \u001B[38;5;124m\"\u001B[39m\u001B[38;5;124mGenre\u001B[39m\u001B[38;5;124m\"\u001B[39m] \u001B[38;5;241m=\u001B[39m \u001B[43msmall\u001B[49m\u001B[38;5;241;43m.\u001B[39;49m\u001B[43mloc\u001B[49m\u001B[43m[\u001B[49m\u001B[43msmall\u001B[49m\u001B[43m[\u001B[49m\u001B[38;5;124;43m\"\u001B[39;49m\u001B[38;5;124;43mGenre\u001B[39;49m\u001B[38;5;124;43m\"\u001B[39;49m\u001B[43m]\u001B[49m\u001B[38;5;241;43m.\u001B[39;49m\u001B[43misna\u001B[49m\u001B[43m(\u001B[49m\u001B[43m)\u001B[49m\u001B[43m]\u001B[49m\u001B[38;5;241;43m.\u001B[39;49m\u001B[43mapply\u001B[49m\u001B[43m(\u001B[49m\u001B[43mget_genre_by_artist\u001B[49m\u001B[43m)\u001B[49m\n\u001B[0;32m     54\u001B[0m \u001B[38;5;66;03m#lr.loc[lr[\"Genre\"].isna(), \"Genre\"] = lr.loc[lr[\"Genre\"].isna()].apply(get_genre_by_artist)\u001B[39;00m\n\u001B[0;32m     56\u001B[0m \u001B[38;5;28mprint\u001B[39m(small[\u001B[38;5;124m\"\u001B[39m\u001B[38;5;124mGenre\u001B[39m\u001B[38;5;124m\"\u001B[39m]\u001B[38;5;241m.\u001B[39misna()\u001B[38;5;241m.\u001B[39msum())\n",
      "File \u001B[1;32m~\\AppData\\Local\\Packages\\PythonSoftwareFoundation.Python.3.10_qbz5n2kfra8p0\\LocalCache\\local-packages\\Python310\\site-packages\\pandas\\core\\frame.py:10034\u001B[0m, in \u001B[0;36mDataFrame.apply\u001B[1;34m(self, func, axis, raw, result_type, args, by_row, **kwargs)\u001B[0m\n\u001B[0;32m  10022\u001B[0m \u001B[38;5;28;01mfrom\u001B[39;00m \u001B[38;5;21;01mpandas\u001B[39;00m\u001B[38;5;21;01m.\u001B[39;00m\u001B[38;5;21;01mcore\u001B[39;00m\u001B[38;5;21;01m.\u001B[39;00m\u001B[38;5;21;01mapply\u001B[39;00m \u001B[38;5;28;01mimport\u001B[39;00m frame_apply\n\u001B[0;32m  10024\u001B[0m op \u001B[38;5;241m=\u001B[39m frame_apply(\n\u001B[0;32m  10025\u001B[0m     \u001B[38;5;28mself\u001B[39m,\n\u001B[0;32m  10026\u001B[0m     func\u001B[38;5;241m=\u001B[39mfunc,\n\u001B[1;32m   (...)\u001B[0m\n\u001B[0;32m  10032\u001B[0m     kwargs\u001B[38;5;241m=\u001B[39mkwargs,\n\u001B[0;32m  10033\u001B[0m )\n\u001B[1;32m> 10034\u001B[0m \u001B[38;5;28;01mreturn\u001B[39;00m \u001B[43mop\u001B[49m\u001B[38;5;241;43m.\u001B[39;49m\u001B[43mapply\u001B[49m\u001B[43m(\u001B[49m\u001B[43m)\u001B[49m\u001B[38;5;241m.\u001B[39m__finalize__(\u001B[38;5;28mself\u001B[39m, method\u001B[38;5;241m=\u001B[39m\u001B[38;5;124m\"\u001B[39m\u001B[38;5;124mapply\u001B[39m\u001B[38;5;124m\"\u001B[39m)\n",
      "File \u001B[1;32m~\\AppData\\Local\\Packages\\PythonSoftwareFoundation.Python.3.10_qbz5n2kfra8p0\\LocalCache\\local-packages\\Python310\\site-packages\\pandas\\core\\apply.py:837\u001B[0m, in \u001B[0;36mFrameApply.apply\u001B[1;34m(self)\u001B[0m\n\u001B[0;32m    834\u001B[0m \u001B[38;5;28;01melif\u001B[39;00m \u001B[38;5;28mself\u001B[39m\u001B[38;5;241m.\u001B[39mraw:\n\u001B[0;32m    835\u001B[0m     \u001B[38;5;28;01mreturn\u001B[39;00m \u001B[38;5;28mself\u001B[39m\u001B[38;5;241m.\u001B[39mapply_raw()\n\u001B[1;32m--> 837\u001B[0m \u001B[38;5;28;01mreturn\u001B[39;00m \u001B[38;5;28;43mself\u001B[39;49m\u001B[38;5;241;43m.\u001B[39;49m\u001B[43mapply_standard\u001B[49m\u001B[43m(\u001B[49m\u001B[43m)\u001B[49m\n",
      "File \u001B[1;32m~\\AppData\\Local\\Packages\\PythonSoftwareFoundation.Python.3.10_qbz5n2kfra8p0\\LocalCache\\local-packages\\Python310\\site-packages\\pandas\\core\\apply.py:963\u001B[0m, in \u001B[0;36mFrameApply.apply_standard\u001B[1;34m(self)\u001B[0m\n\u001B[0;32m    962\u001B[0m \u001B[38;5;28;01mdef\u001B[39;00m \u001B[38;5;21mapply_standard\u001B[39m(\u001B[38;5;28mself\u001B[39m):\n\u001B[1;32m--> 963\u001B[0m     results, res_index \u001B[38;5;241m=\u001B[39m \u001B[38;5;28;43mself\u001B[39;49m\u001B[38;5;241;43m.\u001B[39;49m\u001B[43mapply_series_generator\u001B[49m\u001B[43m(\u001B[49m\u001B[43m)\u001B[49m\n\u001B[0;32m    965\u001B[0m     \u001B[38;5;66;03m# wrap results\u001B[39;00m\n\u001B[0;32m    966\u001B[0m     \u001B[38;5;28;01mreturn\u001B[39;00m \u001B[38;5;28mself\u001B[39m\u001B[38;5;241m.\u001B[39mwrap_results(results, res_index)\n",
      "File \u001B[1;32m~\\AppData\\Local\\Packages\\PythonSoftwareFoundation.Python.3.10_qbz5n2kfra8p0\\LocalCache\\local-packages\\Python310\\site-packages\\pandas\\core\\apply.py:979\u001B[0m, in \u001B[0;36mFrameApply.apply_series_generator\u001B[1;34m(self)\u001B[0m\n\u001B[0;32m    976\u001B[0m \u001B[38;5;28;01mwith\u001B[39;00m option_context(\u001B[38;5;124m\"\u001B[39m\u001B[38;5;124mmode.chained_assignment\u001B[39m\u001B[38;5;124m\"\u001B[39m, \u001B[38;5;28;01mNone\u001B[39;00m):\n\u001B[0;32m    977\u001B[0m     \u001B[38;5;28;01mfor\u001B[39;00m i, v \u001B[38;5;129;01min\u001B[39;00m \u001B[38;5;28menumerate\u001B[39m(series_gen):\n\u001B[0;32m    978\u001B[0m         \u001B[38;5;66;03m# ignore SettingWithCopy here in case the user mutates\u001B[39;00m\n\u001B[1;32m--> 979\u001B[0m         results[i] \u001B[38;5;241m=\u001B[39m \u001B[38;5;28mself\u001B[39m\u001B[38;5;241m.\u001B[39mfunc(v, \u001B[38;5;241m*\u001B[39m\u001B[38;5;28mself\u001B[39m\u001B[38;5;241m.\u001B[39margs, \u001B[38;5;241m*\u001B[39m\u001B[38;5;241m*\u001B[39m\u001B[38;5;28mself\u001B[39m\u001B[38;5;241m.\u001B[39mkwargs)\n\u001B[0;32m    980\u001B[0m         \u001B[38;5;28;01mif\u001B[39;00m \u001B[38;5;28misinstance\u001B[39m(results[i], ABCSeries):\n\u001B[0;32m    981\u001B[0m             \u001B[38;5;66;03m# If we have a view on v, we need to make a copy because\u001B[39;00m\n\u001B[0;32m    982\u001B[0m             \u001B[38;5;66;03m#  series_generator will swap out the underlying data\u001B[39;00m\n\u001B[0;32m    983\u001B[0m             results[i] \u001B[38;5;241m=\u001B[39m results[i]\u001B[38;5;241m.\u001B[39mcopy(deep\u001B[38;5;241m=\u001B[39m\u001B[38;5;28;01mFalse\u001B[39;00m)\n",
      "Cell \u001B[1;32mIn[9], line 30\u001B[0m, in \u001B[0;36mget_genre_by_artist\u001B[1;34m(artist_name)\u001B[0m\n\u001B[0;32m     28\u001B[0m     results \u001B[38;5;241m=\u001B[39m sp\u001B[38;5;241m.\u001B[39msearch(q\u001B[38;5;241m=\u001B[39m\u001B[38;5;124m'\u001B[39m\u001B[38;5;124martist:\u001B[39m\u001B[38;5;124m'\u001B[39m \u001B[38;5;241m+\u001B[39m artist_name, \u001B[38;5;28mtype\u001B[39m\u001B[38;5;241m=\u001B[39m\u001B[38;5;124m'\u001B[39m\u001B[38;5;124martist\u001B[39m\u001B[38;5;124m'\u001B[39m, limit\u001B[38;5;241m=\u001B[39m\u001B[38;5;241m10\u001B[39m)\n\u001B[0;32m     29\u001B[0m \u001B[38;5;28;01mexcept\u001B[39;00m \u001B[38;5;167;01mTypeError\u001B[39;00m:\n\u001B[1;32m---> 30\u001B[0m     \u001B[38;5;28mprint\u001B[39m(\u001B[43martist_name\u001B[49m\u001B[43m \u001B[49m\u001B[38;5;241;43m+\u001B[39;49m\u001B[43m \u001B[49m\u001B[38;5;124;43m\"\u001B[39;49m\u001B[38;5;124;43munable to search\u001B[39;49m\u001B[38;5;124;43m\"\u001B[39;49m)\n\u001B[0;32m     31\u001B[0m     \u001B[38;5;28;01mreturn\u001B[39;00m \u001B[38;5;124m'\u001B[39m\u001B[38;5;124mNA\u001B[39m\u001B[38;5;124m'\u001B[39m\n\u001B[0;32m     32\u001B[0m \u001B[38;5;66;03m# make sure that the result is for the artist we want\u001B[39;00m\n",
      "File \u001B[1;32m~\\AppData\\Local\\Packages\\PythonSoftwareFoundation.Python.3.10_qbz5n2kfra8p0\\LocalCache\\local-packages\\Python310\\site-packages\\pandas\\core\\ops\\common.py:76\u001B[0m, in \u001B[0;36m_unpack_zerodim_and_defer.<locals>.new_method\u001B[1;34m(self, other)\u001B[0m\n\u001B[0;32m     72\u001B[0m             \u001B[38;5;28;01mreturn\u001B[39;00m \u001B[38;5;28mNotImplemented\u001B[39m\n\u001B[0;32m     74\u001B[0m other \u001B[38;5;241m=\u001B[39m item_from_zerodim(other)\n\u001B[1;32m---> 76\u001B[0m \u001B[38;5;28;01mreturn\u001B[39;00m \u001B[43mmethod\u001B[49m\u001B[43m(\u001B[49m\u001B[38;5;28;43mself\u001B[39;49m\u001B[43m,\u001B[49m\u001B[43m \u001B[49m\u001B[43mother\u001B[49m\u001B[43m)\u001B[49m\n",
      "File \u001B[1;32m~\\AppData\\Local\\Packages\\PythonSoftwareFoundation.Python.3.10_qbz5n2kfra8p0\\LocalCache\\local-packages\\Python310\\site-packages\\pandas\\core\\arraylike.py:186\u001B[0m, in \u001B[0;36mOpsMixin.__add__\u001B[1;34m(self, other)\u001B[0m\n\u001B[0;32m     98\u001B[0m \u001B[38;5;129m@unpack_zerodim_and_defer\u001B[39m(\u001B[38;5;124m\"\u001B[39m\u001B[38;5;124m__add__\u001B[39m\u001B[38;5;124m\"\u001B[39m)\n\u001B[0;32m     99\u001B[0m \u001B[38;5;28;01mdef\u001B[39;00m \u001B[38;5;21m__add__\u001B[39m(\u001B[38;5;28mself\u001B[39m, other):\n\u001B[0;32m    100\u001B[0m \u001B[38;5;250m    \u001B[39m\u001B[38;5;124;03m\"\"\"\u001B[39;00m\n\u001B[0;32m    101\u001B[0m \u001B[38;5;124;03m    Get Addition of DataFrame and other, column-wise.\u001B[39;00m\n\u001B[0;32m    102\u001B[0m \n\u001B[1;32m   (...)\u001B[0m\n\u001B[0;32m    184\u001B[0m \u001B[38;5;124;03m    moose     3.0     NaN\u001B[39;00m\n\u001B[0;32m    185\u001B[0m \u001B[38;5;124;03m    \"\"\"\u001B[39;00m\n\u001B[1;32m--> 186\u001B[0m     \u001B[38;5;28;01mreturn\u001B[39;00m \u001B[38;5;28;43mself\u001B[39;49m\u001B[38;5;241;43m.\u001B[39;49m\u001B[43m_arith_method\u001B[49m\u001B[43m(\u001B[49m\u001B[43mother\u001B[49m\u001B[43m,\u001B[49m\u001B[43m \u001B[49m\u001B[43moperator\u001B[49m\u001B[38;5;241;43m.\u001B[39;49m\u001B[43madd\u001B[49m\u001B[43m)\u001B[49m\n",
      "File \u001B[1;32m~\\AppData\\Local\\Packages\\PythonSoftwareFoundation.Python.3.10_qbz5n2kfra8p0\\LocalCache\\local-packages\\Python310\\site-packages\\pandas\\core\\series.py:5815\u001B[0m, in \u001B[0;36mSeries._arith_method\u001B[1;34m(self, other, op)\u001B[0m\n\u001B[0;32m   5813\u001B[0m \u001B[38;5;28;01mdef\u001B[39;00m \u001B[38;5;21m_arith_method\u001B[39m(\u001B[38;5;28mself\u001B[39m, other, op):\n\u001B[0;32m   5814\u001B[0m     \u001B[38;5;28mself\u001B[39m, other \u001B[38;5;241m=\u001B[39m \u001B[38;5;28mself\u001B[39m\u001B[38;5;241m.\u001B[39m_align_for_op(other)\n\u001B[1;32m-> 5815\u001B[0m     \u001B[38;5;28;01mreturn\u001B[39;00m \u001B[43mbase\u001B[49m\u001B[38;5;241;43m.\u001B[39;49m\u001B[43mIndexOpsMixin\u001B[49m\u001B[38;5;241;43m.\u001B[39;49m\u001B[43m_arith_method\u001B[49m\u001B[43m(\u001B[49m\u001B[38;5;28;43mself\u001B[39;49m\u001B[43m,\u001B[49m\u001B[43m \u001B[49m\u001B[43mother\u001B[49m\u001B[43m,\u001B[49m\u001B[43m \u001B[49m\u001B[43mop\u001B[49m\u001B[43m)\u001B[49m\n",
      "File \u001B[1;32m~\\AppData\\Local\\Packages\\PythonSoftwareFoundation.Python.3.10_qbz5n2kfra8p0\\LocalCache\\local-packages\\Python310\\site-packages\\pandas\\core\\base.py:1381\u001B[0m, in \u001B[0;36mIndexOpsMixin._arith_method\u001B[1;34m(self, other, op)\u001B[0m\n\u001B[0;32m   1378\u001B[0m     rvalues \u001B[38;5;241m=\u001B[39m np\u001B[38;5;241m.\u001B[39marange(rvalues\u001B[38;5;241m.\u001B[39mstart, rvalues\u001B[38;5;241m.\u001B[39mstop, rvalues\u001B[38;5;241m.\u001B[39mstep)\n\u001B[0;32m   1380\u001B[0m \u001B[38;5;28;01mwith\u001B[39;00m np\u001B[38;5;241m.\u001B[39merrstate(\u001B[38;5;28mall\u001B[39m\u001B[38;5;241m=\u001B[39m\u001B[38;5;124m\"\u001B[39m\u001B[38;5;124mignore\u001B[39m\u001B[38;5;124m\"\u001B[39m):\n\u001B[1;32m-> 1381\u001B[0m     result \u001B[38;5;241m=\u001B[39m \u001B[43mops\u001B[49m\u001B[38;5;241;43m.\u001B[39;49m\u001B[43marithmetic_op\u001B[49m\u001B[43m(\u001B[49m\u001B[43mlvalues\u001B[49m\u001B[43m,\u001B[49m\u001B[43m \u001B[49m\u001B[43mrvalues\u001B[49m\u001B[43m,\u001B[49m\u001B[43m \u001B[49m\u001B[43mop\u001B[49m\u001B[43m)\u001B[49m\n\u001B[0;32m   1383\u001B[0m \u001B[38;5;28;01mreturn\u001B[39;00m \u001B[38;5;28mself\u001B[39m\u001B[38;5;241m.\u001B[39m_construct_result(result, name\u001B[38;5;241m=\u001B[39mres_name)\n",
      "File \u001B[1;32m~\\AppData\\Local\\Packages\\PythonSoftwareFoundation.Python.3.10_qbz5n2kfra8p0\\LocalCache\\local-packages\\Python310\\site-packages\\pandas\\core\\ops\\array_ops.py:285\u001B[0m, in \u001B[0;36marithmetic_op\u001B[1;34m(left, right, op)\u001B[0m\n\u001B[0;32m    281\u001B[0m     _bool_arith_check(op, left, right)  \u001B[38;5;66;03m# type: ignore[arg-type]\u001B[39;00m\n\u001B[0;32m    283\u001B[0m     \u001B[38;5;66;03m# error: Argument 1 to \"_na_arithmetic_op\" has incompatible type\u001B[39;00m\n\u001B[0;32m    284\u001B[0m     \u001B[38;5;66;03m# \"Union[ExtensionArray, ndarray[Any, Any]]\"; expected \"ndarray[Any, Any]\"\u001B[39;00m\n\u001B[1;32m--> 285\u001B[0m     res_values \u001B[38;5;241m=\u001B[39m \u001B[43m_na_arithmetic_op\u001B[49m\u001B[43m(\u001B[49m\u001B[43mleft\u001B[49m\u001B[43m,\u001B[49m\u001B[43m \u001B[49m\u001B[43mright\u001B[49m\u001B[43m,\u001B[49m\u001B[43m \u001B[49m\u001B[43mop\u001B[49m\u001B[43m)\u001B[49m  \u001B[38;5;66;03m# type: ignore[arg-type]\u001B[39;00m\n\u001B[0;32m    287\u001B[0m \u001B[38;5;28;01mreturn\u001B[39;00m res_values\n",
      "File \u001B[1;32m~\\AppData\\Local\\Packages\\PythonSoftwareFoundation.Python.3.10_qbz5n2kfra8p0\\LocalCache\\local-packages\\Python310\\site-packages\\pandas\\core\\ops\\array_ops.py:220\u001B[0m, in \u001B[0;36m_na_arithmetic_op\u001B[1;34m(left, right, op, is_cmp)\u001B[0m\n\u001B[0;32m    217\u001B[0m     func \u001B[38;5;241m=\u001B[39m partial(expressions\u001B[38;5;241m.\u001B[39mevaluate, op)\n\u001B[0;32m    219\u001B[0m \u001B[38;5;28;01mtry\u001B[39;00m:\n\u001B[1;32m--> 220\u001B[0m     result \u001B[38;5;241m=\u001B[39m \u001B[43mfunc\u001B[49m\u001B[43m(\u001B[49m\u001B[43mleft\u001B[49m\u001B[43m,\u001B[49m\u001B[43m \u001B[49m\u001B[43mright\u001B[49m\u001B[43m)\u001B[49m\n\u001B[0;32m    221\u001B[0m \u001B[38;5;28;01mexcept\u001B[39;00m \u001B[38;5;167;01mTypeError\u001B[39;00m:\n\u001B[0;32m    222\u001B[0m     \u001B[38;5;28;01mif\u001B[39;00m \u001B[38;5;129;01mnot\u001B[39;00m is_cmp \u001B[38;5;129;01mand\u001B[39;00m (\n\u001B[0;32m    223\u001B[0m         left\u001B[38;5;241m.\u001B[39mdtype \u001B[38;5;241m==\u001B[39m \u001B[38;5;28mobject\u001B[39m \u001B[38;5;129;01mor\u001B[39;00m \u001B[38;5;28mgetattr\u001B[39m(right, \u001B[38;5;124m\"\u001B[39m\u001B[38;5;124mdtype\u001B[39m\u001B[38;5;124m\"\u001B[39m, \u001B[38;5;28;01mNone\u001B[39;00m) \u001B[38;5;241m==\u001B[39m \u001B[38;5;28mobject\u001B[39m\n\u001B[0;32m    224\u001B[0m     ):\n\u001B[1;32m   (...)\u001B[0m\n\u001B[0;32m    227\u001B[0m         \u001B[38;5;66;03m# Don't do this for comparisons, as that will handle complex numbers\u001B[39;00m\n\u001B[0;32m    228\u001B[0m         \u001B[38;5;66;03m#  incorrectly, see GH#32047\u001B[39;00m\n",
      "\u001B[1;31mUFuncTypeError\u001B[0m: ufunc 'add' did not contain a loop with signature matching types (dtype('int64'), dtype('<U16')) -> None"
     ]
    }
   ],
   "source": [
    "# global variable for valid genres in spinitron \n",
    "GENRES = small['Genre'].unique().tolist()\n",
    "for g in range(len(GENRES)):\n",
    "    GENRES[g] = (str(GENRES[g])).lower()\n",
    "    \n",
    "# function to interface with Spotify Web API app (created with id and secret below) STILL WIP!\n",
    "def spotify_connect():\n",
    "    # technically insecure to have client secret displayed like this (environment variable)\n",
    "    CLIENT_ID = '344d3b062e344710a5bdb8427358a31d'\n",
    "    CLIENT_SECRET = '9f886dde51184f989b1aff4f5ffb21f8'\n",
    "    AUTH_URL = 'https://accounts.spotify.com/api/token'\n",
    "\n",
    "    auth_manager = SpotifyClientCredentials(\n",
    "        client_id=CLIENT_ID,\n",
    "        client_secret=CLIENT_SECRET,\n",
    "        requests_session=True)\n",
    "\n",
    "    sp = spotipy.Spotify(auth_manager=auth_manager)\n",
    "    # this is our connection which we will need for any future query \n",
    "    return sp\n",
    "    \n",
    "# just making this global for effeciency (no need to reaccess every time) \n",
    "sp = spotify_connect()\n",
    "\n",
    "def get_genre_by_artist(artist_name):\n",
    "    # spotify queries are all based on Spotify URI IDs and usually return in JSON\n",
    "    try:\n",
    "        results = sp.search(q='artist:' + artist_name, type='artist', limit=10)\n",
    "    except TypeError:\n",
    "        print(artist_name + \"unable to search\")\n",
    "        return 'NA'\n",
    "    # make sure that the result is for the artist we want\n",
    "    try: \n",
    "        result_name = results['artists']['items'][0]['name']\n",
    "    except IndexError:\n",
    "        result_name = ''\n",
    "        return 'NA'\n",
    "    i = 0\n",
    "    while (result_name != artist_name) & (i < 10) & (i < len(results)):\n",
    "        result_name = results['artists']['items'][i]['name']\n",
    "        i += 1\n",
    "    if (result_name == artist_name):\n",
    "        genres = results['artists']['items'][i]['genres'] # for top result (in this case accurate, but probably not always)\n",
    "        id = results['artists']['items'][i]['id']\n",
    "        for genre in genres:\n",
    "            if genre in GENRES:\n",
    "                return genre \n",
    "    return 'NA'\n",
    "\n",
    "print(len(small))\n",
    "print(small[\"Genre\"].isna().sum())\n",
    "\n",
    "small.loc[small[\"Genre\"].isna(), \"Genre\"] = small.loc[small[\"Genre\"].isna()].apply(get_genre_by_artist)\n",
    "\n",
    "print(small[\"Genre\"].isna().sum())\n"
   ]
  },
  {
   "cell_type": "code",
   "execution_count": null,
   "metadata": {},
   "outputs": [],
   "source": [
    "#### Feature Engineering: Checking Billboard Charts for Specific Songs "
   ]
  },
  {
   "cell_type": "code",
   "execution_count": 7,
   "metadata": {},
   "outputs": [
    {
     "name": "stdout",
     "output_type": "stream",
     "text": [
      "97305\n",
      "count     187382\n",
      "unique        20\n",
      "top         Rock\n",
      "freq       61335\n",
      "Name: Genre, dtype: object\n"
     ]
    },
    {
     "data": {
      "text/plain": [
       "'\\nfor r in range(len(df)):\\n    if df.loc[r][\"Genre\"] == \"nan\":\\n        df.loc[r][\"Genre\"] = get_genre_by_artists(token, df.loc[r][\"Artist\"])\\n        print(df.loc[r][\"Artist\"], df.loc[r][\"Genre\"])\\nprint(\\'done\\')\\nprint(df[\"Genre\"].isna().sum())\\n'"
      ]
     },
     "execution_count": 7,
     "metadata": {},
     "output_type": "execute_result"
    }
   ],
   "source": [
    "print(df[\"Genre\"].isna().sum())\n",
    "print(df[\"Genre\"].describe())"
   ]
  },
  {
   "cell_type": "markdown",
   "metadata": {},
   "source": [
    "#### Data Wrangling and Visualization"
   ]
  },
  {
   "cell_type": "code",
   "execution_count": 8,
   "metadata": {
    "ExecuteTime": {
     "end_time": "2024-04-09T14:26:43.444541700Z",
     "start_time": "2024-04-09T14:26:43.029179900Z"
    }
   },
   "outputs": [
    {
     "data": {
      "text/plain": [
       "<BarContainer object of 20 artists>"
      ]
     },
     "execution_count": 8,
     "metadata": {},
     "output_type": "execute_result"
    },
    {
     "data": {
      "image/png": "[encoded data removed]",
      "text/plain": [
       "<Figure size 640x480 with 1 Axes>"
      ]
     },
     "metadata": {},
     "output_type": "display_data"
    }
   ],
   "source": [
    "# Visualize genre distribution\n",
    "genre_counts = df[\"Genre\"].value_counts()\n",
    "plt.title(\"Genre Distribution\")\n",
    "plt.xlabel(\"Genre\")\n",
    "plt.ylabel(\"Count\")\n",
    "plt.xticks(rotation=90)\n",
    "plt.bar(genre_counts.index, genre_counts, color=plt.cm.Paired(np.arange(len(genre_counts))))\n",
    "\n",
    "# TODO: Combine genres\n"
   ]
  },
  {
   "cell_type": "code",
   "execution_count": 9,
   "metadata": {
    "ExecuteTime": {
     "end_time": "2024-04-09T14:26:47.229586Z",
     "start_time": "2024-04-09T14:26:47.019139400Z"
    }
   },
   "outputs": [
    {
     "data": {
      "text/plain": [
       "<Axes: >"
      ]
     },
     "execution_count": 9,
     "metadata": {},
     "output_type": "execute_result"
    },
    {
     "data": {
      "image/png": "[encoded data removed]",
      "text/plain": [
       "<Figure size 640x480 with 1 Axes>"
      ]
     },
     "metadata": {},
     "output_type": "display_data"
    }
   ],
   "source": [
    "# Visualize local and new distributions\n",
    "total_spins = df.shape[0]\n",
    "num_new = df[\"New\"].sum()\n",
    "num_local = df[\"Local\"].sum()\n",
    "new_and_local = pd.DataFrame({\"New\": [total_spins - num_new, num_new],\n",
    "                              \"Local\": [total_spins - num_local, num_local],\n",
    "                              \"Value\": [\"No\", \"Yes\"]}).set_index(\"Value\")\n",
    "new_and_local.T.plot.bar(stacked=True, rot=0)\n",
    "    "
   ]
  },
  {
   "cell_type": "code",
   "execution_count": 34,
   "metadata": {
    "ExecuteTime": {
     "end_time": "2024-04-14T03:56:52.661846200Z",
     "start_time": "2024-04-14T03:56:52.644302Z"
    }
   },
   "outputs": [
    {
     "name": "stderr",
     "output_type": "stream",
     "text": [
      "C:\\Users\\Zachary\\AppData\\Local\\Temp\\ipykernel_4148\\639479631.py:2: SettingWithCopyWarning: \n",
      "A value is trying to be set on a copy of a slice from a DataFrame.\n",
      "Try using .loc[row_indexer,col_indexer] = value instead\n",
      "\n",
      "See the caveats in the documentation: https://pandas.pydata.org/pandas-docs/stable/user_guide/indexing.html#returning-a-view-versus-a-copy\n",
      "  df[\"Top100\"] = np.random.randint(0, 1, df.shape[0])\n"
     ]
    }
   ],
   "source": [
    "# Temporary add (for work below), until the feature is properly created via scraping\n",
    "df[\"Top100\"] = np.random.randint(0, 1, df.shape[0])\n"
   ]
  },
  {
   "cell_type": "code",
   "execution_count": 36,
   "metadata": {
    "ExecuteTime": {
     "end_time": "2024-04-14T03:57:24.563489100Z",
     "start_time": "2024-04-14T03:57:19.749686400Z"
    }
   },
   "outputs": [
    {
     "name": "stderr",
     "output_type": "stream",
     "text": [
      "C:\\Users\\Zachary\\AppData\\Local\\Temp\\ipykernel_4148\\2484322641.py:17: SettingWithCopyWarning: \n",
      "A value is trying to be set on a copy of a slice from a DataFrame.\n",
      "Try using .loc[row_indexer,col_indexer] = value instead\n",
      "\n",
      "See the caveats in the documentation: https://pandas.pydata.org/pandas-docs/stable/user_guide/indexing.html#returning-a-view-versus-a-copy\n",
      "  eng_df[\"Time\"] = eng_df[\"Time\"].apply(lambda x: to_min(x))\n"
     ]
    },
    {
     "data": {
      "text/plain": "            DJ Name  Total_Spins    Avg_Start  Avg_Duration  Avg_Spins  Blues  \\\n0      Adam Higgins         1270    15.000000    129.448819  26.458333    2.0   \n1         Agent One          402   575.791667     81.343284  16.750000    0.0   \n2             Ava P         1676   960.160000    122.398568  33.520000    8.0   \n3         B. Stokes          621   948.526316    120.000000  32.684211    2.0   \n4         Babytooth          321     4.666667    163.551402  35.666667    0.0   \n..              ...          ...          ...           ...        ...    ...   \n237          lizard          640   944.181818    106.406250  19.393939    1.0   \n238        old greg           14   662.000000     60.000000  14.000000    0.0   \n239  otis cleveland         3866  1188.071856    127.853078  23.149701  153.0   \n240             syd          269   739.111111    120.000000  29.888889    1.0   \n241            vron          374   816.454545    115.026738  34.000000    7.0   \n\n     Classical  Country  Electro  Electronic  ...  R & B  R&B  R&B/Soul  \\\n0        319.0      2.0      0.0       620.0  ...    0.0  0.0      77.0   \n1          0.0      3.0      0.0        10.0  ...    0.0  0.0      10.0   \n2          1.0     11.0      1.0        45.0  ...    0.0  1.0      14.0   \n3          0.0    243.0      0.0         1.0  ...    0.0  1.0       6.0   \n4          1.0      1.0      1.0        27.0  ...    0.0  0.0       8.0   \n..         ...      ...      ...         ...  ...    ...  ...       ...   \n237        2.0      6.0      1.0        19.0  ...    0.0  4.0      27.0   \n238        0.0      0.0      0.0         1.0  ...    0.0  0.0       0.0   \n239      204.0     86.0      2.0        98.0  ...    0.0  3.0     126.0   \n240        0.0      0.0      0.0        16.0  ...    0.0  0.0      66.0   \n241        1.0      1.0      2.0         5.0  ...    0.0  0.0      78.0   \n\n     R&B/Soul/Funk  Rap/Hip Hop  Reggae  Reggaeton   Rock  World  Violations  \n0              0.0          0.0     0.0        0.0   42.0    6.0           3  \n1              0.0          0.0     0.0        0.0  250.0    5.0          12  \n2              0.0          0.0     5.0        0.0  644.0   12.0          50  \n3              0.0          0.0     3.0        0.0   94.0   52.0          19  \n4              0.0          0.0     3.0        0.0   66.0    3.0           6  \n..             ...          ...     ...        ...    ...    ...         ...  \n237            0.0          0.0     7.0        0.0  160.0    8.0          33  \n238            0.0          0.0     0.0        0.0   12.0    0.0           1  \n239            0.0          0.0    27.0        0.0  469.0  346.0         150  \n240            0.0          0.0     0.0        0.0  135.0    2.0           4  \n241            2.0          0.0    24.0        0.0   30.0   14.0          11  \n\n[242 rows x 26 columns]",
      "text/html": "<div>\n<style scoped>\n    .dataframe tbody tr th:only-of-type {\n        vertical-align: middle;\n    }\n\n    .dataframe tbody tr th {\n        vertical-align: top;\n    }\n\n    .dataframe thead th {\n        text-align: right;\n    }\n</style>\n<table border=\"1\" class=\"dataframe\">\n  <thead>\n    <tr style=\"text-align: right;\">\n      <th></th>\n      <th>DJ Name</th>\n      <th>Total_Spins</th>\n      <th>Avg_Start</th>\n      <th>Avg_Duration</th>\n      <th>Avg_Spins</th>\n      <th>Blues</th>\n      <th>Classical</th>\n      <th>Country</th>\n      <th>Electro</th>\n      <th>Electronic</th>\n      <th>...</th>\n      <th>R &amp; B</th>\n      <th>R&amp;B</th>\n      <th>R&amp;B/Soul</th>\n      <th>R&amp;B/Soul/Funk</th>\n      <th>Rap/Hip Hop</th>\n      <th>Reggae</th>\n      <th>Reggaeton</th>\n      <th>Rock</th>\n      <th>World</th>\n      <th>Violations</th>\n    </tr>\n  </thead>\n  <tbody>\n    <tr>\n      <th>0</th>\n      <td>Adam Higgins</td>\n      <td>1270</td>\n      <td>15.000000</td>\n      <td>129.448819</td>\n      <td>26.458333</td>\n      <td>2.0</td>\n      <td>319.0</td>\n      <td>2.0</td>\n      <td>0.0</td>\n      <td>620.0</td>\n      <td>...</td>\n      <td>0.0</td>\n      <td>0.0</td>\n      <td>77.0</td>\n      <td>0.0</td>\n      <td>0.0</td>\n      <td>0.0</td>\n      <td>0.0</td>\n      <td>42.0</td>\n      <td>6.0</td>\n      <td>3</td>\n    </tr>\n    <tr>\n      <th>1</th>\n      <td>Agent One</td>\n      <td>402</td>\n      <td>575.791667</td>\n      <td>81.343284</td>\n      <td>16.750000</td>\n      <td>0.0</td>\n      <td>0.0</td>\n      <td>3.0</td>\n      <td>0.0</td>\n      <td>10.0</td>\n      <td>...</td>\n      <td>0.0</td>\n      <td>0.0</td>\n      <td>10.0</td>\n      <td>0.0</td>\n      <td>0.0</td>\n      <td>0.0</td>\n      <td>0.0</td>\n      <td>250.0</td>\n      <td>5.0</td>\n      <td>12</td>\n    </tr>\n    <tr>\n      <th>2</th>\n      <td>Ava P</td>\n      <td>1676</td>\n      <td>960.160000</td>\n      <td>122.398568</td>\n      <td>33.520000</td>\n      <td>8.0</td>\n      <td>1.0</td>\n      <td>11.0</td>\n      <td>1.0</td>\n      <td>45.0</td>\n      <td>...</td>\n      <td>0.0</td>\n      <td>1.0</td>\n      <td>14.0</td>\n      <td>0.0</td>\n      <td>0.0</td>\n      <td>5.0</td>\n      <td>0.0</td>\n      <td>644.0</td>\n      <td>12.0</td>\n      <td>50</td>\n    </tr>\n    <tr>\n      <th>3</th>\n      <td>B. Stokes</td>\n      <td>621</td>\n      <td>948.526316</td>\n      <td>120.000000</td>\n      <td>32.684211</td>\n      <td>2.0</td>\n      <td>0.0</td>\n      <td>243.0</td>\n      <td>0.0</td>\n      <td>1.0</td>\n      <td>...</td>\n      <td>0.0</td>\n      <td>1.0</td>\n      <td>6.0</td>\n      <td>0.0</td>\n      <td>0.0</td>\n      <td>3.0</td>\n      <td>0.0</td>\n      <td>94.0</td>\n      <td>52.0</td>\n      <td>19</td>\n    </tr>\n    <tr>\n      <th>4</th>\n      <td>Babytooth</td>\n      <td>321</td>\n      <td>4.666667</td>\n      <td>163.551402</td>\n      <td>35.666667</td>\n      <td>0.0</td>\n      <td>1.0</td>\n      <td>1.0</td>\n      <td>1.0</td>\n      <td>27.0</td>\n      <td>...</td>\n      <td>0.0</td>\n      <td>0.0</td>\n      <td>8.0</td>\n      <td>0.0</td>\n      <td>0.0</td>\n      <td>3.0</td>\n      <td>0.0</td>\n      <td>66.0</td>\n      <td>3.0</td>\n      <td>6</td>\n    </tr>\n    <tr>\n      <th>...</th>\n      <td>...</td>\n      <td>...</td>\n      <td>...</td>\n      <td>...</td>\n      <td>...</td>\n      <td>...</td>\n      <td>...</td>\n      <td>...</td>\n      <td>...</td>\n      <td>...</td>\n      <td>...</td>\n      <td>...</td>\n      <td>...</td>\n      <td>...</td>\n      <td>...</td>\n      <td>...</td>\n      <td>...</td>\n      <td>...</td>\n      <td>...</td>\n      <td>...</td>\n      <td>...</td>\n    </tr>\n    <tr>\n      <th>237</th>\n      <td>lizard</td>\n      <td>640</td>\n      <td>944.181818</td>\n      <td>106.406250</td>\n      <td>19.393939</td>\n      <td>1.0</td>\n      <td>2.0</td>\n      <td>6.0</td>\n      <td>1.0</td>\n      <td>19.0</td>\n      <td>...</td>\n      <td>0.0</td>\n      <td>4.0</td>\n      <td>27.0</td>\n      <td>0.0</td>\n      <td>0.0</td>\n      <td>7.0</td>\n      <td>0.0</td>\n      <td>160.0</td>\n      <td>8.0</td>\n      <td>33</td>\n    </tr>\n    <tr>\n      <th>238</th>\n      <td>old greg</td>\n      <td>14</td>\n      <td>662.000000</td>\n      <td>60.000000</td>\n      <td>14.000000</td>\n      <td>0.0</td>\n      <td>0.0</td>\n      <td>0.0</td>\n      <td>0.0</td>\n      <td>1.0</td>\n      <td>...</td>\n      <td>0.0</td>\n      <td>0.0</td>\n      <td>0.0</td>\n      <td>0.0</td>\n      <td>0.0</td>\n      <td>0.0</td>\n      <td>0.0</td>\n      <td>12.0</td>\n      <td>0.0</td>\n      <td>1</td>\n    </tr>\n    <tr>\n      <th>239</th>\n      <td>otis cleveland</td>\n      <td>3866</td>\n      <td>1188.071856</td>\n      <td>127.853078</td>\n      <td>23.149701</td>\n      <td>153.0</td>\n      <td>204.0</td>\n      <td>86.0</td>\n      <td>2.0</td>\n      <td>98.0</td>\n      <td>...</td>\n      <td>0.0</td>\n      <td>3.0</td>\n      <td>126.0</td>\n      <td>0.0</td>\n      <td>0.0</td>\n      <td>27.0</td>\n      <td>0.0</td>\n      <td>469.0</td>\n      <td>346.0</td>\n      <td>150</td>\n    </tr>\n    <tr>\n      <th>240</th>\n      <td>syd</td>\n      <td>269</td>\n      <td>739.111111</td>\n      <td>120.000000</td>\n      <td>29.888889</td>\n      <td>1.0</td>\n      <td>0.0</td>\n      <td>0.0</td>\n      <td>0.0</td>\n      <td>16.0</td>\n      <td>...</td>\n      <td>0.0</td>\n      <td>0.0</td>\n      <td>66.0</td>\n      <td>0.0</td>\n      <td>0.0</td>\n      <td>0.0</td>\n      <td>0.0</td>\n      <td>135.0</td>\n      <td>2.0</td>\n      <td>4</td>\n    </tr>\n    <tr>\n      <th>241</th>\n      <td>vron</td>\n      <td>374</td>\n      <td>816.454545</td>\n      <td>115.026738</td>\n      <td>34.000000</td>\n      <td>7.0</td>\n      <td>1.0</td>\n      <td>1.0</td>\n      <td>2.0</td>\n      <td>5.0</td>\n      <td>...</td>\n      <td>0.0</td>\n      <td>0.0</td>\n      <td>78.0</td>\n      <td>2.0</td>\n      <td>0.0</td>\n      <td>24.0</td>\n      <td>0.0</td>\n      <td>30.0</td>\n      <td>14.0</td>\n      <td>11</td>\n    </tr>\n  </tbody>\n</table>\n<p>242 rows × 26 columns</p>\n</div>"
     },
     "execution_count": 36,
     "metadata": {},
     "output_type": "execute_result"
    }
   ],
   "source": [
    "def spins_to_dj(spin_df: pd.DataFrame):\n",
    "    \"\"\"\n",
    "    df - a pandas DataFrame of Spinitron spin records\n",
    "    Returns: a dataframe in dj format\n",
    "    \"\"\"\n",
    "    # Begin a dataframe, where each row is indentified by dj name\n",
    "    dj_df = spin_df.groupby([\"DJ Name\"]).count().reset_index()\n",
    "    dj_df = dj_df[[\"DJ Name\", \"Playlist Title\"]].rename(columns={\"Playlist Title\": \"Total_Spins\"})\n",
    "\n",
    "    # Engineered Features: avg time of day (start time), avg duration, average # spins\n",
    "    eng_df = spin_df[[\"DJ Name\", \"Playlist Title\", \"Playlist Duration\", \"Date\", \"Time\"]]\n",
    "\n",
    "    pattern = \"%I:%M:%S %p\"\n",
    "    def to_min(x):\n",
    "        time_extracted = datetime.strptime(x, pattern)\n",
    "        return time_extracted.hour*60 + time_extracted.minute\n",
    "    eng_df[\"Time\"] = eng_df[\"Time\"].apply(lambda x: to_min(x))\n",
    "    start_times_df = eng_df.groupby([\"DJ Name\", \"Date\"]).min().reset_index()\n",
    "    dj_df[\"Avg_Start\"] = start_times_df[[\"DJ Name\", \"Time\"]].groupby(\"DJ Name\").mean().reset_index()[\"Time\"]\n",
    "\n",
    "    duration_df = eng_df[[\"DJ Name\", \"Playlist Duration\"]]\n",
    "    dj_df[\"Avg_Duration\"] = duration_df.groupby(\"DJ Name\").mean().reset_index()[\"Playlist Duration\"]\n",
    "\n",
    "    one_day_spin_count_df = spin_df.groupby([\"DJ Name\", \"Date\"]).count().reset_index()\n",
    "    avg_spin_df = one_day_spin_count_df[[\"DJ Name\", \"Playlist Title\"]].groupby(\"DJ Name\").mean().reset_index()\n",
    "    dj_df[\"Avg_Spins\"] = avg_spin_df[\"Playlist Title\"]\n",
    "\n",
    "    # Populate genre count features\n",
    "    genre_df = spin_df.dropna(subset=[\"Genre\"]) # Temporary, until genre is filled completely\n",
    "    genre_df = genre_df.groupby([\"DJ Name\", \"Genre\"]).count().reset_index()\n",
    "    genre_df = genre_df[[\"DJ Name\", \"Genre\", \"Playlist Title\"]].rename(columns={\"Playlist Title\": \"genre_count\"})\n",
    "    genre_df = genre_df.pivot(index=\"DJ Name\", columns=\"Genre\", values=\"genre_count\").fillna(0).reset_index()\n",
    "    genre_df = genre_df.rename_axis(None, axis=1)\n",
    "    dj_df = pd.merge(dj_df, genre_df, on=\"DJ Name\", how='inner')\n",
    "\n",
    "    # Count new music policy violations\n",
    "    one_day_new_df = spin_df[[\"DJ Name\", \"Date\", \"New\"]].groupby([\"DJ Name\", \"Date\"]).sum().reset_index()\n",
    "    one_day_spin_count_df = one_day_spin_count_df[[\"DJ Name\", \"Date\", \"Playlist Title\"]]\n",
    "    one_day_spin_count_df = one_day_spin_count_df.rename(columns={\"Playlist Title\": \"show_spins\"})\n",
    "    joined_new_df = pd.merge(one_day_new_df, one_day_spin_count_df, on=[\"DJ Name\", \"Date\"], how='inner')\n",
    "    joined_new_df[\"new_percent\"] = joined_new_df[\"New\"] / joined_new_df[\"show_spins\"]\n",
    "    joined_new_df[\"new_violations\"] = (joined_new_df[\"new_percent\"] < 0.25).astype(int)\n",
    "    grouped_new_df = joined_new_df[[\"DJ Name\", \"new_violations\"]].groupby(\"DJ Name\").sum().reset_index()\n",
    "    dj_df = pd.merge(dj_df, grouped_new_df, on=\"DJ Name\", how='inner')\n",
    "\n",
    "    # Count popular artist policy violations\n",
    "    dj_df[\"top_violations\"] = spin_df[[\"DJ Name\", \"Top100\"]].groupby([\"DJ Name\"]).sum().reset_index()[\"Top100\"]\n",
    "\n",
    "    # Calculate policy violation feature\n",
    "    dj_df[\"Violations\"] = dj_df[\"new_violations\"] + dj_df[\"top_violations\"]\n",
    "    dj_df = dj_df.drop(columns=[\"new_violations\", \"top_violations\"])\n",
    "\n",
    "    return dj_df\n",
    "\n",
    "djs_df = spins_to_dj(spin_df=df)\n",
    "djs_df"
   ]
  },
  {
   "cell_type": "code",
   "execution_count": 121,
   "metadata": {},
   "outputs": [
    {
     "data": {
      "text/html": [
       "<div>\n",
       "<style scoped>\n",
       "    .dataframe tbody tr th:only-of-type {\n",
       "        vertical-align: middle;\n",
       "    }\n",
       "\n",
       "    .dataframe tbody tr th {\n",
       "        vertical-align: top;\n",
       "    }\n",
       "\n",
       "    .dataframe thead th {\n",
       "        text-align: right;\n",
       "    }\n",
       "</style>\n",
       "<table border=\"1\" class=\"dataframe\">\n",
       "  <thead>\n",
       "    <tr style=\"text-align: right;\">\n",
       "      <th></th>\n",
       "      <th>DJ Name</th>\n",
       "      <th>Date</th>\n",
       "      <th>New</th>\n",
       "      <th>Total_Spins</th>\n",
       "      <th>0</th>\n",
       "      <th>Blues</th>\n",
       "      <th>Classical</th>\n",
       "      <th>Country</th>\n",
       "      <th>Electro</th>\n",
       "      <th>Electronic</th>\n",
       "      <th>...</th>\n",
       "      <th>Reggaeton</th>\n",
       "      <th>Rock</th>\n",
       "      <th>World</th>\n",
       "      <th>new_percent</th>\n",
       "      <th>new_violations</th>\n",
       "      <th>artist_bb</th>\n",
       "      <th>artist_violations</th>\n",
       "      <th>popular_violations</th>\n",
       "      <th>song_violations</th>\n",
       "      <th>Violations</th>\n",
       "    </tr>\n",
       "  </thead>\n",
       "  <tbody>\n",
       "    <tr>\n",
       "      <th>0</th>\n",
       "      <td>Adam Higgins</td>\n",
       "      <td>2024-01-05</td>\n",
       "      <td>7</td>\n",
       "      <td>22</td>\n",
       "      <td>1.0</td>\n",
       "      <td>0.0</td>\n",
       "      <td>5.0</td>\n",
       "      <td>0.0</td>\n",
       "      <td>0.0</td>\n",
       "      <td>14.0</td>\n",
       "      <td>...</td>\n",
       "      <td>0.0</td>\n",
       "      <td>0.0</td>\n",
       "      <td>0.0</td>\n",
       "      <td>0.318182</td>\n",
       "      <td>0</td>\n",
       "      <td>0.0</td>\n",
       "      <td>0.000000</td>\n",
       "      <td>0</td>\n",
       "      <td>0.0</td>\n",
       "      <td>0.0</td>\n",
       "    </tr>\n",
       "    <tr>\n",
       "      <th>1</th>\n",
       "      <td>Adam Higgins</td>\n",
       "      <td>2024-01-12</td>\n",
       "      <td>8</td>\n",
       "      <td>24</td>\n",
       "      <td>1.0</td>\n",
       "      <td>0.0</td>\n",
       "      <td>8.0</td>\n",
       "      <td>0.0</td>\n",
       "      <td>0.0</td>\n",
       "      <td>8.0</td>\n",
       "      <td>...</td>\n",
       "      <td>0.0</td>\n",
       "      <td>0.0</td>\n",
       "      <td>0.0</td>\n",
       "      <td>0.333333</td>\n",
       "      <td>0</td>\n",
       "      <td>1.0</td>\n",
       "      <td>0.041667</td>\n",
       "      <td>0</td>\n",
       "      <td>0.0</td>\n",
       "      <td>0.0</td>\n",
       "    </tr>\n",
       "    <tr>\n",
       "      <th>2</th>\n",
       "      <td>Agent One</td>\n",
       "      <td>2024-01-03</td>\n",
       "      <td>0</td>\n",
       "      <td>14</td>\n",
       "      <td>8.0</td>\n",
       "      <td>0.0</td>\n",
       "      <td>0.0</td>\n",
       "      <td>0.0</td>\n",
       "      <td>0.0</td>\n",
       "      <td>2.0</td>\n",
       "      <td>...</td>\n",
       "      <td>0.0</td>\n",
       "      <td>1.0</td>\n",
       "      <td>0.0</td>\n",
       "      <td>0.000000</td>\n",
       "      <td>1</td>\n",
       "      <td>7.0</td>\n",
       "      <td>0.500000</td>\n",
       "      <td>1</td>\n",
       "      <td>0.0</td>\n",
       "      <td>2.0</td>\n",
       "    </tr>\n",
       "    <tr>\n",
       "      <th>3</th>\n",
       "      <td>Agent One</td>\n",
       "      <td>2024-01-10</td>\n",
       "      <td>0</td>\n",
       "      <td>13</td>\n",
       "      <td>8.0</td>\n",
       "      <td>0.0</td>\n",
       "      <td>0.0</td>\n",
       "      <td>0.0</td>\n",
       "      <td>0.0</td>\n",
       "      <td>1.0</td>\n",
       "      <td>...</td>\n",
       "      <td>0.0</td>\n",
       "      <td>1.0</td>\n",
       "      <td>1.0</td>\n",
       "      <td>0.000000</td>\n",
       "      <td>1</td>\n",
       "      <td>0.0</td>\n",
       "      <td>0.000000</td>\n",
       "      <td>0</td>\n",
       "      <td>0.0</td>\n",
       "      <td>1.0</td>\n",
       "    </tr>\n",
       "    <tr>\n",
       "      <th>4</th>\n",
       "      <td>Ava P</td>\n",
       "      <td>2024-01-02</td>\n",
       "      <td>0</td>\n",
       "      <td>29</td>\n",
       "      <td>8.0</td>\n",
       "      <td>0.0</td>\n",
       "      <td>0.0</td>\n",
       "      <td>0.0</td>\n",
       "      <td>0.0</td>\n",
       "      <td>2.0</td>\n",
       "      <td>...</td>\n",
       "      <td>0.0</td>\n",
       "      <td>5.0</td>\n",
       "      <td>0.0</td>\n",
       "      <td>0.000000</td>\n",
       "      <td>1</td>\n",
       "      <td>1.0</td>\n",
       "      <td>0.034483</td>\n",
       "      <td>0</td>\n",
       "      <td>0.0</td>\n",
       "      <td>1.0</td>\n",
       "    </tr>\n",
       "    <tr>\n",
       "      <th>...</th>\n",
       "      <td>...</td>\n",
       "      <td>...</td>\n",
       "      <td>...</td>\n",
       "      <td>...</td>\n",
       "      <td>...</td>\n",
       "      <td>...</td>\n",
       "      <td>...</td>\n",
       "      <td>...</td>\n",
       "      <td>...</td>\n",
       "      <td>...</td>\n",
       "      <td>...</td>\n",
       "      <td>...</td>\n",
       "      <td>...</td>\n",
       "      <td>...</td>\n",
       "      <td>...</td>\n",
       "      <td>...</td>\n",
       "      <td>...</td>\n",
       "      <td>...</td>\n",
       "      <td>...</td>\n",
       "      <td>...</td>\n",
       "      <td>...</td>\n",
       "    </tr>\n",
       "    <tr>\n",
       "      <th>155</th>\n",
       "      <td>glumbus</td>\n",
       "      <td>2024-01-06</td>\n",
       "      <td>0</td>\n",
       "      <td>28</td>\n",
       "      <td>18.0</td>\n",
       "      <td>0.0</td>\n",
       "      <td>0.0</td>\n",
       "      <td>1.0</td>\n",
       "      <td>0.0</td>\n",
       "      <td>1.0</td>\n",
       "      <td>...</td>\n",
       "      <td>0.0</td>\n",
       "      <td>1.0</td>\n",
       "      <td>0.0</td>\n",
       "      <td>0.000000</td>\n",
       "      <td>1</td>\n",
       "      <td>0.0</td>\n",
       "      <td>0.000000</td>\n",
       "      <td>0</td>\n",
       "      <td>0.0</td>\n",
       "      <td>0.0</td>\n",
       "    </tr>\n",
       "    <tr>\n",
       "      <th>156</th>\n",
       "      <td>glumbus</td>\n",
       "      <td>2024-01-13</td>\n",
       "      <td>0</td>\n",
       "      <td>20</td>\n",
       "      <td>9.0</td>\n",
       "      <td>1.0</td>\n",
       "      <td>0.0</td>\n",
       "      <td>0.0</td>\n",
       "      <td>0.0</td>\n",
       "      <td>1.0</td>\n",
       "      <td>...</td>\n",
       "      <td>0.0</td>\n",
       "      <td>2.0</td>\n",
       "      <td>1.0</td>\n",
       "      <td>0.000000</td>\n",
       "      <td>1</td>\n",
       "      <td>0.0</td>\n",
       "      <td>0.000000</td>\n",
       "      <td>0</td>\n",
       "      <td>0.0</td>\n",
       "      <td>0.0</td>\n",
       "    </tr>\n",
       "    <tr>\n",
       "      <th>157</th>\n",
       "      <td>otis cleveland</td>\n",
       "      <td>2024-01-02</td>\n",
       "      <td>0</td>\n",
       "      <td>34</td>\n",
       "      <td>7.0</td>\n",
       "      <td>0.0</td>\n",
       "      <td>2.0</td>\n",
       "      <td>1.0</td>\n",
       "      <td>0.0</td>\n",
       "      <td>0.0</td>\n",
       "      <td>...</td>\n",
       "      <td>0.0</td>\n",
       "      <td>4.0</td>\n",
       "      <td>2.0</td>\n",
       "      <td>0.000000</td>\n",
       "      <td>1</td>\n",
       "      <td>0.0</td>\n",
       "      <td>0.000000</td>\n",
       "      <td>0</td>\n",
       "      <td>0.0</td>\n",
       "      <td>0.0</td>\n",
       "    </tr>\n",
       "    <tr>\n",
       "      <th>158</th>\n",
       "      <td>otis cleveland</td>\n",
       "      <td>2024-01-09</td>\n",
       "      <td>0</td>\n",
       "      <td>37</td>\n",
       "      <td>10.0</td>\n",
       "      <td>4.0</td>\n",
       "      <td>0.0</td>\n",
       "      <td>1.0</td>\n",
       "      <td>0.0</td>\n",
       "      <td>1.0</td>\n",
       "      <td>...</td>\n",
       "      <td>0.0</td>\n",
       "      <td>4.0</td>\n",
       "      <td>2.0</td>\n",
       "      <td>0.000000</td>\n",
       "      <td>1</td>\n",
       "      <td>0.0</td>\n",
       "      <td>0.000000</td>\n",
       "      <td>0</td>\n",
       "      <td>0.0</td>\n",
       "      <td>0.0</td>\n",
       "    </tr>\n",
       "    <tr>\n",
       "      <th>159</th>\n",
       "      <td>otis cleveland</td>\n",
       "      <td>2024-01-16</td>\n",
       "      <td>0</td>\n",
       "      <td>21</td>\n",
       "      <td>9.0</td>\n",
       "      <td>0.0</td>\n",
       "      <td>2.0</td>\n",
       "      <td>1.0</td>\n",
       "      <td>0.0</td>\n",
       "      <td>0.0</td>\n",
       "      <td>...</td>\n",
       "      <td>0.0</td>\n",
       "      <td>1.0</td>\n",
       "      <td>1.0</td>\n",
       "      <td>0.000000</td>\n",
       "      <td>1</td>\n",
       "      <td>0.0</td>\n",
       "      <td>0.000000</td>\n",
       "      <td>0</td>\n",
       "      <td>0.0</td>\n",
       "      <td>0.0</td>\n",
       "    </tr>\n",
       "  </tbody>\n",
       "</table>\n",
       "<p>160 rows × 30 columns</p>\n",
       "</div>"
      ],
      "text/plain": [
       "            DJ Name       Date  New  Total_Spins     0  Blues  Classical  \\\n",
       "0      Adam Higgins 2024-01-05    7           22   1.0    0.0        5.0   \n",
       "1      Adam Higgins 2024-01-12    8           24   1.0    0.0        8.0   \n",
       "2         Agent One 2024-01-03    0           14   8.0    0.0        0.0   \n",
       "3         Agent One 2024-01-10    0           13   8.0    0.0        0.0   \n",
       "4             Ava P 2024-01-02    0           29   8.0    0.0        0.0   \n",
       "..              ...        ...  ...          ...   ...    ...        ...   \n",
       "155         glumbus 2024-01-06    0           28  18.0    0.0        0.0   \n",
       "156         glumbus 2024-01-13    0           20   9.0    1.0        0.0   \n",
       "157  otis cleveland 2024-01-02    0           34   7.0    0.0        2.0   \n",
       "158  otis cleveland 2024-01-09    0           37  10.0    4.0        0.0   \n",
       "159  otis cleveland 2024-01-16    0           21   9.0    0.0        2.0   \n",
       "\n",
       "     Country  Electro  Electronic  ...  Reggaeton  Rock  World  new_percent  \\\n",
       "0        0.0      0.0        14.0  ...        0.0   0.0    0.0     0.318182   \n",
       "1        0.0      0.0         8.0  ...        0.0   0.0    0.0     0.333333   \n",
       "2        0.0      0.0         2.0  ...        0.0   1.0    0.0     0.000000   \n",
       "3        0.0      0.0         1.0  ...        0.0   1.0    1.0     0.000000   \n",
       "4        0.0      0.0         2.0  ...        0.0   5.0    0.0     0.000000   \n",
       "..       ...      ...         ...  ...        ...   ...    ...          ...   \n",
       "155      1.0      0.0         1.0  ...        0.0   1.0    0.0     0.000000   \n",
       "156      0.0      0.0         1.0  ...        0.0   2.0    1.0     0.000000   \n",
       "157      1.0      0.0         0.0  ...        0.0   4.0    2.0     0.000000   \n",
       "158      1.0      0.0         1.0  ...        0.0   4.0    2.0     0.000000   \n",
       "159      1.0      0.0         0.0  ...        0.0   1.0    1.0     0.000000   \n",
       "\n",
       "     new_violations  artist_bb  artist_violations  popular_violations  \\\n",
       "0                 0        0.0           0.000000                   0   \n",
       "1                 0        1.0           0.041667                   0   \n",
       "2                 1        7.0           0.500000                   1   \n",
       "3                 1        0.0           0.000000                   0   \n",
       "4                 1        1.0           0.034483                   0   \n",
       "..              ...        ...                ...                 ...   \n",
       "155               1        0.0           0.000000                   0   \n",
       "156               1        0.0           0.000000                   0   \n",
       "157               1        0.0           0.000000                   0   \n",
       "158               1        0.0           0.000000                   0   \n",
       "159               1        0.0           0.000000                   0   \n",
       "\n",
       "     song_violations  Violations  \n",
       "0                0.0         0.0  \n",
       "1                0.0         0.0  \n",
       "2                0.0         2.0  \n",
       "3                0.0         1.0  \n",
       "4                0.0         1.0  \n",
       "..               ...         ...  \n",
       "155              0.0         0.0  \n",
       "156              0.0         0.0  \n",
       "157              0.0         0.0  \n",
       "158              0.0         0.0  \n",
       "159              0.0         0.0  \n",
       "\n",
       "[160 rows x 30 columns]"
      ]
     },
     "execution_count": 121,
     "metadata": {},
     "output_type": "execute_result"
    }
   ],
   "source": [
    "def spins_to_shows(spin_df: pd.DataFrame):\n",
    "    \"\"\"\n",
    "    df - a pandas DataFrame of Spinitron spin records\n",
    "    Returns: a dataframe in spin format\n",
    "    \"\"\"\n",
    "    \n",
    "    dj_df = spin_df.groupby([\"DJ Name\", \"Date\"]).count().reset_index()\n",
    "    dj_df = dj_df[[\"DJ Name\", \"Date\", \"Playlist Title\"]].rename(columns={\"Playlist Title\": \"Total_Spins\"})\n",
    "\n",
    "    one_day_new_df = spin_df[[\"DJ Name\", \"Date\", \"New\"]].groupby([\"DJ Name\", \"Date\"]).sum().reset_index()\n",
    "    dj_df = pd.merge(one_day_new_df, dj_df, on=[\"DJ Name\", \"Date\"], how='outer')\n",
    "\n",
    "    # Populate genre count features\n",
    "    genre_df = spin_df.dropna(subset=[\"Genre\"]) # Temporary, until genre is filled completely\n",
    "    genre_df = genre_df.groupby([\"DJ Name\", \"Date\", \"Genre\"]).count().reset_index()\n",
    "    genre_df = genre_df[[\"DJ Name\", \"Genre\", \"Playlist Title\", \"Date\"]].rename(columns={\"Playlist Title\": \"genre_count\"})\n",
    "    genre_df = genre_df.pivot(index=[\"DJ Name\", \"Date\"], columns=\"Genre\", values=\"genre_count\").fillna(0).reset_index()\n",
    "    genre_df = genre_df.rename_axis(None, axis=1)\n",
    "    dj_df = pd.merge(dj_df, genre_df, on=[\"DJ Name\", \"Date\"], how='outer')\n",
    "\n",
    "    dj_df[\"new_percent\"] = dj_df[\"New\"] / dj_df[\"Total_Spins\"]\n",
    "    dj_df[\"new_violations\"] = (dj_df[\"new_percent\"] < 0.25).astype(int)\n",
    "\n",
    "    # Count popular artist policy violations\n",
    "    dj_df[\"artist_bb\"] = spin_df[[\"DJ Name\", \"artistBB\"]].groupby([\"DJ Name\"]).sum().reset_index()[\"artistBB\"]\n",
    "    dj_df[\"artist_violations\"] = dj_df[\"artist_bb\"] / dj_df[\"Total_Spins\"]\n",
    "    dj_df[\"popular_violations\"] = (dj_df[\"artist_violations\"] > 0.2).astype(int)\n",
    "    \n",
    "\n",
    "    dj_df[\"song_violations\"] = spin_df[[\"DJ Name\", \"songBB\"]].groupby([\"DJ Name\"]).sum().reset_index()[\"songBB\"]\n",
    "\n",
    "    # Calculate policy violation feature\n",
    "    dj_df[\"Violations\"] = dj_df[\"new_violations\"] + dj_df[\"popular_violations\"] + dj_df[\"song_violations\"]\n",
    "\n",
    "    \n",
    "    return dj_df\n",
    "\n",
    "\n",
    "small_djs = spins_to_shows(spin_df=small)\n",
    "small_djs.fillna(0, inplace= True)\n",
    "small_djs\n",
    "\n",
    "# TODO: address the NaNs in data (should be 0s)"
   ]
  },
  {
   "cell_type": "markdown",
   "metadata": {},
   "source": [
    "## Data Modeling"
   ]
  },
  {
   "cell_type": "markdown",
   "metadata": {},
   "source": [
    "#### Policy Violation Linear Regression"
   ]
  },
  {
   "cell_type": "code",
   "execution_count": 126,
   "metadata": {},
   "outputs": [
    {
     "data": {
      "text/plain": [
       "Index([           'DJ Name',               'Date',                'New',\n",
       "              'Total_Spins',                    0,              'Blues',\n",
       "                'Classical',            'Country',            'Electro',\n",
       "               'Electronic',       'Experimental',               'Folk',\n",
       "              'Heavy Metal',        'Hip Hop/Rap',               'Jazz',\n",
       "                    'R & B',                'R&B',           'R&B/Soul',\n",
       "            'R&B/Soul/Funk',             'Reggae',          'Reggaeton',\n",
       "                     'Rock',              'World',        'new_percent',\n",
       "           'new_violations',          'artist_bb',  'artist_violations',\n",
       "       'popular_violations',    'song_violations',         'Violations'],\n",
       "      dtype='object')"
      ]
     },
     "execution_count": 126,
     "metadata": {},
     "output_type": "execute_result"
    }
   ],
   "source": [
    "from sklearn import datasets, linear_model\n",
    "from sklearn.metrics import mean_squared_error, r2_score \n",
    "import datetime \n",
    "small_djs.columns "
   ]
  },
  {
   "cell_type": "code",
   "execution_count": 127,
   "metadata": {},
   "outputs": [
    {
     "ename": "TypeError",
     "evalue": "Feature names are only supported if all input features have string names, but your input has ['int', 'str'] as feature name / column name types. If you want feature names to be stored and validated, you must convert them all to strings, by using X.columns = X.columns.astype(str) for example. Otherwise you can remove feature / column names from your input data, or convert them all to a non-string data type.",
     "output_type": "error",
     "traceback": [
      "\u001B[1;31m---------------------------------------------------------------------------\u001B[0m",
      "\u001B[1;31mTypeError\u001B[0m                                 Traceback (most recent call last)",
      "Cell \u001B[1;32mIn[127], line 17\u001B[0m\n\u001B[0;32m     14\u001B[0m small_djs_Y_test \u001B[38;5;241m=\u001B[39m small_djs_Y[\u001B[38;5;241m-\u001B[39m\u001B[38;5;241m20\u001B[39m:]\n\u001B[0;32m     16\u001B[0m regr \u001B[38;5;241m=\u001B[39m linear_model\u001B[38;5;241m.\u001B[39mLinearRegression()\n\u001B[1;32m---> 17\u001B[0m \u001B[43mregr\u001B[49m\u001B[38;5;241;43m.\u001B[39;49m\u001B[43mfit\u001B[49m\u001B[43m(\u001B[49m\u001B[43msmall_djs_X_train\u001B[49m\u001B[43m,\u001B[49m\u001B[43m \u001B[49m\u001B[43msmall_djs_Y_train\u001B[49m\u001B[43m)\u001B[49m\n\u001B[0;32m     18\u001B[0m small_djs_Y_pred \u001B[38;5;241m=\u001B[39m regr\u001B[38;5;241m.\u001B[39mpredict(small_djs_X_test)\n\u001B[0;32m     19\u001B[0m \u001B[38;5;28mprint\u001B[39m(\u001B[38;5;124m\"\u001B[39m\u001B[38;5;124mCoefficients: \u001B[39m\u001B[38;5;130;01m\\n\u001B[39;00m\u001B[38;5;124m\"\u001B[39m, regr\u001B[38;5;241m.\u001B[39mcoef_)\n",
      "File \u001B[1;32m~\\AppData\\Local\\Packages\\PythonSoftwareFoundation.Python.3.10_qbz5n2kfra8p0\\LocalCache\\local-packages\\Python310\\site-packages\\sklearn\\base.py:1351\u001B[0m, in \u001B[0;36m_fit_context.<locals>.decorator.<locals>.wrapper\u001B[1;34m(estimator, *args, **kwargs)\u001B[0m\n\u001B[0;32m   1344\u001B[0m     estimator\u001B[38;5;241m.\u001B[39m_validate_params()\n\u001B[0;32m   1346\u001B[0m \u001B[38;5;28;01mwith\u001B[39;00m config_context(\n\u001B[0;32m   1347\u001B[0m     skip_parameter_validation\u001B[38;5;241m=\u001B[39m(\n\u001B[0;32m   1348\u001B[0m         prefer_skip_nested_validation \u001B[38;5;129;01mor\u001B[39;00m global_skip_validation\n\u001B[0;32m   1349\u001B[0m     )\n\u001B[0;32m   1350\u001B[0m ):\n\u001B[1;32m-> 1351\u001B[0m     \u001B[38;5;28;01mreturn\u001B[39;00m fit_method(estimator, \u001B[38;5;241m*\u001B[39margs, \u001B[38;5;241m*\u001B[39m\u001B[38;5;241m*\u001B[39mkwargs)\n",
      "File \u001B[1;32m~\\AppData\\Local\\Packages\\PythonSoftwareFoundation.Python.3.10_qbz5n2kfra8p0\\LocalCache\\local-packages\\Python310\\site-packages\\sklearn\\linear_model\\_base.py:578\u001B[0m, in \u001B[0;36mLinearRegression.fit\u001B[1;34m(self, X, y, sample_weight)\u001B[0m\n\u001B[0;32m    574\u001B[0m n_jobs_ \u001B[38;5;241m=\u001B[39m \u001B[38;5;28mself\u001B[39m\u001B[38;5;241m.\u001B[39mn_jobs\n\u001B[0;32m    576\u001B[0m accept_sparse \u001B[38;5;241m=\u001B[39m \u001B[38;5;28;01mFalse\u001B[39;00m \u001B[38;5;28;01mif\u001B[39;00m \u001B[38;5;28mself\u001B[39m\u001B[38;5;241m.\u001B[39mpositive \u001B[38;5;28;01melse\u001B[39;00m [\u001B[38;5;124m\"\u001B[39m\u001B[38;5;124mcsr\u001B[39m\u001B[38;5;124m\"\u001B[39m, \u001B[38;5;124m\"\u001B[39m\u001B[38;5;124mcsc\u001B[39m\u001B[38;5;124m\"\u001B[39m, \u001B[38;5;124m\"\u001B[39m\u001B[38;5;124mcoo\u001B[39m\u001B[38;5;124m\"\u001B[39m]\n\u001B[1;32m--> 578\u001B[0m X, y \u001B[38;5;241m=\u001B[39m \u001B[38;5;28;43mself\u001B[39;49m\u001B[38;5;241;43m.\u001B[39;49m\u001B[43m_validate_data\u001B[49m\u001B[43m(\u001B[49m\n\u001B[0;32m    579\u001B[0m \u001B[43m    \u001B[49m\u001B[43mX\u001B[49m\u001B[43m,\u001B[49m\u001B[43m \u001B[49m\u001B[43my\u001B[49m\u001B[43m,\u001B[49m\u001B[43m \u001B[49m\u001B[43maccept_sparse\u001B[49m\u001B[38;5;241;43m=\u001B[39;49m\u001B[43maccept_sparse\u001B[49m\u001B[43m,\u001B[49m\u001B[43m \u001B[49m\u001B[43my_numeric\u001B[49m\u001B[38;5;241;43m=\u001B[39;49m\u001B[38;5;28;43;01mTrue\u001B[39;49;00m\u001B[43m,\u001B[49m\u001B[43m \u001B[49m\u001B[43mmulti_output\u001B[49m\u001B[38;5;241;43m=\u001B[39;49m\u001B[38;5;28;43;01mTrue\u001B[39;49;00m\n\u001B[0;32m    580\u001B[0m \u001B[43m\u001B[49m\u001B[43m)\u001B[49m\n\u001B[0;32m    582\u001B[0m has_sw \u001B[38;5;241m=\u001B[39m sample_weight \u001B[38;5;129;01mis\u001B[39;00m \u001B[38;5;129;01mnot\u001B[39;00m \u001B[38;5;28;01mNone\u001B[39;00m\n\u001B[0;32m    583\u001B[0m \u001B[38;5;28;01mif\u001B[39;00m has_sw:\n",
      "File \u001B[1;32m~\\AppData\\Local\\Packages\\PythonSoftwareFoundation.Python.3.10_qbz5n2kfra8p0\\LocalCache\\local-packages\\Python310\\site-packages\\sklearn\\base.py:608\u001B[0m, in \u001B[0;36mBaseEstimator._validate_data\u001B[1;34m(self, X, y, reset, validate_separately, cast_to_ndarray, **check_params)\u001B[0m\n\u001B[0;32m    537\u001B[0m \u001B[38;5;28;01mdef\u001B[39;00m \u001B[38;5;21m_validate_data\u001B[39m(\n\u001B[0;32m    538\u001B[0m     \u001B[38;5;28mself\u001B[39m,\n\u001B[0;32m    539\u001B[0m     X\u001B[38;5;241m=\u001B[39m\u001B[38;5;124m\"\u001B[39m\u001B[38;5;124mno_validation\u001B[39m\u001B[38;5;124m\"\u001B[39m,\n\u001B[1;32m   (...)\u001B[0m\n\u001B[0;32m    544\u001B[0m     \u001B[38;5;241m*\u001B[39m\u001B[38;5;241m*\u001B[39mcheck_params,\n\u001B[0;32m    545\u001B[0m ):\n\u001B[0;32m    546\u001B[0m \u001B[38;5;250m    \u001B[39m\u001B[38;5;124;03m\"\"\"Validate input data and set or check the `n_features_in_` attribute.\u001B[39;00m\n\u001B[0;32m    547\u001B[0m \n\u001B[0;32m    548\u001B[0m \u001B[38;5;124;03m    Parameters\u001B[39;00m\n\u001B[1;32m   (...)\u001B[0m\n\u001B[0;32m    606\u001B[0m \u001B[38;5;124;03m        validated.\u001B[39;00m\n\u001B[0;32m    607\u001B[0m \u001B[38;5;124;03m    \"\"\"\u001B[39;00m\n\u001B[1;32m--> 608\u001B[0m     \u001B[38;5;28;43mself\u001B[39;49m\u001B[38;5;241;43m.\u001B[39;49m\u001B[43m_check_feature_names\u001B[49m\u001B[43m(\u001B[49m\u001B[43mX\u001B[49m\u001B[43m,\u001B[49m\u001B[43m \u001B[49m\u001B[43mreset\u001B[49m\u001B[38;5;241;43m=\u001B[39;49m\u001B[43mreset\u001B[49m\u001B[43m)\u001B[49m\n\u001B[0;32m    610\u001B[0m     \u001B[38;5;28;01mif\u001B[39;00m y \u001B[38;5;129;01mis\u001B[39;00m \u001B[38;5;28;01mNone\u001B[39;00m \u001B[38;5;129;01mand\u001B[39;00m \u001B[38;5;28mself\u001B[39m\u001B[38;5;241m.\u001B[39m_get_tags()[\u001B[38;5;124m\"\u001B[39m\u001B[38;5;124mrequires_y\u001B[39m\u001B[38;5;124m\"\u001B[39m]:\n\u001B[0;32m    611\u001B[0m         \u001B[38;5;28;01mraise\u001B[39;00m \u001B[38;5;167;01mValueError\u001B[39;00m(\n\u001B[0;32m    612\u001B[0m             \u001B[38;5;124mf\u001B[39m\u001B[38;5;124m\"\u001B[39m\u001B[38;5;124mThis \u001B[39m\u001B[38;5;132;01m{\u001B[39;00m\u001B[38;5;28mself\u001B[39m\u001B[38;5;241m.\u001B[39m\u001B[38;5;18m__class__\u001B[39m\u001B[38;5;241m.\u001B[39m\u001B[38;5;18m__name__\u001B[39m\u001B[38;5;132;01m}\u001B[39;00m\u001B[38;5;124m estimator \u001B[39m\u001B[38;5;124m\"\u001B[39m\n\u001B[0;32m    613\u001B[0m             \u001B[38;5;124m\"\u001B[39m\u001B[38;5;124mrequires y to be passed, but the target y is None.\u001B[39m\u001B[38;5;124m\"\u001B[39m\n\u001B[0;32m    614\u001B[0m         )\n",
      "File \u001B[1;32m~\\AppData\\Local\\Packages\\PythonSoftwareFoundation.Python.3.10_qbz5n2kfra8p0\\LocalCache\\local-packages\\Python310\\site-packages\\sklearn\\base.py:469\u001B[0m, in \u001B[0;36mBaseEstimator._check_feature_names\u001B[1;34m(self, X, reset)\u001B[0m\n\u001B[0;32m    449\u001B[0m \u001B[38;5;250m\u001B[39m\u001B[38;5;124;03m\"\"\"Set or check the `feature_names_in_` attribute.\u001B[39;00m\n\u001B[0;32m    450\u001B[0m \n\u001B[0;32m    451\u001B[0m \u001B[38;5;124;03m.. versionadded:: 1.0\u001B[39;00m\n\u001B[1;32m   (...)\u001B[0m\n\u001B[0;32m    465\u001B[0m \u001B[38;5;124;03m       should set `reset=False`.\u001B[39;00m\n\u001B[0;32m    466\u001B[0m \u001B[38;5;124;03m\"\"\"\u001B[39;00m\n\u001B[0;32m    468\u001B[0m \u001B[38;5;28;01mif\u001B[39;00m reset:\n\u001B[1;32m--> 469\u001B[0m     feature_names_in \u001B[38;5;241m=\u001B[39m \u001B[43m_get_feature_names\u001B[49m\u001B[43m(\u001B[49m\u001B[43mX\u001B[49m\u001B[43m)\u001B[49m\n\u001B[0;32m    470\u001B[0m     \u001B[38;5;28;01mif\u001B[39;00m feature_names_in \u001B[38;5;129;01mis\u001B[39;00m \u001B[38;5;129;01mnot\u001B[39;00m \u001B[38;5;28;01mNone\u001B[39;00m:\n\u001B[0;32m    471\u001B[0m         \u001B[38;5;28mself\u001B[39m\u001B[38;5;241m.\u001B[39mfeature_names_in_ \u001B[38;5;241m=\u001B[39m feature_names_in\n",
      "File \u001B[1;32m~\\AppData\\Local\\Packages\\PythonSoftwareFoundation.Python.3.10_qbz5n2kfra8p0\\LocalCache\\local-packages\\Python310\\site-packages\\sklearn\\utils\\validation.py:2142\u001B[0m, in \u001B[0;36m_get_feature_names\u001B[1;34m(X)\u001B[0m\n\u001B[0;32m   2140\u001B[0m \u001B[38;5;66;03m# mixed type of string and non-string is not supported\u001B[39;00m\n\u001B[0;32m   2141\u001B[0m \u001B[38;5;28;01mif\u001B[39;00m \u001B[38;5;28mlen\u001B[39m(types) \u001B[38;5;241m>\u001B[39m \u001B[38;5;241m1\u001B[39m \u001B[38;5;129;01mand\u001B[39;00m \u001B[38;5;124m\"\u001B[39m\u001B[38;5;124mstr\u001B[39m\u001B[38;5;124m\"\u001B[39m \u001B[38;5;129;01min\u001B[39;00m types:\n\u001B[1;32m-> 2142\u001B[0m     \u001B[38;5;28;01mraise\u001B[39;00m \u001B[38;5;167;01mTypeError\u001B[39;00m(\n\u001B[0;32m   2143\u001B[0m         \u001B[38;5;124m\"\u001B[39m\u001B[38;5;124mFeature names are only supported if all input features have string names, \u001B[39m\u001B[38;5;124m\"\u001B[39m\n\u001B[0;32m   2144\u001B[0m         \u001B[38;5;124mf\u001B[39m\u001B[38;5;124m\"\u001B[39m\u001B[38;5;124mbut your input has \u001B[39m\u001B[38;5;132;01m{\u001B[39;00mtypes\u001B[38;5;132;01m}\u001B[39;00m\u001B[38;5;124m as feature name / column name types. \u001B[39m\u001B[38;5;124m\"\u001B[39m\n\u001B[0;32m   2145\u001B[0m         \u001B[38;5;124m\"\u001B[39m\u001B[38;5;124mIf you want feature names to be stored and validated, you must convert \u001B[39m\u001B[38;5;124m\"\u001B[39m\n\u001B[0;32m   2146\u001B[0m         \u001B[38;5;124m\"\u001B[39m\u001B[38;5;124mthem all to strings, by using X.columns = X.columns.astype(str) for \u001B[39m\u001B[38;5;124m\"\u001B[39m\n\u001B[0;32m   2147\u001B[0m         \u001B[38;5;124m\"\u001B[39m\u001B[38;5;124mexample. Otherwise you can remove feature / column names from your input \u001B[39m\u001B[38;5;124m\"\u001B[39m\n\u001B[0;32m   2148\u001B[0m         \u001B[38;5;124m\"\u001B[39m\u001B[38;5;124mdata, or convert them all to a non-string data type.\u001B[39m\u001B[38;5;124m\"\u001B[39m\n\u001B[0;32m   2149\u001B[0m     )\n\u001B[0;32m   2151\u001B[0m \u001B[38;5;66;03m# Only feature names of all strings are supported\u001B[39;00m\n\u001B[0;32m   2152\u001B[0m \u001B[38;5;28;01mif\u001B[39;00m \u001B[38;5;28mlen\u001B[39m(types) \u001B[38;5;241m==\u001B[39m \u001B[38;5;241m1\u001B[39m \u001B[38;5;129;01mand\u001B[39;00m types[\u001B[38;5;241m0\u001B[39m] \u001B[38;5;241m==\u001B[39m \u001B[38;5;124m\"\u001B[39m\u001B[38;5;124mstr\u001B[39m\u001B[38;5;124m\"\u001B[39m:\n",
      "\u001B[1;31mTypeError\u001B[0m: Feature names are only supported if all input features have string names, but your input has ['int', 'str'] as feature name / column name types. If you want feature names to be stored and validated, you must convert them all to strings, by using X.columns = X.columns.astype(str) for example. Otherwise you can remove feature / column names from your input data, or convert them all to a non-string data type."
     ]
    }
   ],
   "source": [
    "\n",
    "small_djs[\"Date\"] = pd.to_datetime(small_djs[\"Date\"])\n",
    "small_djs[\"Date\"] = small_djs[\"Date\"].map(datetime.datetime.toordinal)\n",
    "small_djs.drop(0)\n",
    "#X.columns = X.columns.astype(str) \n",
    "\n",
    "\n",
    "small_djs_X = small_djs.drop([\"DJ Name\", \"New\", \"new_percent\", \"new_violations\", \"artist_bb\", \"artist_violations\", \"popular_violations\", \"song_violations\", \"Violations\"], axis=1)\n",
    "small_djs_Y = small_djs[\"Violations\"]\n",
    "\n",
    "\n",
    "small_djs_X_train = small_djs_X[:-20]\n",
    "small_djs_X_test = small_djs_X[-20:]\n",
    "small_djs_Y_train = small_djs_Y[:-20]\n",
    "small_djs_Y_test = small_djs_Y[-20:]\n",
    "\n",
    "regr = linear_model.LinearRegression()\n",
    "regr.fit(small_djs_X_train, small_djs_Y_train)\n",
    "small_djs_Y_pred = regr.predict(small_djs_X_test)\n",
    "print(\"Coefficients: \\n\", regr.coef_)\n",
    "print(f'Mean Squared Error: {mean_squared_error(small_djs_Y_test, small_djs_Y_pred)}')\n",
    "print(f'R squared: {r2_score(small_djs_Y_test, small_djs_Y_train)}')"
   ]
  },
  {
   "cell_type": "markdown",
   "metadata": {},
   "source": [
    "#### DJ Clustering"
   ]
  },
  {
   "cell_type": "code",
   "execution_count": 10,
   "outputs": [],
   "source": [
    "from sklearn.preprocessing import StandardScaler\n",
    "from sklearn.decomposition import PCA"
   ],
   "metadata": {
    "collapsed": false,
    "ExecuteTime": {
     "end_time": "2024-04-14T03:29:24.558073600Z",
     "start_time": "2024-04-14T03:29:24.548176200Z"
    }
   }
  },
  {
   "cell_type": "code",
   "execution_count": 70,
   "metadata": {
    "collapsed": false,
    "jupyter": {
     "outputs_hidden": false
    },
    "ExecuteTime": {
     "end_time": "2024-04-14T04:34:29.898826700Z",
     "start_time": "2024-04-14T04:34:29.690094800Z"
    }
   },
   "outputs": [
    {
     "name": "stdout",
     "output_type": "stream",
     "text": [
      "DJ Name              DJ Llu\n",
      "Total_Spins            6873\n",
      "Avg_Start        881.157407\n",
      "Avg_Duration     120.270624\n",
      "Avg_Spins         31.819444\n",
      "Blues                  14.0\n",
      "Classical              38.0\n",
      "Country                30.0\n",
      "Electro                13.0\n",
      "Electronic           1242.0\n",
      "Experimental            0.0\n",
      "Folk                   97.0\n",
      "Heavy Metal             0.0\n",
      "Hip Hop/Rap           477.0\n",
      "Jazz                  292.0\n",
      "Metal                   0.0\n",
      "R & B                   0.0\n",
      "R&B                     6.0\n",
      "R&B/Soul              760.0\n",
      "R&B/Soul/Funk           0.0\n",
      "Rap/Hip Hop             0.0\n",
      "Reggae                 69.0\n",
      "Reggaeton               0.0\n",
      "Rock                 2174.0\n",
      "World                  47.0\n",
      "Violations               33\n",
      "Name: 73, dtype: object\n",
      "DJ Name             JAH RED\n",
      "Total_Spins            7277\n",
      "Avg_Start        889.226054\n",
      "Avg_Duration     124.089597\n",
      "Avg_Spins         27.881226\n",
      "Blues                   1.0\n",
      "Classical               3.0\n",
      "Country                 0.0\n",
      "Electro                 2.0\n",
      "Electronic             66.0\n",
      "Experimental            0.0\n",
      "Folk                    0.0\n",
      "Heavy Metal             2.0\n",
      "Hip Hop/Rap           211.0\n",
      "Jazz                   94.0\n",
      "Metal                   0.0\n",
      "R & B                   0.0\n",
      "R&B                     0.0\n",
      "R&B/Soul               30.0\n",
      "R&B/Soul/Funk           0.0\n",
      "Rap/Hip Hop             0.0\n",
      "Reggae               2355.0\n",
      "Reggaeton              40.0\n",
      "Rock                   20.0\n",
      "World                2872.0\n",
      "Violations              261\n",
      "Name: 144, dtype: object\n"
     ]
    },
    {
     "data": {
      "text/plain": "<Figure size 640x480 with 1 Axes>",
      "image/png": "[encoded data removed]"
     },
     "metadata": {},
     "output_type": "display_data"
    }
   ],
   "source": [
    "def dimension_reduction(high_dim_df: pd.DataFrame) -> np.ndarray:\n",
    "    high_dim_df_numeric = high_dim_df[high_dim_df[\"DJ Name\"] != \"Program Director\"]\n",
    "    #high_dim_df_numeric = high_dim_df_numeric[high_dim_df[\"DJ Name\"] != \"JAH RED\"]\n",
    "    high_dim_df_numeric = high_dim_df_numeric.drop(columns=[\"DJ Name\"])\n",
    "\n",
    "    # Apply standard scalar\n",
    "    scalar = StandardScaler()\n",
    "    x = scalar.fit_transform(X=high_dim_df_numeric)\n",
    "\n",
    "    \"\"\"print(scalar.feature_names_in_)\n",
    "    print(scalar.var_)\n",
    "\n",
    "    fig, ax = plt.subplots()\n",
    "    plt.bar(x=scalar.feature_names_in_, height=scalar.var_)\n",
    "    ax.set_xticklabels(labels=scalar.feature_names_in_, rotation=90, fontsize=8)\"\"\"\n",
    "\n",
    "    # Apply PCA\n",
    "    pca = PCA(n_components=2)\n",
    "    x = pca.fit_transform(x)\n",
    "\n",
    "    max_x_idx = np.argmax(x[:, 0])\n",
    "    max_y_idx = np.argmax(x[:, 1])\n",
    "    print(high_dim_df.iloc[max_x_idx, :])\n",
    "    print(high_dim_df.iloc[max_y_idx, :])\n",
    "\n",
    "    return x\n",
    "\n",
    "def visualize(viz_data: np.ndarray):\n",
    "    x = viz_data[:, 0]\n",
    "    y = viz_data[:, 1]\n",
    "    plt.scatter(x, y, s=2)\n",
    "\n",
    "data = dimension_reduction(djs_df)\n",
    "visualize(data)"
   ]
  },
  {
   "cell_type": "markdown",
   "source": [
    "#### Hypothesis Testing"
   ],
   "metadata": {
    "collapsed": false
   }
  },
  {
   "cell_type": "code",
   "execution_count": null,
   "outputs": [],
   "source": [],
   "metadata": {
    "collapsed": false
   }
  }
 ],
 "metadata": {
  "kernelspec": {
   "display_name": "Python 3 (ipykernel)",
   "language": "python",
   "name": "python3"
  },
  "language_info": {
   "codemirror_mode": {
    "name": "ipython",
    "version": 3
   },
   "file_extension": ".py",
   "mimetype": "text/x-python",
   "name": "python",
   "nbconvert_exporter": "python",
   "pygments_lexer": "ipython3",
   "version": "3.10.11"
  }
 },
 "nbformat": 4,
 "nbformat_minor": 4
}
