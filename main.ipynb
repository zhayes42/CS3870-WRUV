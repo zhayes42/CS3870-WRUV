{
 "cells": [
  {
   "cell_type": "markdown",
   "metadata": {},
   "source": [
    "# WRUV Broadcasting Dataset Project\n",
    "Authors: Sydney White and Zachary Hayes"
   ]
  },
  {
   "cell_type": "code",
   "execution_count": 11,
   "metadata": {},
   "outputs": [],
   "source": [
    "import os\n",
    "import pandas as pd\n",
    "import numpy as np\n",
    "import matplotlib.pyplot as plt\n",
    "\n",
    "from bs4 import BeautifulSoup\n",
    "import requests\n",
    "\n",
    "import spotipy\n",
    "from spotipy.oauth2 import SpotifyClientCredentials"
   ]
  },
  {
   "cell_type": "markdown",
   "metadata": {},
   "source": [
    "## Data Collection, Cleaning, and Feature Engineering\n",
    "#### Initial Collection and Cleaning\n"
   ]
  },
  {
   "cell_type": "code",
   "execution_count": 12,
   "metadata": {},
   "outputs": [
    {
     "data": {
      "text/html": [
       "<div>\n",
       "<style scoped>\n",
       "    .dataframe tbody tr th:only-of-type {\n",
       "        vertical-align: middle;\n",
       "    }\n",
       "\n",
       "    .dataframe tbody tr th {\n",
       "        vertical-align: top;\n",
       "    }\n",
       "\n",
       "    .dataframe thead th {\n",
       "        text-align: right;\n",
       "    }\n",
       "</style>\n",
       "<table border=\"1\" class=\"dataframe\">\n",
       "  <thead>\n",
       "    <tr style=\"text-align: right;\">\n",
       "      <th></th>\n",
       "      <th>Playlist Title</th>\n",
       "      <th>DJ ID</th>\n",
       "      <th>DJ Name</th>\n",
       "      <th>Date</th>\n",
       "      <th>Time</th>\n",
       "      <th>Artist</th>\n",
       "      <th>Song</th>\n",
       "      <th>Release</th>\n",
       "      <th>New</th>\n",
       "      <th>Local</th>\n",
       "      <th>Genre</th>\n",
       "      <th>Label</th>\n",
       "      <th>UPC</th>\n",
       "    </tr>\n",
       "  </thead>\n",
       "  <tbody>\n",
       "    <tr>\n",
       "      <th>0</th>\n",
       "      <td>Our Intent is All for Your Delight</td>\n",
       "      <td>64617</td>\n",
       "      <td>Dan Kirk</td>\n",
       "      <td>Sep 23, 2019</td>\n",
       "      <td>8:04:12 AM</td>\n",
       "      <td>Khruangbin</td>\n",
       "      <td>People Everywhere (Still Alive)</td>\n",
       "      <td>The Universe Smiles Upon You</td>\n",
       "      <td>NaN</td>\n",
       "      <td>NaN</td>\n",
       "      <td>Rock</td>\n",
       "      <td>Night Time Stories</td>\n",
       "      <td>4523132552217.0</td>\n",
       "    </tr>\n",
       "    <tr>\n",
       "      <th>1</th>\n",
       "      <td>Our Intent is All for Your Delight</td>\n",
       "      <td>64617</td>\n",
       "      <td>Dan Kirk</td>\n",
       "      <td>Sep 23, 2019</td>\n",
       "      <td>8:07:21 AM</td>\n",
       "      <td>The Bubs</td>\n",
       "      <td>Golden Thread</td>\n",
       "      <td>Golden Thread</td>\n",
       "      <td>NaN</td>\n",
       "      <td>NaN</td>\n",
       "      <td>Rock</td>\n",
       "      <td>The Bubs</td>\n",
       "      <td>859732310242.0</td>\n",
       "    </tr>\n",
       "    <tr>\n",
       "      <th>2</th>\n",
       "      <td>Our Intent is All for Your Delight</td>\n",
       "      <td>64617</td>\n",
       "      <td>Dan Kirk</td>\n",
       "      <td>Sep 23, 2019</td>\n",
       "      <td>8:11:38 AM</td>\n",
       "      <td>Y La Bamba</td>\n",
       "      <td>Rios Sueltos</td>\n",
       "      <td>Entre Los Dos</td>\n",
       "      <td>N</td>\n",
       "      <td>NaN</td>\n",
       "      <td>Rock</td>\n",
       "      <td>Tender Loving Empire</td>\n",
       "      <td>703669152959.0</td>\n",
       "    </tr>\n",
       "    <tr>\n",
       "      <th>3</th>\n",
       "      <td>Our Intent is All for Your Delight</td>\n",
       "      <td>64617</td>\n",
       "      <td>Dan Kirk</td>\n",
       "      <td>Sep 23, 2019</td>\n",
       "      <td>8:15:42 AM</td>\n",
       "      <td>Allah-Las</td>\n",
       "      <td>Prazer Em Te Conhecer</td>\n",
       "      <td>LAHS</td>\n",
       "      <td>NaN</td>\n",
       "      <td>NaN</td>\n",
       "      <td>Rock</td>\n",
       "      <td>Mexican Summer</td>\n",
       "      <td>184923126068.0</td>\n",
       "    </tr>\n",
       "    <tr>\n",
       "      <th>4</th>\n",
       "      <td>Our Intent is All for Your Delight</td>\n",
       "      <td>64617</td>\n",
       "      <td>Dan Kirk</td>\n",
       "      <td>Sep 23, 2019</td>\n",
       "      <td>8:20:57 AM</td>\n",
       "      <td>Devendra Banhart</td>\n",
       "      <td>My Boyfriend's in the Band</td>\n",
       "      <td>Ma</td>\n",
       "      <td>NaN</td>\n",
       "      <td>NaN</td>\n",
       "      <td>Rock</td>\n",
       "      <td>Nonesuch</td>\n",
       "      <td>75597924053.0</td>\n",
       "    </tr>\n",
       "    <tr>\n",
       "      <th>...</th>\n",
       "      <td>...</td>\n",
       "      <td>...</td>\n",
       "      <td>...</td>\n",
       "      <td>...</td>\n",
       "      <td>...</td>\n",
       "      <td>...</td>\n",
       "      <td>...</td>\n",
       "      <td>...</td>\n",
       "      <td>...</td>\n",
       "      <td>...</td>\n",
       "      <td>...</td>\n",
       "      <td>...</td>\n",
       "      <td>...</td>\n",
       "    </tr>\n",
       "    <tr>\n",
       "      <th>284735</th>\n",
       "      <td>Long Distance Runner</td>\n",
       "      <td>160029</td>\n",
       "      <td>DJ Squared</td>\n",
       "      <td>Mar 22, 2024</td>\n",
       "      <td>4:05:08 PM</td>\n",
       "      <td>Bill Laswell</td>\n",
       "      <td>Buhala</td>\n",
       "      <td>Means of Deliverance</td>\n",
       "      <td>NaN</td>\n",
       "      <td>NaN</td>\n",
       "      <td>Jazz</td>\n",
       "      <td>Innerhythmic</td>\n",
       "      <td>0804699102423</td>\n",
       "    </tr>\n",
       "    <tr>\n",
       "      <th>284736</th>\n",
       "      <td>Long Distance Runner</td>\n",
       "      <td>160029</td>\n",
       "      <td>DJ Squared</td>\n",
       "      <td>Mar 22, 2024</td>\n",
       "      <td>4:08:25 PM</td>\n",
       "      <td>Remy Le Boeuf</td>\n",
       "      <td>Little Song</td>\n",
       "      <td>Heartland Radio</td>\n",
       "      <td>NaN</td>\n",
       "      <td>NaN</td>\n",
       "      <td>Jazz</td>\n",
       "      <td>ORCHARD - SoundSpore Records</td>\n",
       "      <td>0197190669947</td>\n",
       "    </tr>\n",
       "    <tr>\n",
       "      <th>284737</th>\n",
       "      <td>Long Distance Runner</td>\n",
       "      <td>160029</td>\n",
       "      <td>DJ Squared</td>\n",
       "      <td>Mar 22, 2024</td>\n",
       "      <td>4:14:10 PM</td>\n",
       "      <td>strongboi</td>\n",
       "      <td>fool around</td>\n",
       "      <td>fool around</td>\n",
       "      <td>NaN</td>\n",
       "      <td>NaN</td>\n",
       "      <td>NaN</td>\n",
       "      <td>strongboi</td>\n",
       "      <td>5059449065564</td>\n",
       "    </tr>\n",
       "    <tr>\n",
       "      <th>284738</th>\n",
       "      <td>Long Distance Runner</td>\n",
       "      <td>160029</td>\n",
       "      <td>DJ Squared</td>\n",
       "      <td>Mar 22, 2024</td>\n",
       "      <td>4:18:52 PM</td>\n",
       "      <td>Miya Folick</td>\n",
       "      <td>Bad Thing</td>\n",
       "      <td>Bad Thing</td>\n",
       "      <td>NaN</td>\n",
       "      <td>NaN</td>\n",
       "      <td>NaN</td>\n",
       "      <td>Nettwerk Music Group</td>\n",
       "      <td>0067003373463</td>\n",
       "    </tr>\n",
       "    <tr>\n",
       "      <th>284739</th>\n",
       "      <td>Long Distance Runner</td>\n",
       "      <td>160029</td>\n",
       "      <td>DJ Squared</td>\n",
       "      <td>Mar 22, 2024</td>\n",
       "      <td>4:19:30 PM</td>\n",
       "      <td>Grateful Shred</td>\n",
       "      <td>Bertha (Live at Belly up, Solana Beach, Califo...</td>\n",
       "      <td>Belly up (Live, 12/30/21)</td>\n",
       "      <td>NaN</td>\n",
       "      <td>NaN</td>\n",
       "      <td>Rock</td>\n",
       "      <td>Grateful Shred Industries</td>\n",
       "      <td>0859766490941</td>\n",
       "    </tr>\n",
       "  </tbody>\n",
       "</table>\n",
       "<p>284740 rows × 13 columns</p>\n",
       "</div>"
      ],
      "text/plain": [
       "                            Playlist Title   DJ ID     DJ Name          Date  \\\n",
       "0       Our Intent is All for Your Delight   64617    Dan Kirk  Sep 23, 2019   \n",
       "1       Our Intent is All for Your Delight   64617    Dan Kirk  Sep 23, 2019   \n",
       "2       Our Intent is All for Your Delight   64617    Dan Kirk  Sep 23, 2019   \n",
       "3       Our Intent is All for Your Delight   64617    Dan Kirk  Sep 23, 2019   \n",
       "4       Our Intent is All for Your Delight   64617    Dan Kirk  Sep 23, 2019   \n",
       "...                                    ...     ...         ...           ...   \n",
       "284735                Long Distance Runner  160029  DJ Squared  Mar 22, 2024   \n",
       "284736                Long Distance Runner  160029  DJ Squared  Mar 22, 2024   \n",
       "284737                Long Distance Runner  160029  DJ Squared  Mar 22, 2024   \n",
       "284738                Long Distance Runner  160029  DJ Squared  Mar 22, 2024   \n",
       "284739                Long Distance Runner  160029  DJ Squared  Mar 22, 2024   \n",
       "\n",
       "              Time            Artist  \\\n",
       "0       8:04:12 AM        Khruangbin   \n",
       "1       8:07:21 AM          The Bubs   \n",
       "2       8:11:38 AM        Y La Bamba   \n",
       "3       8:15:42 AM         Allah-Las   \n",
       "4       8:20:57 AM  Devendra Banhart   \n",
       "...            ...               ...   \n",
       "284735  4:05:08 PM      Bill Laswell   \n",
       "284736  4:08:25 PM     Remy Le Boeuf   \n",
       "284737  4:14:10 PM         strongboi   \n",
       "284738  4:18:52 PM       Miya Folick   \n",
       "284739  4:19:30 PM    Grateful Shred   \n",
       "\n",
       "                                                     Song  \\\n",
       "0                         People Everywhere (Still Alive)   \n",
       "1                                           Golden Thread   \n",
       "2                                            Rios Sueltos   \n",
       "3                                   Prazer Em Te Conhecer   \n",
       "4                              My Boyfriend's in the Band   \n",
       "...                                                   ...   \n",
       "284735                                             Buhala   \n",
       "284736                                        Little Song   \n",
       "284737                                        fool around   \n",
       "284738                                          Bad Thing   \n",
       "284739  Bertha (Live at Belly up, Solana Beach, Califo...   \n",
       "\n",
       "                             Release  New Local Genre  \\\n",
       "0       The Universe Smiles Upon You  NaN   NaN  Rock   \n",
       "1                      Golden Thread  NaN   NaN  Rock   \n",
       "2                      Entre Los Dos    N   NaN  Rock   \n",
       "3                               LAHS  NaN   NaN  Rock   \n",
       "4                                 Ma  NaN   NaN  Rock   \n",
       "...                              ...  ...   ...   ...   \n",
       "284735          Means of Deliverance  NaN   NaN  Jazz   \n",
       "284736               Heartland Radio  NaN   NaN  Jazz   \n",
       "284737                   fool around  NaN   NaN   NaN   \n",
       "284738                     Bad Thing  NaN   NaN   NaN   \n",
       "284739     Belly up (Live, 12/30/21)  NaN   NaN  Rock   \n",
       "\n",
       "                               Label              UPC  \n",
       "0                 Night Time Stories  4523132552217.0  \n",
       "1                           The Bubs   859732310242.0  \n",
       "2               Tender Loving Empire   703669152959.0  \n",
       "3                     Mexican Summer   184923126068.0  \n",
       "4                           Nonesuch    75597924053.0  \n",
       "...                              ...              ...  \n",
       "284735                  Innerhythmic    0804699102423  \n",
       "284736  ORCHARD - SoundSpore Records    0197190669947  \n",
       "284737                     strongboi    5059449065564  \n",
       "284738          Nettwerk Music Group    0067003373463  \n",
       "284739     Grateful Shred Industries    0859766490941  \n",
       "\n",
       "[284740 rows x 13 columns]"
      ]
     },
     "execution_count": 12,
     "metadata": {},
     "output_type": "execute_result"
    }
   ],
   "source": [
    "# Collect data CSVs into a single dataframe\n",
    "dfs = []\n",
    "directory = \"dataset\" \n",
    "for file in os.listdir(directory):\n",
    "    dfs.append(pd.read_csv(f'{directory}/{file}'))\n",
    "df = pd.concat(dfs, axis=0)\n",
    "df.sort_values(\"Date-time\", inplace=True, ignore_index=True)\n",
    "# Drop columns that we already know we don't need\n",
    "df.drop([\"Playlist Category\", \"Playlist Duration\", \"DJ Email\", \"Date-time\", \"Composer\"], axis=1, inplace=True)\n",
    "df"
   ]
  },
  {
   "cell_type": "code",
   "execution_count": 13,
   "metadata": {},
   "outputs": [
    {
     "data": {
      "text/plain": [
       "Playlist Title         0\n",
       "DJ ID                  0\n",
       "DJ Name                0\n",
       "Date                   0\n",
       "Time                   0\n",
       "Artist                 4\n",
       "Song                   2\n",
       "Release               50\n",
       "New               252062\n",
       "Local             281156\n",
       "Genre              97305\n",
       "Label               1137\n",
       "UPC                28232\n",
       "dtype: int64"
      ]
     },
     "execution_count": 13,
     "metadata": {},
     "output_type": "execute_result"
    }
   ],
   "source": [
    "# Count null values\n",
    "df.isna().sum()\n"
   ]
  },
  {
   "cell_type": "code",
   "execution_count": 14,
   "metadata": {},
   "outputs": [
    {
     "data": {
      "text/plain": [
       "Playlist Title        0\n",
       "DJ ID                 0\n",
       "DJ Name               0\n",
       "Date                  0\n",
       "Time                  0\n",
       "Artist                0\n",
       "Song                  0\n",
       "Release               0\n",
       "New                   0\n",
       "Local                 0\n",
       "Genre             97305\n",
       "Label              1095\n",
       "UPC               28182\n",
       "dtype: int64"
      ]
     },
     "execution_count": 14,
     "metadata": {},
     "output_type": "execute_result"
    }
   ],
   "source": [
    "# Clean the null values from the boolean columns New and Local\n",
    "df[\"New\"] = df[\"New\"].map({\"N\": 1, np.nan: 0})\n",
    "df[\"Local\"] = df[\"Local\"].map({\"L\": 1, np.nan: 0})\n",
    "\n",
    "# Since there are only 56 instances where artist, song, or release are null,\n",
    "# we feel comfortable dropping those instances\n",
    "df = df.dropna(subset=[\"Artist\", \"Song\", \"Release\"])\n",
    "\n",
    "# Count null values again\n",
    "df.isna().sum()\n"
   ]
  },
  {
   "cell_type": "markdown",
   "metadata": {},
   "source": [
    "#### Additional Collection: Genre and Billboard Hot 100 Policy Violations"
   ]
  },
  {
   "cell_type": "code",
   "execution_count": 16,
   "metadata": {},
   "outputs": [
    {
     "data": {
      "text/plain": [
       "\"\\nhits = []\\n\\nfor i in range(len(df)):\\n    hits.append(web_scrape_bb(df['Artist'].loc[i]))\\ndf['billboards hits'] = hits\\ndf\\n\""
      ]
     },
     "execution_count": 16,
     "metadata": {},
     "output_type": "execute_result"
    }
   ],
   "source": [
    "# function to scrape billboard site given artist name \n",
    "def web_scrape_bb(artist_name):\n",
    "    # convert artist name to - if spaces\n",
    "    artist_name = artist_name.lower()\n",
    "    artist_name = artist_name.replace(' ', '-')\n",
    "    base = 'https://www.billboard.com/artist/'\n",
    "    url = base + artist_name\n",
    "    # need to add in try/excepts for if the artist is too obscure to have a billboard page \n",
    "    page = requests.get(url)\n",
    "    if page.reason == \"Not Found\":\n",
    "        return 0\n",
    "    else:\n",
    "        soup = BeautifulSoup(page.content, \"html.parser\")\n",
    "        num2 = soup.find_all(\"div\", class_=\"lrv-u-background-color-brand-accent-yellow lrv-u-height-100p lrv-u-flex lrv-u-flex-direction-column lrv-u-justify-content-center lrv-u-align-items-center u-padding-tb-075\" )\n",
    "        results = soup.find_all(\"span\", class_=\"c-span a-font-primary-bold u-font-size-34 u-line-height-120 u-letter-spacing-0063 artist-stat-3\")\n",
    "        if len(results) < 1: \n",
    "            return 0 \n",
    "        #print(results[0].text)\n",
    "        hits = results[0].text.strip()\n",
    "    \n",
    "    \n",
    "        # if statement below is an attempt to get the songs that have been on the billboard top 100 (to see if there is a direct policy violation)\n",
    "        # unfortunately, these tables are populated with javascript and difficult to scrape \n",
    "        #if hits != '0':\n",
    "        #    url = url + \"/chart-history/hsi\"\n",
    "        #    page = requests.get(url)\n",
    "        #    soup = BeautifulSoup(page.content, \"html.parser\")\n",
    "        #    songs = soup.find_all()\n",
    "        \n",
    "        # NOTE: currently coded to write flag or has or has not charted by artist not song \n",
    "        if hits > 1:\n",
    "            return 1\n",
    "        return 0\n",
    "\n",
    "\n",
    "'''\n",
    "hits = []\n",
    "\n",
    "for i in range(len(df)):\n",
    "    hits.append(web_scrape_bb(df['Artist'].loc[i]))\n",
    "df['billboards hits'] = hits\n",
    "df\n",
    "'''\n",
    "    "
   ]
  },
  {
   "cell_type": "code",
   "execution_count": 17,
   "metadata": {},
   "outputs": [
    {
     "name": "stdout",
     "output_type": "stream",
     "text": [
      "Radiohead is associated with ['alternative rock', 'art rock', 'melancholia', 'oxford indie', 'permanent wave', 'rock']\n",
      "rock\n",
      "the search for California by Joni Mitchell was not found\n"
     ]
    }
   ],
   "source": [
    "# global variable for valid genres in spinitron \n",
    "GENRES = df['Genre'].unique().tolist()\n",
    "for g in range(len(GENRES)):\n",
    "    GENRES[g] = (str(GENRES[g])).lower()\n",
    "    \n",
    "# function to interface with Spotify Web API app (created with id and secret below) STILL WIP!\n",
    "def spotify_connect():\n",
    "    # technically insecure to have client secret displayed like this (environment variable)\n",
    "    CLIENT_ID = '344d3b062e344710a5bdb8427358a31d'\n",
    "    CLIENT_SECRET = '9f886dde51184f989b1aff4f5ffb21f8'\n",
    "    AUTH_URL = 'https://accounts.spotify.com/api/token'\n",
    "\n",
    "    auth_manager = SpotifyClientCredentials(\n",
    "        client_id=CLIENT_ID,\n",
    "        client_secret=CLIENT_SECRET,\n",
    "        requests_session=True)\n",
    "\n",
    "    sp = spotipy.Spotify(auth_manager=auth_manager)\n",
    "    # this is our connection which we will need for any future query \n",
    "    return sp\n",
    "\n",
    "def get_genre_by_artist(sp, artist_name):\n",
    "    # spotify queries are all based on Spotify URI IDs and usually return in JSON\n",
    "    results = sp.search(q='artist:' + artist_name, type='artist', limit=10)\n",
    "    # make sure that the result is for the artist we want\n",
    "    result_name = results['artists']['items'][0]['name']\n",
    "    i = 0\n",
    "    while (result_name != artist_name) & (i < 10):\n",
    "        result_name = results['artists']['items'][i]['name']\n",
    "        i += 1\n",
    "    if (result_name == artist_name):\n",
    "        genres = results['artists']['items'][i]['genres'] # for top result (in this case accurate, but probably not always)\n",
    "        id = results['artists']['items'][i]['id']\n",
    "\n",
    "        print(f'{artist_name} is associated with {genres}')\n",
    "        for genre in genres:\n",
    "            if genre in GENRES:\n",
    "                #print(f'solution = {genre}')\n",
    "                return genre \n",
    "    return 'NA'\n",
    "\n",
    "# next step: instead of returning result_string, return dictionary of values OR empty dictionary of NAs?\n",
    "def spotify_search_song(sp, artist_name, song_name):\n",
    "    # when i search california, it gives me teenage dream by katy Perry so not sure how well this works\n",
    "    results = sp.search(q='track:' + song_name, type='track', limit=10)\n",
    "    results_title = results['tracks']['items'][0]['name']\n",
    "    results_album = results['tracks']['items'][0]['album']['name']\n",
    "    results_artist = results['tracks']['items'][0]['artists'][0]['name']\n",
    "    # then if this results title matches our song name and the artist matches our artist, find the audio features and add them (by spotify uri id for song)\n",
    "    i = 0\n",
    "    while (results_artist != artist_name) & (results_title != song_name) & (i < 10):\n",
    "        results_title = results['tracks']['items'][i]['name']\n",
    "        results_artist = results['tracks']['items'][i]['artists'][0]['name']\n",
    "        i += 1\n",
    "    if (results_artist == artist_name) & (results_title == song_name):\n",
    "        uri = results['tracks']['items'][i]['id'] \n",
    "        # these are audio features!! like danceability, energy, key, loudness..\n",
    "        # stored in an array of length 1 containing a dictionary (key = audio feature, value = value of that feature)\n",
    "        features = sp.audio_features(uri)\n",
    "        result_string =  f'TOP RESULT: {results_title} from {results_album} by {results_artist}. URI: {uri}'\n",
    "        return result_string\n",
    "    result_string = f'the search for {song_name} by {artist_name} was not found'\n",
    "    return result_string\n",
    "    \n",
    "token = spotify_connect()\n",
    "# note: Radiohead was in the example online, I did not think oh yes, Radiohead lol\n",
    "print(get_genre_by_artist(token, 'Radiohead'))\n",
    "print(spotify_search_song(token, 'Joni Mitchell', 'California'))"
   ]
  },
  {
   "cell_type": "code",
   "execution_count": 18,
   "metadata": {},
   "outputs": [
    {
     "name": "stdout",
     "output_type": "stream",
     "text": [
      "51782\n",
      "count     139217\n",
      "unique        20\n",
      "top         Rock\n",
      "freq       55573\n",
      "Name: Genre, dtype: object\n"
     ]
    },
    {
     "data": {
      "text/plain": [
       "'\\nfor r in range(len(df)):\\n    if df.loc[r][\"Genre\"] == \"nan\":\\n        df.loc[r][\"Genre\"] = get_genre_by_artists(token, df.loc[r][\"Artist\"])\\n        print(df.loc[r][\"Artist\"], df.loc[r][\"Genre\"])\\nprint(\\'done\\')\\nprint(df[\"Genre\"].isna().sum())\\n'"
      ]
     },
     "execution_count": 18,
     "metadata": {},
     "output_type": "execute_result"
    }
   ],
   "source": [
    "print(df[\"Genre\"].isna().sum())\n",
    "print(df[\"Genre\"].describe())\n",
    "\n",
    "#df[\"Genre\"].fillna(get_genre_by_artist(token, df[\"Artist\"]))\n",
    "\n",
    "# working on using the functions already written to fill missing values but not working yet\n",
    "\n",
    "'''\n",
    "for r in range(len(df)):\n",
    "    if df.loc[r][\"Genre\"] == \"nan\":\n",
    "        df.loc[r][\"Genre\"] = get_genre_by_artists(token, df.loc[r][\"Artist\"])\n",
    "        print(df.loc[r][\"Artist\"], df.loc[r][\"Genre\"])\n",
    "print('done')\n",
    "print(df[\"Genre\"].isna().sum())\n",
    "'''\n",
    "\n",
    "\n"
   ]
  },
  {
   "cell_type": "code",
   "execution_count": null,
   "metadata": {},
   "outputs": [],
   "source": []
  },
  {
   "cell_type": "markdown",
   "metadata": {},
   "source": [
    "#### Data Wrangling and Visualization"
   ]
  },
  {
   "cell_type": "code",
   "execution_count": 19,
   "metadata": {},
   "outputs": [
    {
     "data": {
      "text/plain": [
       "<BarContainer object of 20 artists>"
      ]
     },
     "execution_count": 19,
     "metadata": {},
     "output_type": "execute_result"
    },
    {
     "data": {
      "image/png": "[encoded data removed]",
      "text/plain": [
       "<Figure size 640x480 with 1 Axes>"
      ]
     },
     "metadata": {},
     "output_type": "display_data"
    }
   ],
   "source": [
    "# Visualize genre distribution\n",
    "genre_counts = df[\"Genre\"].value_counts()\n",
    "plt.title(\"Genre Distribution\")\n",
    "plt.xlabel(\"Genre\")\n",
    "plt.ylabel(\"Count\")\n",
    "plt.xticks(rotation=90)\n",
    "plt.bar(genre_counts.index, genre_counts, color=plt.cm.Paired(np.arange(len(genre_counts))))\n",
    "\n",
    "# TODO: Combine genres\n"
   ]
  },
  {
   "cell_type": "code",
   "execution_count": 39,
   "metadata": {},
   "outputs": [
    {
     "data": {
      "text/plain": [
       "<Axes: >"
      ]
     },
     "execution_count": 39,
     "metadata": {},
     "output_type": "execute_result"
    },
    {
     "data": {
      "image/png": "[encoded data removed]",
      "text/plain": [
       "<Figure size 640x480 with 1 Axes>"
      ]
     },
     "metadata": {},
     "output_type": "display_data"
    }
   ],
   "source": [
    "# Visualize local and new distributions\n",
    "total_spins = df.shape[0]\n",
    "num_new = df[\"New\"].sum()\n",
    "num_local = df[\"Local\"].sum()\n",
    "new_and_local = pd.DataFrame({\"New\": [total_spins - num_new, num_new],\n",
    "                              \"Local\": [total_spins - num_local, num_local],\n",
    "                              \"Value\": [\"No\", \"Yes\"]}).set_index(\"Value\")\n",
    "new_and_local.T.plot.bar(stacked=True, rot=0)\n",
    "    "
   ]
  },
  {
   "cell_type": "code",
   "execution_count": null,
   "metadata": {},
   "outputs": [],
   "source": [
    "def spins_to_shows(df):\n",
    "    \"\"\"\n",
    "    df - a pandas DataFrame of Spinitron spin records\n",
    "    Returns: a dataframe of shows\n",
    "    \"\"\"\n",
    "    \n",
    "\n",
    "\n",
    "df = spins_to_shows(df)"
   ]
  },
  {
   "cell_type": "markdown",
   "metadata": {},
   "source": [
    "## Data Modeling"
   ]
  },
  {
   "cell_type": "markdown",
   "metadata": {},
   "source": [
    "#### Policy Violation Linear Regression"
   ]
  },
  {
   "cell_type": "markdown",
   "metadata": {},
   "source": [
    "#### DJ Clustering"
   ]
  }
 ],
 "metadata": {
  "kernelspec": {
   "display_name": "Python 3 (ipykernel)",
   "language": "python",
   "name": "python3"
  },
  "language_info": {
   "codemirror_mode": {
    "name": "ipython",
    "version": 3
   },
   "file_extension": ".py",
   "mimetype": "text/x-python",
   "name": "python",
   "nbconvert_exporter": "python",
   "pygments_lexer": "ipython3",
   "version": "3.11.5"
  }
 },
 "nbformat": 4,
 "nbformat_minor": 4
}
